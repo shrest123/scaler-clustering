{
 "cells": [
  {
   "cell_type": "code",
   "execution_count": 1,
   "id": "13c23b04",
   "metadata": {},
   "outputs": [],
   "source": [
    "import pandas as pd\n",
    "import seaborn as sns\n",
    "import numpy as np\n",
    "import matplotlib.pyplot as plt"
   ]
  },
  {
   "cell_type": "code",
   "execution_count": 2,
   "id": "871e9ec6",
   "metadata": {},
   "outputs": [],
   "source": [
    "df=pd.read_csv(\"clustering.csv\")\n"
   ]
  },
  {
   "cell_type": "code",
   "execution_count": 3,
   "id": "e08d96d9",
   "metadata": {},
   "outputs": [
    {
     "data": {
      "text/html": [
       "<div>\n",
       "<style scoped>\n",
       "    .dataframe tbody tr th:only-of-type {\n",
       "        vertical-align: middle;\n",
       "    }\n",
       "\n",
       "    .dataframe tbody tr th {\n",
       "        vertical-align: top;\n",
       "    }\n",
       "\n",
       "    .dataframe thead th {\n",
       "        text-align: right;\n",
       "    }\n",
       "</style>\n",
       "<table border=\"1\" class=\"dataframe\">\n",
       "  <thead>\n",
       "    <tr style=\"text-align: right;\">\n",
       "      <th></th>\n",
       "      <th>Unnamed: 0</th>\n",
       "      <th>company_hash</th>\n",
       "      <th>email_hash</th>\n",
       "      <th>orgyear</th>\n",
       "      <th>ctc</th>\n",
       "      <th>job_position</th>\n",
       "      <th>ctc_updated_year</th>\n",
       "    </tr>\n",
       "  </thead>\n",
       "  <tbody>\n",
       "    <tr>\n",
       "      <th>0</th>\n",
       "      <td>0</td>\n",
       "      <td>atrgxnnt xzaxv</td>\n",
       "      <td>6de0a4417d18ab14334c3f43397fc13b30c35149d70c05...</td>\n",
       "      <td>2016.0</td>\n",
       "      <td>1100000</td>\n",
       "      <td>Other</td>\n",
       "      <td>2020.0</td>\n",
       "    </tr>\n",
       "    <tr>\n",
       "      <th>1</th>\n",
       "      <td>1</td>\n",
       "      <td>qtrxvzwt xzegwgbb rxbxnta</td>\n",
       "      <td>b0aaf1ac138b53cb6e039ba2c3d6604a250d02d5145c10...</td>\n",
       "      <td>2018.0</td>\n",
       "      <td>449999</td>\n",
       "      <td>FullStack Engineer</td>\n",
       "      <td>2019.0</td>\n",
       "    </tr>\n",
       "    <tr>\n",
       "      <th>2</th>\n",
       "      <td>2</td>\n",
       "      <td>ojzwnvwnxw vx</td>\n",
       "      <td>4860c670bcd48fb96c02a4b0ae3608ae6fdd98176112e9...</td>\n",
       "      <td>2015.0</td>\n",
       "      <td>2000000</td>\n",
       "      <td>Backend Engineer</td>\n",
       "      <td>2020.0</td>\n",
       "    </tr>\n",
       "    <tr>\n",
       "      <th>3</th>\n",
       "      <td>3</td>\n",
       "      <td>ngpgutaxv</td>\n",
       "      <td>effdede7a2e7c2af664c8a31d9346385016128d66bbc58...</td>\n",
       "      <td>2017.0</td>\n",
       "      <td>700000</td>\n",
       "      <td>Backend Engineer</td>\n",
       "      <td>2019.0</td>\n",
       "    </tr>\n",
       "    <tr>\n",
       "      <th>4</th>\n",
       "      <td>4</td>\n",
       "      <td>qxen sqghu</td>\n",
       "      <td>6ff54e709262f55cb999a1c1db8436cb2055d8f79ab520...</td>\n",
       "      <td>2017.0</td>\n",
       "      <td>1400000</td>\n",
       "      <td>FullStack Engineer</td>\n",
       "      <td>2019.0</td>\n",
       "    </tr>\n",
       "  </tbody>\n",
       "</table>\n",
       "</div>"
      ],
      "text/plain": [
       "   Unnamed: 0               company_hash  \\\n",
       "0           0             atrgxnnt xzaxv   \n",
       "1           1  qtrxvzwt xzegwgbb rxbxnta   \n",
       "2           2              ojzwnvwnxw vx   \n",
       "3           3                  ngpgutaxv   \n",
       "4           4                 qxen sqghu   \n",
       "\n",
       "                                          email_hash  orgyear      ctc  \\\n",
       "0  6de0a4417d18ab14334c3f43397fc13b30c35149d70c05...   2016.0  1100000   \n",
       "1  b0aaf1ac138b53cb6e039ba2c3d6604a250d02d5145c10...   2018.0   449999   \n",
       "2  4860c670bcd48fb96c02a4b0ae3608ae6fdd98176112e9...   2015.0  2000000   \n",
       "3  effdede7a2e7c2af664c8a31d9346385016128d66bbc58...   2017.0   700000   \n",
       "4  6ff54e709262f55cb999a1c1db8436cb2055d8f79ab520...   2017.0  1400000   \n",
       "\n",
       "         job_position  ctc_updated_year  \n",
       "0               Other            2020.0  \n",
       "1  FullStack Engineer            2019.0  \n",
       "2    Backend Engineer            2020.0  \n",
       "3    Backend Engineer            2019.0  \n",
       "4  FullStack Engineer            2019.0  "
      ]
     },
     "execution_count": 3,
     "metadata": {},
     "output_type": "execute_result"
    }
   ],
   "source": [
    "df.head()"
   ]
  },
  {
   "cell_type": "code",
   "execution_count": 4,
   "id": "c2b364e7",
   "metadata": {},
   "outputs": [
    {
     "data": {
      "text/plain": [
       "(205843, 7)"
      ]
     },
     "execution_count": 4,
     "metadata": {},
     "output_type": "execute_result"
    }
   ],
   "source": [
    "df.shape"
   ]
  },
  {
   "cell_type": "code",
   "execution_count": 5,
   "id": "cae232c1",
   "metadata": {},
   "outputs": [
    {
     "name": "stdout",
     "output_type": "stream",
     "text": [
      "<class 'pandas.core.frame.DataFrame'>\n",
      "RangeIndex: 205843 entries, 0 to 205842\n",
      "Data columns (total 7 columns):\n",
      " #   Column            Non-Null Count   Dtype  \n",
      "---  ------            --------------   -----  \n",
      " 0   Unnamed: 0        205843 non-null  int64  \n",
      " 1   company_hash      205799 non-null  object \n",
      " 2   email_hash        205843 non-null  object \n",
      " 3   orgyear           205757 non-null  float64\n",
      " 4   ctc               205843 non-null  int64  \n",
      " 5   job_position      153281 non-null  object \n",
      " 6   ctc_updated_year  205843 non-null  float64\n",
      "dtypes: float64(2), int64(2), object(3)\n",
      "memory usage: 11.0+ MB\n"
     ]
    }
   ],
   "source": [
    "df.info()"
   ]
  },
  {
   "cell_type": "code",
   "execution_count": 6,
   "id": "e4396be6",
   "metadata": {},
   "outputs": [
    {
     "data": {
      "text/plain": [
       "Unnamed: 0           0.000000\n",
       "company_hash         0.021380\n",
       "email_hash           0.000000\n",
       "orgyear              0.041797\n",
       "ctc                  0.000000\n",
       "job_position        34.291269\n",
       "ctc_updated_year     0.000000\n",
       "dtype: float64"
      ]
     },
     "execution_count": 6,
     "metadata": {},
     "output_type": "execute_result"
    }
   ],
   "source": [
    "df.isnull().sum()/df.count() *100"
   ]
  },
  {
   "cell_type": "code",
   "execution_count": 7,
   "id": "59d45a89",
   "metadata": {},
   "outputs": [
    {
     "data": {
      "text/plain": [
       "Index(['Unnamed: 0', 'company_hash', 'email_hash', 'orgyear', 'ctc',\n",
       "       'job_position', 'ctc_updated_year'],\n",
       "      dtype='object')"
      ]
     },
     "execution_count": 7,
     "metadata": {},
     "output_type": "execute_result"
    }
   ],
   "source": [
    "df.columns"
   ]
  },
  {
   "cell_type": "code",
   "execution_count": 8,
   "id": "e9161829",
   "metadata": {},
   "outputs": [],
   "source": [
    "df.drop(columns=['Unnamed: 0','email_hash'],inplace=True)"
   ]
  },
  {
   "cell_type": "code",
   "execution_count": 9,
   "id": "5fad704e",
   "metadata": {},
   "outputs": [
    {
     "data": {
      "text/html": [
       "<div>\n",
       "<style scoped>\n",
       "    .dataframe tbody tr th:only-of-type {\n",
       "        vertical-align: middle;\n",
       "    }\n",
       "\n",
       "    .dataframe tbody tr th {\n",
       "        vertical-align: top;\n",
       "    }\n",
       "\n",
       "    .dataframe thead th {\n",
       "        text-align: right;\n",
       "    }\n",
       "</style>\n",
       "<table border=\"1\" class=\"dataframe\">\n",
       "  <thead>\n",
       "    <tr style=\"text-align: right;\">\n",
       "      <th></th>\n",
       "      <th>company_hash</th>\n",
       "      <th>orgyear</th>\n",
       "      <th>ctc</th>\n",
       "      <th>job_position</th>\n",
       "      <th>ctc_updated_year</th>\n",
       "    </tr>\n",
       "  </thead>\n",
       "  <tbody>\n",
       "    <tr>\n",
       "      <th>0</th>\n",
       "      <td>atrgxnnt xzaxv</td>\n",
       "      <td>2016.0</td>\n",
       "      <td>1100000</td>\n",
       "      <td>Other</td>\n",
       "      <td>2020.0</td>\n",
       "    </tr>\n",
       "    <tr>\n",
       "      <th>1</th>\n",
       "      <td>qtrxvzwt xzegwgbb rxbxnta</td>\n",
       "      <td>2018.0</td>\n",
       "      <td>449999</td>\n",
       "      <td>FullStack Engineer</td>\n",
       "      <td>2019.0</td>\n",
       "    </tr>\n",
       "    <tr>\n",
       "      <th>2</th>\n",
       "      <td>ojzwnvwnxw vx</td>\n",
       "      <td>2015.0</td>\n",
       "      <td>2000000</td>\n",
       "      <td>Backend Engineer</td>\n",
       "      <td>2020.0</td>\n",
       "    </tr>\n",
       "    <tr>\n",
       "      <th>3</th>\n",
       "      <td>ngpgutaxv</td>\n",
       "      <td>2017.0</td>\n",
       "      <td>700000</td>\n",
       "      <td>Backend Engineer</td>\n",
       "      <td>2019.0</td>\n",
       "    </tr>\n",
       "    <tr>\n",
       "      <th>4</th>\n",
       "      <td>qxen sqghu</td>\n",
       "      <td>2017.0</td>\n",
       "      <td>1400000</td>\n",
       "      <td>FullStack Engineer</td>\n",
       "      <td>2019.0</td>\n",
       "    </tr>\n",
       "  </tbody>\n",
       "</table>\n",
       "</div>"
      ],
      "text/plain": [
       "                company_hash  orgyear      ctc        job_position  \\\n",
       "0             atrgxnnt xzaxv   2016.0  1100000               Other   \n",
       "1  qtrxvzwt xzegwgbb rxbxnta   2018.0   449999  FullStack Engineer   \n",
       "2              ojzwnvwnxw vx   2015.0  2000000    Backend Engineer   \n",
       "3                  ngpgutaxv   2017.0   700000    Backend Engineer   \n",
       "4                 qxen sqghu   2017.0  1400000  FullStack Engineer   \n",
       "\n",
       "   ctc_updated_year  \n",
       "0            2020.0  \n",
       "1            2019.0  \n",
       "2            2020.0  \n",
       "3            2019.0  \n",
       "4            2019.0  "
      ]
     },
     "execution_count": 9,
     "metadata": {},
     "output_type": "execute_result"
    }
   ],
   "source": [
    "df.head()"
   ]
  },
  {
   "cell_type": "code",
   "execution_count": 10,
   "id": "0f538234",
   "metadata": {},
   "outputs": [
    {
     "data": {
      "text/plain": [
       "1017"
      ]
     },
     "execution_count": 10,
     "metadata": {},
     "output_type": "execute_result"
    }
   ],
   "source": [
    "df['job_position'].nunique()"
   ]
  },
  {
   "cell_type": "code",
   "execution_count": 11,
   "id": "832e3805",
   "metadata": {},
   "outputs": [
    {
     "data": {
      "text/plain": [
       "Backend Engineer              43554\n",
       "FullStack Engineer            24717\n",
       "Other                         18071\n",
       "Frontend Engineer             10417\n",
       "Engineering Leadership         6870\n",
       "                              ...  \n",
       "Intern-data analyst               1\n",
       "Member Technical Staff III        1\n",
       "UI Developer Intern               1\n",
       "ERP Application Developer         1\n",
       "programmer analyst                1\n",
       "Name: job_position, Length: 1017, dtype: int64"
      ]
     },
     "execution_count": 11,
     "metadata": {},
     "output_type": "execute_result"
    }
   ],
   "source": [
    "df['job_position'].value_counts()"
   ]
  },
  {
   "cell_type": "code",
   "execution_count": 12,
   "id": "ad58c0cc",
   "metadata": {},
   "outputs": [],
   "source": [
    "import re\n",
    "def rmv(st):\n",
    "    st=re.sub('[^A-Za-z]+','',st)\n",
    "    return st"
   ]
  },
  {
   "cell_type": "markdown",
   "id": "7c41a356",
   "metadata": {},
   "source": [
    "## done on job position"
   ]
  },
  {
   "cell_type": "code",
   "execution_count": 13,
   "id": "6fbb5667",
   "metadata": {},
   "outputs": [],
   "source": [
    "df['job_position']=df['job_position'].apply(lambda x:rmv(str(x)))\n",
    "df['job_position']=df['job_position'].apply(lambda x:x.lower() )"
   ]
  },
  {
   "cell_type": "code",
   "execution_count": 14,
   "id": "f1a9fb4c",
   "metadata": {},
   "outputs": [
    {
     "data": {
      "text/plain": [
       "company_hash        52531\n",
       "orgyear             52538\n",
       "ctc                 52562\n",
       "job_position        52562\n",
       "ctc_updated_year    52562\n",
       "dtype: int64"
      ]
     },
     "execution_count": 14,
     "metadata": {},
     "output_type": "execute_result"
    }
   ],
   "source": [
    "df[df['job_position']==\"nan\"].count()"
   ]
  },
  {
   "cell_type": "code",
   "execution_count": 15,
   "id": "1bb8cf4c",
   "metadata": {},
   "outputs": [
    {
     "data": {
      "text/html": [
       "<div>\n",
       "<style scoped>\n",
       "    .dataframe tbody tr th:only-of-type {\n",
       "        vertical-align: middle;\n",
       "    }\n",
       "\n",
       "    .dataframe tbody tr th {\n",
       "        vertical-align: top;\n",
       "    }\n",
       "\n",
       "    .dataframe thead th {\n",
       "        text-align: right;\n",
       "    }\n",
       "</style>\n",
       "<table border=\"1\" class=\"dataframe\">\n",
       "  <thead>\n",
       "    <tr style=\"text-align: right;\">\n",
       "      <th></th>\n",
       "      <th>company_hash</th>\n",
       "      <th>orgyear</th>\n",
       "      <th>ctc</th>\n",
       "      <th>job_position</th>\n",
       "      <th>ctc_updated_year</th>\n",
       "    </tr>\n",
       "  </thead>\n",
       "  <tbody>\n",
       "    <tr>\n",
       "      <th>0</th>\n",
       "      <td>atrgxnnt xzaxv</td>\n",
       "      <td>2016.0</td>\n",
       "      <td>1100000</td>\n",
       "      <td>other</td>\n",
       "      <td>2020.0</td>\n",
       "    </tr>\n",
       "    <tr>\n",
       "      <th>1</th>\n",
       "      <td>qtrxvzwt xzegwgbb rxbxnta</td>\n",
       "      <td>2018.0</td>\n",
       "      <td>449999</td>\n",
       "      <td>fullstackengineer</td>\n",
       "      <td>2019.0</td>\n",
       "    </tr>\n",
       "    <tr>\n",
       "      <th>2</th>\n",
       "      <td>ojzwnvwnxw vx</td>\n",
       "      <td>2015.0</td>\n",
       "      <td>2000000</td>\n",
       "      <td>backendengineer</td>\n",
       "      <td>2020.0</td>\n",
       "    </tr>\n",
       "    <tr>\n",
       "      <th>3</th>\n",
       "      <td>ngpgutaxv</td>\n",
       "      <td>2017.0</td>\n",
       "      <td>700000</td>\n",
       "      <td>backendengineer</td>\n",
       "      <td>2019.0</td>\n",
       "    </tr>\n",
       "    <tr>\n",
       "      <th>4</th>\n",
       "      <td>qxen sqghu</td>\n",
       "      <td>2017.0</td>\n",
       "      <td>1400000</td>\n",
       "      <td>fullstackengineer</td>\n",
       "      <td>2019.0</td>\n",
       "    </tr>\n",
       "    <tr>\n",
       "      <th>...</th>\n",
       "      <td>...</td>\n",
       "      <td>...</td>\n",
       "      <td>...</td>\n",
       "      <td>...</td>\n",
       "      <td>...</td>\n",
       "    </tr>\n",
       "    <tr>\n",
       "      <th>205838</th>\n",
       "      <td>vuurt xzw</td>\n",
       "      <td>2008.0</td>\n",
       "      <td>220000</td>\n",
       "      <td>nan</td>\n",
       "      <td>2019.0</td>\n",
       "    </tr>\n",
       "    <tr>\n",
       "      <th>205839</th>\n",
       "      <td>husqvawgb</td>\n",
       "      <td>2017.0</td>\n",
       "      <td>500000</td>\n",
       "      <td>nan</td>\n",
       "      <td>2020.0</td>\n",
       "    </tr>\n",
       "    <tr>\n",
       "      <th>205840</th>\n",
       "      <td>vwwgrxnt</td>\n",
       "      <td>2021.0</td>\n",
       "      <td>700000</td>\n",
       "      <td>nan</td>\n",
       "      <td>2021.0</td>\n",
       "    </tr>\n",
       "    <tr>\n",
       "      <th>205841</th>\n",
       "      <td>zgn vuurxwvmrt</td>\n",
       "      <td>2019.0</td>\n",
       "      <td>5100000</td>\n",
       "      <td>nan</td>\n",
       "      <td>2019.0</td>\n",
       "    </tr>\n",
       "    <tr>\n",
       "      <th>205842</th>\n",
       "      <td>bgqsvz onvzrtj</td>\n",
       "      <td>2014.0</td>\n",
       "      <td>1240000</td>\n",
       "      <td>nan</td>\n",
       "      <td>2016.0</td>\n",
       "    </tr>\n",
       "  </tbody>\n",
       "</table>\n",
       "<p>205843 rows × 5 columns</p>\n",
       "</div>"
      ],
      "text/plain": [
       "                     company_hash  orgyear      ctc       job_position  \\\n",
       "0                  atrgxnnt xzaxv   2016.0  1100000              other   \n",
       "1       qtrxvzwt xzegwgbb rxbxnta   2018.0   449999  fullstackengineer   \n",
       "2                   ojzwnvwnxw vx   2015.0  2000000    backendengineer   \n",
       "3                       ngpgutaxv   2017.0   700000    backendengineer   \n",
       "4                      qxen sqghu   2017.0  1400000  fullstackengineer   \n",
       "...                           ...      ...      ...                ...   \n",
       "205838                  vuurt xzw   2008.0   220000                nan   \n",
       "205839                  husqvawgb   2017.0   500000                nan   \n",
       "205840                   vwwgrxnt   2021.0   700000                nan   \n",
       "205841             zgn vuurxwvmrt   2019.0  5100000                nan   \n",
       "205842             bgqsvz onvzrtj   2014.0  1240000                nan   \n",
       "\n",
       "        ctc_updated_year  \n",
       "0                 2020.0  \n",
       "1                 2019.0  \n",
       "2                 2020.0  \n",
       "3                 2019.0  \n",
       "4                 2019.0  \n",
       "...                  ...  \n",
       "205838            2019.0  \n",
       "205839            2020.0  \n",
       "205840            2021.0  \n",
       "205841            2019.0  \n",
       "205842            2016.0  \n",
       "\n",
       "[205843 rows x 5 columns]"
      ]
     },
     "execution_count": 15,
     "metadata": {},
     "output_type": "execute_result"
    }
   ],
   "source": [
    "df"
   ]
  },
  {
   "cell_type": "code",
   "execution_count": 16,
   "id": "fd263b96",
   "metadata": {},
   "outputs": [
    {
     "data": {
      "text/plain": [
       "(205843, 5)"
      ]
     },
     "execution_count": 16,
     "metadata": {},
     "output_type": "execute_result"
    }
   ],
   "source": [
    "df.shape"
   ]
  },
  {
   "cell_type": "code",
   "execution_count": 17,
   "id": "c48c99d0",
   "metadata": {},
   "outputs": [],
   "source": [
    "df.drop_duplicates(inplace=True)"
   ]
  },
  {
   "cell_type": "code",
   "execution_count": 18,
   "id": "a40161dc",
   "metadata": {},
   "outputs": [
    {
     "data": {
      "text/plain": [
       "(188243, 5)"
      ]
     },
     "execution_count": 18,
     "metadata": {},
     "output_type": "execute_result"
    }
   ],
   "source": [
    "df.shape"
   ]
  },
  {
   "cell_type": "code",
   "execution_count": 19,
   "id": "369462b2",
   "metadata": {},
   "outputs": [],
   "source": [
    "k=df[df['job_position']==\"\"]"
   ]
  },
  {
   "cell_type": "code",
   "execution_count": 20,
   "id": "4653e152",
   "metadata": {},
   "outputs": [
    {
     "data": {
      "text/plain": [
       "company_hash        9\n",
       "orgyear             9\n",
       "ctc                 9\n",
       "job_position        9\n",
       "ctc_updated_year    9\n",
       "dtype: int64"
      ]
     },
     "execution_count": 20,
     "metadata": {},
     "output_type": "execute_result"
    }
   ],
   "source": [
    "k.count()"
   ]
  },
  {
   "cell_type": "markdown",
   "id": "8dff8c70",
   "metadata": {},
   "source": [
    "## on compan_hash"
   ]
  },
  {
   "cell_type": "code",
   "execution_count": 21,
   "id": "ed616a32",
   "metadata": {},
   "outputs": [
    {
     "data": {
      "text/plain": [
       "nvnv wgzohrnvzwj otqcxwto           4284\n",
       "xzegojo                             3043\n",
       "vbvkgz                              3005\n",
       "wgszxkvzn                           2262\n",
       "zgn vuurxwvmrt vwwghzn              2209\n",
       "                                    ... \n",
       "vzvzny ntwyzgrgsxto                    1\n",
       "rtd zxbmrt ogrhnxgzo                   1\n",
       "mxrttnv ucnrna                         1\n",
       "uvnvzlvrx                              1\n",
       "vbvqv qvlv ugftq ojontbo rxbxnta       1\n",
       "Name: company_hash, Length: 37299, dtype: int64"
      ]
     },
     "execution_count": 21,
     "metadata": {},
     "output_type": "execute_result"
    }
   ],
   "source": [
    "df['company_hash'].value_counts()"
   ]
  },
  {
   "cell_type": "code",
   "execution_count": 22,
   "id": "fae03329",
   "metadata": {},
   "outputs": [
    {
     "data": {
      "text/plain": [
       "37299"
      ]
     },
     "execution_count": 22,
     "metadata": {},
     "output_type": "execute_result"
    }
   ],
   "source": [
    "df['company_hash'].nunique()"
   ]
  },
  {
   "cell_type": "code",
   "execution_count": 23,
   "id": "8c8786e4",
   "metadata": {},
   "outputs": [
    {
     "data": {
      "text/plain": [
       "44"
      ]
     },
     "execution_count": 23,
     "metadata": {},
     "output_type": "execute_result"
    }
   ],
   "source": [
    "df['company_hash'].isnull().sum()"
   ]
  },
  {
   "cell_type": "code",
   "execution_count": 24,
   "id": "46348b5f",
   "metadata": {},
   "outputs": [],
   "source": [
    "df['company_hash']=df['company_hash'].apply(lambda x: rmv(str(x)))\n",
    "df['company_hash']=df['company_hash'].apply(lambda x: x.lower())\n",
    "df['company_hash']=df['company_hash'].apply(lambda x:x.strip())\n"
   ]
  },
  {
   "cell_type": "code",
   "execution_count": 25,
   "id": "c0517392",
   "metadata": {},
   "outputs": [
    {
     "data": {
      "text/plain": [
       "company_hash        44\n",
       "orgyear             44\n",
       "ctc                 44\n",
       "job_position        44\n",
       "ctc_updated_year    44\n",
       "dtype: int64"
      ]
     },
     "execution_count": 25,
     "metadata": {},
     "output_type": "execute_result"
    }
   ],
   "source": [
    "df[df['company_hash']==\"nan\"].count()"
   ]
  },
  {
   "cell_type": "code",
   "execution_count": 26,
   "id": "313a6627",
   "metadata": {},
   "outputs": [
    {
     "data": {
      "text/plain": [
       "(188243, 5)"
      ]
     },
     "execution_count": 26,
     "metadata": {},
     "output_type": "execute_result"
    }
   ],
   "source": [
    "df.shape"
   ]
  },
  {
   "cell_type": "code",
   "execution_count": 27,
   "id": "065c509d",
   "metadata": {},
   "outputs": [],
   "source": [
    "df.drop_duplicates(inplace=True)"
   ]
  },
  {
   "cell_type": "code",
   "execution_count": 28,
   "id": "767e24fc",
   "metadata": {},
   "outputs": [
    {
     "data": {
      "text/plain": [
       "(188220, 5)"
      ]
     },
     "execution_count": 28,
     "metadata": {},
     "output_type": "execute_result"
    }
   ],
   "source": [
    "df.shape"
   ]
  },
  {
   "cell_type": "code",
   "execution_count": 29,
   "id": "13453487",
   "metadata": {},
   "outputs": [],
   "source": [
    "# analysis"
   ]
  },
  {
   "cell_type": "code",
   "execution_count": 30,
   "id": "858c4bca",
   "metadata": {},
   "outputs": [],
   "source": [
    "k=df"
   ]
  },
  {
   "cell_type": "code",
   "execution_count": 31,
   "id": "0dd4183e",
   "metadata": {},
   "outputs": [
    {
     "data": {
      "text/html": [
       "<div>\n",
       "<style scoped>\n",
       "    .dataframe tbody tr th:only-of-type {\n",
       "        vertical-align: middle;\n",
       "    }\n",
       "\n",
       "    .dataframe tbody tr th {\n",
       "        vertical-align: top;\n",
       "    }\n",
       "\n",
       "    .dataframe thead th {\n",
       "        text-align: right;\n",
       "    }\n",
       "</style>\n",
       "<table border=\"1\" class=\"dataframe\">\n",
       "  <thead>\n",
       "    <tr style=\"text-align: right;\">\n",
       "      <th></th>\n",
       "      <th>orgyear</th>\n",
       "      <th>ctc</th>\n",
       "      <th>ctc_updated_year</th>\n",
       "    </tr>\n",
       "  </thead>\n",
       "  <tbody>\n",
       "    <tr>\n",
       "      <th>count</th>\n",
       "      <td>188134.000000</td>\n",
       "      <td>1.882200e+05</td>\n",
       "      <td>188220.000000</td>\n",
       "    </tr>\n",
       "    <tr>\n",
       "      <th>mean</th>\n",
       "      <td>2014.614105</td>\n",
       "      <td>2.388712e+06</td>\n",
       "      <td>2019.576384</td>\n",
       "    </tr>\n",
       "    <tr>\n",
       "      <th>std</th>\n",
       "      <td>66.471593</td>\n",
       "      <td>1.221510e+07</td>\n",
       "      <td>1.343435</td>\n",
       "    </tr>\n",
       "    <tr>\n",
       "      <th>min</th>\n",
       "      <td>0.000000</td>\n",
       "      <td>2.000000e+00</td>\n",
       "      <td>2015.000000</td>\n",
       "    </tr>\n",
       "    <tr>\n",
       "      <th>25%</th>\n",
       "      <td>2013.000000</td>\n",
       "      <td>6.000000e+05</td>\n",
       "      <td>2019.000000</td>\n",
       "    </tr>\n",
       "    <tr>\n",
       "      <th>50%</th>\n",
       "      <td>2016.000000</td>\n",
       "      <td>1.000000e+06</td>\n",
       "      <td>2020.000000</td>\n",
       "    </tr>\n",
       "    <tr>\n",
       "      <th>75%</th>\n",
       "      <td>2018.000000</td>\n",
       "      <td>1.750000e+06</td>\n",
       "      <td>2021.000000</td>\n",
       "    </tr>\n",
       "    <tr>\n",
       "      <th>max</th>\n",
       "      <td>20165.000000</td>\n",
       "      <td>1.000150e+09</td>\n",
       "      <td>2021.000000</td>\n",
       "    </tr>\n",
       "  </tbody>\n",
       "</table>\n",
       "</div>"
      ],
      "text/plain": [
       "             orgyear           ctc  ctc_updated_year\n",
       "count  188134.000000  1.882200e+05     188220.000000\n",
       "mean     2014.614105  2.388712e+06       2019.576384\n",
       "std        66.471593  1.221510e+07          1.343435\n",
       "min         0.000000  2.000000e+00       2015.000000\n",
       "25%      2013.000000  6.000000e+05       2019.000000\n",
       "50%      2016.000000  1.000000e+06       2020.000000\n",
       "75%      2018.000000  1.750000e+06       2021.000000\n",
       "max     20165.000000  1.000150e+09       2021.000000"
      ]
     },
     "execution_count": 31,
     "metadata": {},
     "output_type": "execute_result"
    }
   ],
   "source": [
    "df.describe()"
   ]
  },
  {
   "cell_type": "code",
   "execution_count": null,
   "id": "f7e42ae9",
   "metadata": {},
   "outputs": [],
   "source": []
  },
  {
   "cell_type": "markdown",
   "id": "b6b2e194",
   "metadata": {},
   "source": [
    "## Filling null imputation by target imputation"
   ]
  },
  {
   "cell_type": "code",
   "execution_count": 32,
   "id": "a49ed395",
   "metadata": {},
   "outputs": [],
   "source": [
    " ## org year"
   ]
  },
  {
   "cell_type": "code",
   "execution_count": 33,
   "id": "cc58e4a9",
   "metadata": {},
   "outputs": [
    {
     "data": {
      "text/plain": [
       "86"
      ]
     },
     "execution_count": 33,
     "metadata": {},
     "output_type": "execute_result"
    }
   ],
   "source": [
    "df['orgyear'].isnull().sum()"
   ]
  },
  {
   "cell_type": "code",
   "execution_count": 34,
   "id": "49b13008",
   "metadata": {},
   "outputs": [],
   "source": [
    "comp_year=df.groupby('company_hash')['orgyear']"
   ]
  },
  {
   "cell_type": "code",
   "execution_count": 35,
   "id": "2a860bb6",
   "metadata": {},
   "outputs": [
    {
     "data": {
      "text/plain": [
       "<pandas.core.groupby.generic.SeriesGroupBy object at 0x000001C92EEFC2E0>"
      ]
     },
     "execution_count": 35,
     "metadata": {},
     "output_type": "execute_result"
    }
   ],
   "source": [
    "comp_year"
   ]
  },
  {
   "cell_type": "code",
   "execution_count": 36,
   "id": "28a9b617",
   "metadata": {},
   "outputs": [],
   "source": [
    "## comp_year.get_group('ngpgutaxv')"
   ]
  },
  {
   "cell_type": "code",
   "execution_count": 37,
   "id": "0a2bd86e",
   "metadata": {},
   "outputs": [],
   "source": [
    "comp_year=df.groupby('company_hash')['orgyear'].median()"
   ]
  },
  {
   "cell_type": "code",
   "execution_count": 38,
   "id": "a3cc3775",
   "metadata": {},
   "outputs": [
    {
     "data": {
      "text/plain": [
       "company_hash\n",
       "                  2018.0\n",
       "a                 2017.0\n",
       "aaaa              2018.0\n",
       "aabx              2003.0\n",
       "aabxzegqbvnxwo    2014.0\n",
       "Name: orgyear, dtype: float64"
      ]
     },
     "execution_count": 38,
     "metadata": {},
     "output_type": "execute_result"
    }
   ],
   "source": [
    "comp_year.head()"
   ]
  },
  {
   "cell_type": "code",
   "execution_count": 39,
   "id": "8647b74c",
   "metadata": {},
   "outputs": [],
   "source": [
    "def fill(comp_year,name,col):\n",
    "    if np.isnan(col):\n",
    "        return(comp_year[name])\n",
    "    else:\n",
    "        return(col)"
   ]
  },
  {
   "cell_type": "code",
   "execution_count": null,
   "id": "d2ada424",
   "metadata": {},
   "outputs": [],
   "source": []
  },
  {
   "cell_type": "code",
   "execution_count": 40,
   "id": "8dd385cf",
   "metadata": {},
   "outputs": [],
   "source": [
    "#k=df.apply(lambda x: hi(x['orgname']))"
   ]
  },
  {
   "cell_type": "code",
   "execution_count": 41,
   "id": "767dc3d8",
   "metadata": {},
   "outputs": [],
   "source": [
    "df['orgyear']=df.apply(lambda x: fill(comp_year,x['company_hash'],x['orgyear']),axis=1)"
   ]
  },
  {
   "cell_type": "code",
   "execution_count": 42,
   "id": "7cef7a12",
   "metadata": {},
   "outputs": [
    {
     "data": {
      "text/plain": [
       "company_hash        xgmgnntwyzgrgsxtoucnrnafttdwtrnxamxnogrhnxgzoo...\n",
       "orgyear                                                           0.0\n",
       "ctc                                                         130293000\n",
       "job_position        othersupportengineernanotherotherbackendengine...\n",
       "ctc_updated_year                                              52502.0\n",
       "dtype: object"
      ]
     },
     "execution_count": 42,
     "metadata": {},
     "output_type": "execute_result"
    }
   ],
   "source": [
    "df[df['orgyear'].isnull()].sum()"
   ]
  },
  {
   "cell_type": "code",
   "execution_count": 43,
   "id": "e73bb0e0",
   "metadata": {},
   "outputs": [],
   "source": [
    "df.drop(df[df['orgyear'].isnull()].index,inplace=True)"
   ]
  },
  {
   "cell_type": "code",
   "execution_count": 44,
   "id": "6b7da4a9",
   "metadata": {},
   "outputs": [
    {
     "data": {
      "text/plain": [
       "0"
      ]
     },
     "execution_count": 44,
     "metadata": {},
     "output_type": "execute_result"
    }
   ],
   "source": [
    "df['orgyear'].isnull().sum()"
   ]
  },
  {
   "cell_type": "markdown",
   "id": "9f2d9165",
   "metadata": {},
   "source": [
    "## Checking outliers in orgyear"
   ]
  },
  {
   "cell_type": "code",
   "execution_count": 45,
   "id": "995cbf7b",
   "metadata": {},
   "outputs": [],
   "source": [
    "q1=df['orgyear'].quantile(0.25)\n",
    "q3=df['orgyear'].quantile(0.75)\n",
    "iqr=q3-q1"
   ]
  },
  {
   "cell_type": "code",
   "execution_count": 46,
   "id": "6e451ab0",
   "metadata": {},
   "outputs": [],
   "source": [
    "min=q1-1.5*iqr\n",
    "max=q3+1.5*iqr"
   ]
  },
  {
   "cell_type": "code",
   "execution_count": 47,
   "id": "c5f644c2",
   "metadata": {},
   "outputs": [
    {
     "data": {
      "text/plain": [
       "2005.5"
      ]
     },
     "execution_count": 47,
     "metadata": {},
     "output_type": "execute_result"
    }
   ],
   "source": [
    "min"
   ]
  },
  {
   "cell_type": "code",
   "execution_count": 48,
   "id": "2404d38e",
   "metadata": {},
   "outputs": [
    {
     "data": {
      "text/plain": [
       "2025.5"
      ]
     },
     "execution_count": 48,
     "metadata": {},
     "output_type": "execute_result"
    }
   ],
   "source": [
    "max"
   ]
  },
  {
   "cell_type": "code",
   "execution_count": 49,
   "id": "db3dfede",
   "metadata": {},
   "outputs": [],
   "source": [
    "df=df[ (df['orgyear']>=min) & (df['orgyear']<=max ) ] "
   ]
  },
  {
   "cell_type": "code",
   "execution_count": 50,
   "id": "b1ed0663",
   "metadata": {},
   "outputs": [
    {
     "data": {
      "text/plain": [
       "(180469, 5)"
      ]
     },
     "execution_count": 50,
     "metadata": {},
     "output_type": "execute_result"
    }
   ],
   "source": [
    "df.shape"
   ]
  },
  {
   "cell_type": "markdown",
   "id": "04c002d4",
   "metadata": {},
   "source": [
    "## ctc\n"
   ]
  },
  {
   "cell_type": "code",
   "execution_count": 51,
   "id": "5ba08f1c",
   "metadata": {},
   "outputs": [
    {
     "data": {
      "text/plain": [
       "0"
      ]
     },
     "execution_count": 51,
     "metadata": {},
     "output_type": "execute_result"
    }
   ],
   "source": [
    "df['ctc'].isnull().sum()"
   ]
  },
  {
   "cell_type": "code",
   "execution_count": 52,
   "id": "68cc1913",
   "metadata": {},
   "outputs": [],
   "source": [
    "# no null value then for outliers"
   ]
  },
  {
   "cell_type": "code",
   "execution_count": 53,
   "id": "77cf7b65",
   "metadata": {},
   "outputs": [],
   "source": [
    "Q1=df['ctc'].quantile(0.25)\n",
    "Q3=df['ctc'].quantile(0.75)\n",
    "IQR1=Q3-Q1"
   ]
  },
  {
   "cell_type": "code",
   "execution_count": 54,
   "id": "478d9908",
   "metadata": {},
   "outputs": [],
   "source": [
    "max1=Q3+1.5*IQR1\n",
    "min1=Q1-1.5*IQR1"
   ]
  },
  {
   "cell_type": "code",
   "execution_count": 55,
   "id": "02c2c7b4",
   "metadata": {},
   "outputs": [],
   "source": [
    "df=df[(df['ctc']>=min1 ) & (df['ctc']<=max1)]"
   ]
  },
  {
   "cell_type": "markdown",
   "id": "04ac4925",
   "metadata": {},
   "source": [
    "##  updated year"
   ]
  },
  {
   "cell_type": "code",
   "execution_count": 56,
   "id": "a5c87280",
   "metadata": {},
   "outputs": [
    {
     "data": {
      "text/plain": [
       "0"
      ]
     },
     "execution_count": 56,
     "metadata": {},
     "output_type": "execute_result"
    }
   ],
   "source": [
    "df['ctc_updated_year'].isnull().sum()"
   ]
  },
  {
   "cell_type": "code",
   "execution_count": 57,
   "id": "259c4087",
   "metadata": {},
   "outputs": [
    {
     "data": {
      "text/plain": [
       "1"
      ]
     },
     "execution_count": 57,
     "metadata": {},
     "output_type": "execute_result"
    }
   ],
   "source": [
    "df.duplicated().sum()"
   ]
  },
  {
   "cell_type": "code",
   "execution_count": 58,
   "id": "78ae9cbf",
   "metadata": {},
   "outputs": [],
   "source": [
    "df.drop_duplicates(inplace=True)"
   ]
  },
  {
   "cell_type": "code",
   "execution_count": 59,
   "id": "89c5cefb",
   "metadata": {},
   "outputs": [
    {
     "data": {
      "text/plain": [
       "(169044, 5)"
      ]
     },
     "execution_count": 59,
     "metadata": {},
     "output_type": "execute_result"
    }
   ],
   "source": [
    "df.shape"
   ]
  },
  {
   "cell_type": "markdown",
   "id": "0d02bd2e",
   "metadata": {},
   "source": [
    "## Masking companies"
   ]
  },
  {
   "cell_type": "code",
   "execution_count": 60,
   "id": "c8c765b8",
   "metadata": {
    "scrolled": true
   },
   "outputs": [
    {
     "data": {
      "text/plain": [
       "nvnvwgzohrnvzwjotqcxwto    4111\n",
       "xzegojo                    2910\n",
       "vbvkgz                     2226\n",
       "wgszxkvzn                  2115\n",
       "vwwtznhqt                  1998\n",
       "                           ... \n",
       "rxetbgnt                      1\n",
       "lvrattogenucnrna              1\n",
       "zhwrtvqogenfvqtrvmo           1\n",
       "prghnxdogrhnxgzoucnrna        1\n",
       "tqtnvxrogrhnxgz               1\n",
       "Name: company_hash, Length: 33387, dtype: int64"
      ]
     },
     "execution_count": 60,
     "metadata": {},
     "output_type": "execute_result"
    }
   ],
   "source": [
    "df['company_hash'].value_counts()"
   ]
  },
  {
   "cell_type": "code",
   "execution_count": 61,
   "id": "8188868c",
   "metadata": {},
   "outputs": [
    {
     "data": {
      "text/plain": [
       "company_hash        42\n",
       "orgyear             42\n",
       "ctc                 42\n",
       "job_position        42\n",
       "ctc_updated_year    42\n",
       "dtype: int64"
      ]
     },
     "execution_count": 61,
     "metadata": {},
     "output_type": "execute_result"
    }
   ],
   "source": [
    "df[df['company_hash']=='nan'].count()"
   ]
  },
  {
   "cell_type": "code",
   "execution_count": 62,
   "id": "e9d479d1",
   "metadata": {},
   "outputs": [],
   "source": [
    "df.drop(df[df['company_hash']=='nan'].index,inplace=True)"
   ]
  },
  {
   "cell_type": "code",
   "execution_count": 63,
   "id": "4c64d25b",
   "metadata": {},
   "outputs": [
    {
     "data": {
      "text/plain": [
       "company_hash        0\n",
       "orgyear             0\n",
       "ctc                 0\n",
       "job_position        0\n",
       "ctc_updated_year    0\n",
       "dtype: int64"
      ]
     },
     "execution_count": 63,
     "metadata": {},
     "output_type": "execute_result"
    }
   ],
   "source": [
    "df[df['company_hash']=='nan'].count()"
   ]
  },
  {
   "cell_type": "code",
   "execution_count": 64,
   "id": "97b8acc0",
   "metadata": {},
   "outputs": [
    {
     "data": {
      "text/plain": [
       "(169002, 5)"
      ]
     },
     "execution_count": 64,
     "metadata": {},
     "output_type": "execute_result"
    }
   ],
   "source": [
    "df.shape"
   ]
  },
  {
   "cell_type": "code",
   "execution_count": 65,
   "id": "0fbc32c8",
   "metadata": {},
   "outputs": [
    {
     "data": {
      "text/plain": [
       "pandas.core.series.Series"
      ]
     },
     "execution_count": 65,
     "metadata": {},
     "output_type": "execute_result"
    }
   ],
   "source": [
    "type(df['company_hash'])"
   ]
  },
  {
   "cell_type": "markdown",
   "id": "93243cb3",
   "metadata": {},
   "source": [
    "## grouping the company less than 6 count"
   ]
  },
  {
   "cell_type": "code",
   "execution_count": 66,
   "id": "fceeb78f",
   "metadata": {},
   "outputs": [],
   "source": [
    "k=df['company_hash'].value_counts()"
   ]
  },
  {
   "cell_type": "code",
   "execution_count": 67,
   "id": "71f2c528",
   "metadata": {},
   "outputs": [
    {
     "data": {
      "text/plain": [
       "nvnvwgzohrnvzwjotqcxwto            4111\n",
       "xzegojo                            2910\n",
       "vbvkgz                             2226\n",
       "wgszxkvzn                          2115\n",
       "vwwtznhqt                          1998\n",
       "                                   ... \n",
       "hbftrnutgurtntwyogrhnxgzoucnrna       1\n",
       "ucnrna                                1\n",
       "cgxnyyjaqg                            1\n",
       "nyxzpxnxctntwyzgrgsj                  1\n",
       "mxwgzgbj                              1\n",
       "Name: company_hash, Length: 33386, dtype: int64"
      ]
     },
     "execution_count": 67,
     "metadata": {},
     "output_type": "execute_result"
    }
   ],
   "source": [
    "k"
   ]
  },
  {
   "cell_type": "code",
   "execution_count": 68,
   "id": "df94a593",
   "metadata": {},
   "outputs": [
    {
     "data": {
      "text/plain": [
       "pandas.core.series.Series"
      ]
     },
     "execution_count": 68,
     "metadata": {},
     "output_type": "execute_result"
    }
   ],
   "source": [
    "type(k)"
   ]
  },
  {
   "cell_type": "code",
   "execution_count": 69,
   "id": "8d6320ac",
   "metadata": {},
   "outputs": [],
   "source": [
    "def know(x,k):\n",
    "    if k[x]<=7 :\n",
    "        return 'other'\n",
    "    else :\n",
    "        return x"
   ]
  },
  {
   "cell_type": "code",
   "execution_count": 70,
   "id": "d98bf13d",
   "metadata": {},
   "outputs": [],
   "source": [
    "df['news']=df['company_hash'].apply(lambda x : know(x,k))"
   ]
  },
  {
   "cell_type": "code",
   "execution_count": 71,
   "id": "a4bdafdf",
   "metadata": {},
   "outputs": [
    {
     "data": {
      "text/html": [
       "<div>\n",
       "<style scoped>\n",
       "    .dataframe tbody tr th:only-of-type {\n",
       "        vertical-align: middle;\n",
       "    }\n",
       "\n",
       "    .dataframe tbody tr th {\n",
       "        vertical-align: top;\n",
       "    }\n",
       "\n",
       "    .dataframe thead th {\n",
       "        text-align: right;\n",
       "    }\n",
       "</style>\n",
       "<table border=\"1\" class=\"dataframe\">\n",
       "  <thead>\n",
       "    <tr style=\"text-align: right;\">\n",
       "      <th></th>\n",
       "      <th>company_hash</th>\n",
       "      <th>orgyear</th>\n",
       "      <th>ctc</th>\n",
       "      <th>job_position</th>\n",
       "      <th>ctc_updated_year</th>\n",
       "      <th>news</th>\n",
       "    </tr>\n",
       "  </thead>\n",
       "  <tbody>\n",
       "    <tr>\n",
       "      <th>0</th>\n",
       "      <td>atrgxnntxzaxv</td>\n",
       "      <td>2016.0</td>\n",
       "      <td>1100000</td>\n",
       "      <td>other</td>\n",
       "      <td>2020.0</td>\n",
       "      <td>atrgxnntxzaxv</td>\n",
       "    </tr>\n",
       "    <tr>\n",
       "      <th>1</th>\n",
       "      <td>qtrxvzwtxzegwgbbrxbxnta</td>\n",
       "      <td>2018.0</td>\n",
       "      <td>449999</td>\n",
       "      <td>fullstackengineer</td>\n",
       "      <td>2019.0</td>\n",
       "      <td>qtrxvzwtxzegwgbbrxbxnta</td>\n",
       "    </tr>\n",
       "    <tr>\n",
       "      <th>2</th>\n",
       "      <td>ojzwnvwnxwvx</td>\n",
       "      <td>2015.0</td>\n",
       "      <td>2000000</td>\n",
       "      <td>backendengineer</td>\n",
       "      <td>2020.0</td>\n",
       "      <td>other</td>\n",
       "    </tr>\n",
       "    <tr>\n",
       "      <th>3</th>\n",
       "      <td>ngpgutaxv</td>\n",
       "      <td>2017.0</td>\n",
       "      <td>700000</td>\n",
       "      <td>backendengineer</td>\n",
       "      <td>2019.0</td>\n",
       "      <td>ngpgutaxv</td>\n",
       "    </tr>\n",
       "    <tr>\n",
       "      <th>4</th>\n",
       "      <td>qxensqghu</td>\n",
       "      <td>2017.0</td>\n",
       "      <td>1400000</td>\n",
       "      <td>fullstackengineer</td>\n",
       "      <td>2019.0</td>\n",
       "      <td>other</td>\n",
       "    </tr>\n",
       "    <tr>\n",
       "      <th>...</th>\n",
       "      <td>...</td>\n",
       "      <td>...</td>\n",
       "      <td>...</td>\n",
       "      <td>...</td>\n",
       "      <td>...</td>\n",
       "      <td>...</td>\n",
       "    </tr>\n",
       "    <tr>\n",
       "      <th>205836</th>\n",
       "      <td>mvqwrvjo</td>\n",
       "      <td>2011.0</td>\n",
       "      <td>2250000</td>\n",
       "      <td>nan</td>\n",
       "      <td>2019.0</td>\n",
       "      <td>mvqwrvjo</td>\n",
       "    </tr>\n",
       "    <tr>\n",
       "      <th>205838</th>\n",
       "      <td>vuurtxzw</td>\n",
       "      <td>2008.0</td>\n",
       "      <td>220000</td>\n",
       "      <td>nan</td>\n",
       "      <td>2019.0</td>\n",
       "      <td>vuurtxzw</td>\n",
       "    </tr>\n",
       "    <tr>\n",
       "      <th>205839</th>\n",
       "      <td>husqvawgb</td>\n",
       "      <td>2017.0</td>\n",
       "      <td>500000</td>\n",
       "      <td>nan</td>\n",
       "      <td>2020.0</td>\n",
       "      <td>husqvawgb</td>\n",
       "    </tr>\n",
       "    <tr>\n",
       "      <th>205840</th>\n",
       "      <td>vwwgrxnt</td>\n",
       "      <td>2021.0</td>\n",
       "      <td>700000</td>\n",
       "      <td>nan</td>\n",
       "      <td>2021.0</td>\n",
       "      <td>vwwgrxnt</td>\n",
       "    </tr>\n",
       "    <tr>\n",
       "      <th>205842</th>\n",
       "      <td>bgqsvzonvzrtj</td>\n",
       "      <td>2014.0</td>\n",
       "      <td>1240000</td>\n",
       "      <td>nan</td>\n",
       "      <td>2016.0</td>\n",
       "      <td>bgqsvzonvzrtj</td>\n",
       "    </tr>\n",
       "  </tbody>\n",
       "</table>\n",
       "<p>169002 rows × 6 columns</p>\n",
       "</div>"
      ],
      "text/plain": [
       "                   company_hash  orgyear      ctc       job_position  \\\n",
       "0                 atrgxnntxzaxv   2016.0  1100000              other   \n",
       "1       qtrxvzwtxzegwgbbrxbxnta   2018.0   449999  fullstackengineer   \n",
       "2                  ojzwnvwnxwvx   2015.0  2000000    backendengineer   \n",
       "3                     ngpgutaxv   2017.0   700000    backendengineer   \n",
       "4                     qxensqghu   2017.0  1400000  fullstackengineer   \n",
       "...                         ...      ...      ...                ...   \n",
       "205836                 mvqwrvjo   2011.0  2250000                nan   \n",
       "205838                 vuurtxzw   2008.0   220000                nan   \n",
       "205839                husqvawgb   2017.0   500000                nan   \n",
       "205840                 vwwgrxnt   2021.0   700000                nan   \n",
       "205842            bgqsvzonvzrtj   2014.0  1240000                nan   \n",
       "\n",
       "        ctc_updated_year                     news  \n",
       "0                 2020.0            atrgxnntxzaxv  \n",
       "1                 2019.0  qtrxvzwtxzegwgbbrxbxnta  \n",
       "2                 2020.0                    other  \n",
       "3                 2019.0                ngpgutaxv  \n",
       "4                 2019.0                    other  \n",
       "...                  ...                      ...  \n",
       "205836            2019.0                 mvqwrvjo  \n",
       "205838            2019.0                 vuurtxzw  \n",
       "205839            2020.0                husqvawgb  \n",
       "205840            2021.0                 vwwgrxnt  \n",
       "205842            2016.0            bgqsvzonvzrtj  \n",
       "\n",
       "[169002 rows x 6 columns]"
      ]
     },
     "execution_count": 71,
     "metadata": {},
     "output_type": "execute_result"
    }
   ],
   "source": [
    "df"
   ]
  },
  {
   "cell_type": "code",
   "execution_count": 72,
   "id": "6db2f4f6",
   "metadata": {},
   "outputs": [
    {
     "data": {
      "text/plain": [
       "other                      50616\n",
       "nvnvwgzohrnvzwjotqcxwto     4111\n",
       "xzegojo                     2910\n",
       "vbvkgz                      2226\n",
       "wgszxkvzn                   2115\n",
       "                           ...  \n",
       "xgbtaxv                        8\n",
       "xzntrntwyzgrgsj                8\n",
       "ntwyzgogenwgqu                 8\n",
       "qtbvdjoxzegntwyucnrna          8\n",
       "wgzcxcv                        8\n",
       "Name: news, Length: 2271, dtype: int64"
      ]
     },
     "execution_count": 72,
     "metadata": {},
     "output_type": "execute_result"
    }
   ],
   "source": [
    "df['news'].value_counts()"
   ]
  },
  {
   "cell_type": "code",
   "execution_count": 73,
   "id": "08f74794",
   "metadata": {},
   "outputs": [
    {
     "data": {
      "text/plain": [
       "vuurxtaavnvexzvzwt                7\n",
       "svcontwyzgrgsxto                  7\n",
       "wqguxzntwyzgrgsj                  7\n",
       "btaxvbtrgz                        7\n",
       "myvczvogenfvqtxzaxvucnrna         7\n",
       "                                 ..\n",
       "gqvwrtztnohxnt                    1\n",
       "xznvzsrto                         1\n",
       "ntqvexzv                          1\n",
       "bftmfvqtogenfvqtotqcxwtoucnrna    1\n",
       "bofxutntwyzgrgsj                  1\n",
       "Name: company_hash, Length: 31116, dtype: int64"
      ]
     },
     "execution_count": 73,
     "metadata": {},
     "output_type": "execute_result"
    }
   ],
   "source": [
    "df[df['news']=='other']['company_hash'].value_counts()"
   ]
  },
  {
   "cell_type": "code",
   "execution_count": 74,
   "id": "9dcbf7d3",
   "metadata": {},
   "outputs": [],
   "source": [
    "df['company_hash']=df['news']"
   ]
  },
  {
   "cell_type": "code",
   "execution_count": 75,
   "id": "63199faf",
   "metadata": {},
   "outputs": [
    {
     "data": {
      "text/plain": [
       "other                      50616\n",
       "nvnvwgzohrnvzwjotqcxwto     4111\n",
       "xzegojo                     2910\n",
       "vbvkgz                      2226\n",
       "wgszxkvzn                   2115\n",
       "                           ...  \n",
       "xgbtaxv                        8\n",
       "xzntrntwyzgrgsj                8\n",
       "ntwyzgogenwgqu                 8\n",
       "qtbvdjoxzegntwyucnrna          8\n",
       "wgzcxcv                        8\n",
       "Name: company_hash, Length: 2271, dtype: int64"
      ]
     },
     "execution_count": 75,
     "metadata": {},
     "output_type": "execute_result"
    }
   ],
   "source": [
    "df['company_hash'].value_counts()"
   ]
  },
  {
   "cell_type": "code",
   "execution_count": 76,
   "id": "aaa5981c",
   "metadata": {},
   "outputs": [],
   "source": [
    "df.drop(columns=['news'],inplace=True)"
   ]
  },
  {
   "cell_type": "code",
   "execution_count": 77,
   "id": "63c6f336",
   "metadata": {},
   "outputs": [],
   "source": [
    "df['experience']=2022-df['orgyear']"
   ]
  },
  {
   "cell_type": "code",
   "execution_count": 78,
   "id": "d6bf7f05",
   "metadata": {},
   "outputs": [],
   "source": [
    "df.drop_duplicates(inplace=True)"
   ]
  },
  {
   "cell_type": "code",
   "execution_count": 79,
   "id": "1ef03907",
   "metadata": {},
   "outputs": [
    {
     "data": {
      "text/plain": [
       "(144726, 6)"
      ]
     },
     "execution_count": 79,
     "metadata": {},
     "output_type": "execute_result"
    }
   ],
   "source": [
    "df.shape"
   ]
  },
  {
   "cell_type": "code",
   "execution_count": 80,
   "id": "2cec8cf2",
   "metadata": {},
   "outputs": [
    {
     "data": {
      "text/plain": [
       "company_hash        0\n",
       "orgyear             0\n",
       "ctc                 0\n",
       "job_position        0\n",
       "ctc_updated_year    0\n",
       "experience          0\n",
       "dtype: int64"
      ]
     },
     "execution_count": 80,
     "metadata": {},
     "output_type": "execute_result"
    }
   ],
   "source": [
    "df.isnull().sum()"
   ]
  },
  {
   "cell_type": "code",
   "execution_count": 81,
   "id": "444820f4",
   "metadata": {},
   "outputs": [],
   "source": [
    "df.drop(df[df['job_position']==\"nan\"].index,inplace=True)"
   ]
  },
  {
   "cell_type": "code",
   "execution_count": 82,
   "id": "2825d458",
   "metadata": {},
   "outputs": [
    {
     "data": {
      "text/plain": [
       "(112021, 6)"
      ]
     },
     "execution_count": 82,
     "metadata": {},
     "output_type": "execute_result"
    }
   ],
   "source": [
    "df.shape"
   ]
  },
  {
   "cell_type": "code",
   "execution_count": 83,
   "id": "4e3c8a2e",
   "metadata": {},
   "outputs": [
    {
     "data": {
      "text/plain": [
       "company_hash        0\n",
       "orgyear             0\n",
       "ctc                 0\n",
       "job_position        0\n",
       "ctc_updated_year    0\n",
       "experience          0\n",
       "dtype: int64"
      ]
     },
     "execution_count": 83,
     "metadata": {},
     "output_type": "execute_result"
    }
   ],
   "source": [
    "df.isnull().sum()"
   ]
  },
  {
   "cell_type": "markdown",
   "id": "1d86187e",
   "metadata": {},
   "source": [
    "## final data frame"
   ]
  },
  {
   "cell_type": "code",
   "execution_count": 84,
   "id": "53830577",
   "metadata": {},
   "outputs": [
    {
     "data": {
      "text/plain": [
       "(112021, 6)"
      ]
     },
     "execution_count": 84,
     "metadata": {},
     "output_type": "execute_result"
    }
   ],
   "source": [
    "df.shape"
   ]
  },
  {
   "cell_type": "code",
   "execution_count": 85,
   "id": "05e6a218",
   "metadata": {},
   "outputs": [
    {
     "data": {
      "text/plain": [
       "Index(['company_hash', 'orgyear', 'ctc', 'job_position', 'ctc_updated_year',\n",
       "       'experience'],\n",
       "      dtype='object')"
      ]
     },
     "execution_count": 85,
     "metadata": {},
     "output_type": "execute_result"
    }
   ],
   "source": [
    "df.columns"
   ]
  },
  {
   "cell_type": "code",
   "execution_count": 86,
   "id": "7931cc86",
   "metadata": {},
   "outputs": [
    {
     "data": {
      "text/plain": [
       "company_hash        0\n",
       "orgyear             0\n",
       "ctc                 0\n",
       "job_position        0\n",
       "ctc_updated_year    0\n",
       "experience          0\n",
       "dtype: int64"
      ]
     },
     "execution_count": 86,
     "metadata": {},
     "output_type": "execute_result"
    }
   ],
   "source": [
    "df.isnull().sum()"
   ]
  },
  {
   "cell_type": "markdown",
   "id": "f5191526",
   "metadata": {},
   "source": [
    "##  manual clustering"
   ]
  },
  {
   "cell_type": "code",
   "execution_count": 87,
   "id": "45b20721",
   "metadata": {},
   "outputs": [],
   "source": [
    "# clustering on same company ,job_position,experience"
   ]
  },
  {
   "cell_type": "code",
   "execution_count": 88,
   "id": "2db2512d",
   "metadata": {},
   "outputs": [],
   "source": [
    "grp_cjy=df.groupby(['company_hash','job_position','experience'])['ctc'].describe()"
   ]
  },
  {
   "cell_type": "code",
   "execution_count": 89,
   "id": "c89b9d4a",
   "metadata": {},
   "outputs": [
    {
     "data": {
      "text/plain": [
       "count        0\n",
       "mean         0\n",
       "std      29340\n",
       "min          0\n",
       "25%          0\n",
       "50%          0\n",
       "75%          0\n",
       "max          0\n",
       "dtype: int64"
      ]
     },
     "execution_count": 89,
     "metadata": {},
     "output_type": "execute_result"
    }
   ],
   "source": [
    "grp_cjy.isnull().sum()"
   ]
  },
  {
   "cell_type": "code",
   "execution_count": 90,
   "id": "3564a0a7",
   "metadata": {},
   "outputs": [
    {
     "data": {
      "text/html": [
       "<div>\n",
       "<style scoped>\n",
       "    .dataframe tbody tr th:only-of-type {\n",
       "        vertical-align: middle;\n",
       "    }\n",
       "\n",
       "    .dataframe tbody tr th {\n",
       "        vertical-align: top;\n",
       "    }\n",
       "\n",
       "    .dataframe thead th {\n",
       "        text-align: right;\n",
       "    }\n",
       "</style>\n",
       "<table border=\"1\" class=\"dataframe\">\n",
       "  <thead>\n",
       "    <tr style=\"text-align: right;\">\n",
       "      <th></th>\n",
       "      <th></th>\n",
       "      <th></th>\n",
       "      <th>count</th>\n",
       "      <th>mean</th>\n",
       "      <th>std</th>\n",
       "      <th>min</th>\n",
       "      <th>25%</th>\n",
       "      <th>50%</th>\n",
       "      <th>75%</th>\n",
       "      <th>max</th>\n",
       "    </tr>\n",
       "    <tr>\n",
       "      <th>company_hash</th>\n",
       "      <th>job_position</th>\n",
       "      <th>experience</th>\n",
       "      <th></th>\n",
       "      <th></th>\n",
       "      <th></th>\n",
       "      <th></th>\n",
       "      <th></th>\n",
       "      <th></th>\n",
       "      <th></th>\n",
       "      <th></th>\n",
       "    </tr>\n",
       "  </thead>\n",
       "  <tbody>\n",
       "    <tr>\n",
       "      <th rowspan=\"5\" valign=\"top\"></th>\n",
       "      <th>androidengineer</th>\n",
       "      <th>8.0</th>\n",
       "      <td>1.0</td>\n",
       "      <td>480000.0</td>\n",
       "      <td>NaN</td>\n",
       "      <td>480000.0</td>\n",
       "      <td>480000.0</td>\n",
       "      <td>480000.0</td>\n",
       "      <td>480000.0</td>\n",
       "      <td>480000.0</td>\n",
       "    </tr>\n",
       "    <tr>\n",
       "      <th rowspan=\"4\" valign=\"top\">backendengineer</th>\n",
       "      <th>3.0</th>\n",
       "      <td>4.0</td>\n",
       "      <td>905000.0</td>\n",
       "      <td>362353.418640</td>\n",
       "      <td>540000.0</td>\n",
       "      <td>720000.0</td>\n",
       "      <td>840000.0</td>\n",
       "      <td>1025000.0</td>\n",
       "      <td>1400000.0</td>\n",
       "    </tr>\n",
       "    <tr>\n",
       "      <th>4.0</th>\n",
       "      <td>5.0</td>\n",
       "      <td>746200.0</td>\n",
       "      <td>668290.505693</td>\n",
       "      <td>11000.0</td>\n",
       "      <td>300000.0</td>\n",
       "      <td>520000.0</td>\n",
       "      <td>1400000.0</td>\n",
       "      <td>1500000.0</td>\n",
       "    </tr>\n",
       "    <tr>\n",
       "      <th>7.0</th>\n",
       "      <td>1.0</td>\n",
       "      <td>1100000.0</td>\n",
       "      <td>NaN</td>\n",
       "      <td>1100000.0</td>\n",
       "      <td>1100000.0</td>\n",
       "      <td>1100000.0</td>\n",
       "      <td>1100000.0</td>\n",
       "      <td>1100000.0</td>\n",
       "    </tr>\n",
       "    <tr>\n",
       "      <th>9.0</th>\n",
       "      <td>1.0</td>\n",
       "      <td>1200000.0</td>\n",
       "      <td>NaN</td>\n",
       "      <td>1200000.0</td>\n",
       "      <td>1200000.0</td>\n",
       "      <td>1200000.0</td>\n",
       "      <td>1200000.0</td>\n",
       "      <td>1200000.0</td>\n",
       "    </tr>\n",
       "    <tr>\n",
       "      <th>...</th>\n",
       "      <th>...</th>\n",
       "      <th>...</th>\n",
       "      <td>...</td>\n",
       "      <td>...</td>\n",
       "      <td>...</td>\n",
       "      <td>...</td>\n",
       "      <td>...</td>\n",
       "      <td>...</td>\n",
       "      <td>...</td>\n",
       "      <td>...</td>\n",
       "    </tr>\n",
       "    <tr>\n",
       "      <th rowspan=\"5\" valign=\"top\">zxztrtvuo</th>\n",
       "      <th>iosengineer</th>\n",
       "      <th>9.0</th>\n",
       "      <td>1.0</td>\n",
       "      <td>1200000.0</td>\n",
       "      <td>NaN</td>\n",
       "      <td>1200000.0</td>\n",
       "      <td>1200000.0</td>\n",
       "      <td>1200000.0</td>\n",
       "      <td>1200000.0</td>\n",
       "      <td>1200000.0</td>\n",
       "    </tr>\n",
       "    <tr>\n",
       "      <th>memberoftechnicalstaffatnineleaps</th>\n",
       "      <th>6.0</th>\n",
       "      <td>1.0</td>\n",
       "      <td>1200000.0</td>\n",
       "      <td>NaN</td>\n",
       "      <td>1200000.0</td>\n",
       "      <td>1200000.0</td>\n",
       "      <td>1200000.0</td>\n",
       "      <td>1200000.0</td>\n",
       "      <td>1200000.0</td>\n",
       "    </tr>\n",
       "    <tr>\n",
       "      <th rowspan=\"2\" valign=\"top\">other</th>\n",
       "      <th>2.0</th>\n",
       "      <td>1.0</td>\n",
       "      <td>450000.0</td>\n",
       "      <td>NaN</td>\n",
       "      <td>450000.0</td>\n",
       "      <td>450000.0</td>\n",
       "      <td>450000.0</td>\n",
       "      <td>450000.0</td>\n",
       "      <td>450000.0</td>\n",
       "    </tr>\n",
       "    <tr>\n",
       "      <th>3.0</th>\n",
       "      <td>1.0</td>\n",
       "      <td>450000.0</td>\n",
       "      <td>NaN</td>\n",
       "      <td>450000.0</td>\n",
       "      <td>450000.0</td>\n",
       "      <td>450000.0</td>\n",
       "      <td>450000.0</td>\n",
       "      <td>450000.0</td>\n",
       "    </tr>\n",
       "    <tr>\n",
       "      <th>softwaredeveloperintern</th>\n",
       "      <th>6.0</th>\n",
       "      <td>1.0</td>\n",
       "      <td>1200000.0</td>\n",
       "      <td>NaN</td>\n",
       "      <td>1200000.0</td>\n",
       "      <td>1200000.0</td>\n",
       "      <td>1200000.0</td>\n",
       "      <td>1200000.0</td>\n",
       "      <td>1200000.0</td>\n",
       "    </tr>\n",
       "  </tbody>\n",
       "</table>\n",
       "<p>43174 rows × 8 columns</p>\n",
       "</div>"
      ],
      "text/plain": [
       "                                                           count       mean  \\\n",
       "company_hash job_position                      experience                     \n",
       "             androidengineer                   8.0           1.0   480000.0   \n",
       "             backendengineer                   3.0           4.0   905000.0   \n",
       "                                               4.0           5.0   746200.0   \n",
       "                                               7.0           1.0  1100000.0   \n",
       "                                               9.0           1.0  1200000.0   \n",
       "...                                                          ...        ...   \n",
       "zxztrtvuo    iosengineer                       9.0           1.0  1200000.0   \n",
       "             memberoftechnicalstaffatnineleaps 6.0           1.0  1200000.0   \n",
       "             other                             2.0           1.0   450000.0   \n",
       "                                               3.0           1.0   450000.0   \n",
       "             softwaredeveloperintern           6.0           1.0  1200000.0   \n",
       "\n",
       "                                                                     std  \\\n",
       "company_hash job_position                      experience                  \n",
       "             androidengineer                   8.0                   NaN   \n",
       "             backendengineer                   3.0         362353.418640   \n",
       "                                               4.0         668290.505693   \n",
       "                                               7.0                   NaN   \n",
       "                                               9.0                   NaN   \n",
       "...                                                                  ...   \n",
       "zxztrtvuo    iosengineer                       9.0                   NaN   \n",
       "             memberoftechnicalstaffatnineleaps 6.0                   NaN   \n",
       "             other                             2.0                   NaN   \n",
       "                                               3.0                   NaN   \n",
       "             softwaredeveloperintern           6.0                   NaN   \n",
       "\n",
       "                                                                 min  \\\n",
       "company_hash job_position                      experience              \n",
       "             androidengineer                   8.0          480000.0   \n",
       "             backendengineer                   3.0          540000.0   \n",
       "                                               4.0           11000.0   \n",
       "                                               7.0         1100000.0   \n",
       "                                               9.0         1200000.0   \n",
       "...                                                              ...   \n",
       "zxztrtvuo    iosengineer                       9.0         1200000.0   \n",
       "             memberoftechnicalstaffatnineleaps 6.0         1200000.0   \n",
       "             other                             2.0          450000.0   \n",
       "                                               3.0          450000.0   \n",
       "             softwaredeveloperintern           6.0         1200000.0   \n",
       "\n",
       "                                                                 25%  \\\n",
       "company_hash job_position                      experience              \n",
       "             androidengineer                   8.0          480000.0   \n",
       "             backendengineer                   3.0          720000.0   \n",
       "                                               4.0          300000.0   \n",
       "                                               7.0         1100000.0   \n",
       "                                               9.0         1200000.0   \n",
       "...                                                              ...   \n",
       "zxztrtvuo    iosengineer                       9.0         1200000.0   \n",
       "             memberoftechnicalstaffatnineleaps 6.0         1200000.0   \n",
       "             other                             2.0          450000.0   \n",
       "                                               3.0          450000.0   \n",
       "             softwaredeveloperintern           6.0         1200000.0   \n",
       "\n",
       "                                                                 50%  \\\n",
       "company_hash job_position                      experience              \n",
       "             androidengineer                   8.0          480000.0   \n",
       "             backendengineer                   3.0          840000.0   \n",
       "                                               4.0          520000.0   \n",
       "                                               7.0         1100000.0   \n",
       "                                               9.0         1200000.0   \n",
       "...                                                              ...   \n",
       "zxztrtvuo    iosengineer                       9.0         1200000.0   \n",
       "             memberoftechnicalstaffatnineleaps 6.0         1200000.0   \n",
       "             other                             2.0          450000.0   \n",
       "                                               3.0          450000.0   \n",
       "             softwaredeveloperintern           6.0         1200000.0   \n",
       "\n",
       "                                                                 75%  \\\n",
       "company_hash job_position                      experience              \n",
       "             androidengineer                   8.0          480000.0   \n",
       "             backendengineer                   3.0         1025000.0   \n",
       "                                               4.0         1400000.0   \n",
       "                                               7.0         1100000.0   \n",
       "                                               9.0         1200000.0   \n",
       "...                                                              ...   \n",
       "zxztrtvuo    iosengineer                       9.0         1200000.0   \n",
       "             memberoftechnicalstaffatnineleaps 6.0         1200000.0   \n",
       "             other                             2.0          450000.0   \n",
       "                                               3.0          450000.0   \n",
       "             softwaredeveloperintern           6.0         1200000.0   \n",
       "\n",
       "                                                                 max  \n",
       "company_hash job_position                      experience             \n",
       "             androidengineer                   8.0          480000.0  \n",
       "             backendengineer                   3.0         1400000.0  \n",
       "                                               4.0         1500000.0  \n",
       "                                               7.0         1100000.0  \n",
       "                                               9.0         1200000.0  \n",
       "...                                                              ...  \n",
       "zxztrtvuo    iosengineer                       9.0         1200000.0  \n",
       "             memberoftechnicalstaffatnineleaps 6.0         1200000.0  \n",
       "             other                             2.0          450000.0  \n",
       "                                               3.0          450000.0  \n",
       "             softwaredeveloperintern           6.0         1200000.0  \n",
       "\n",
       "[43174 rows x 8 columns]"
      ]
     },
     "execution_count": 90,
     "metadata": {},
     "output_type": "execute_result"
    }
   ],
   "source": [
    "grp_cjy"
   ]
  },
  {
   "cell_type": "code",
   "execution_count": 91,
   "id": "661bf10a",
   "metadata": {},
   "outputs": [],
   "source": [
    "fd=df.merge(grp_cjy,on=['experience','job_position','company_hash'],how='left')"
   ]
  },
  {
   "cell_type": "code",
   "execution_count": null,
   "id": "436d066c",
   "metadata": {},
   "outputs": [],
   "source": []
  },
  {
   "cell_type": "code",
   "execution_count": 92,
   "id": "81082f32",
   "metadata": {},
   "outputs": [
    {
     "data": {
      "text/html": [
       "<div>\n",
       "<style scoped>\n",
       "    .dataframe tbody tr th:only-of-type {\n",
       "        vertical-align: middle;\n",
       "    }\n",
       "\n",
       "    .dataframe tbody tr th {\n",
       "        vertical-align: top;\n",
       "    }\n",
       "\n",
       "    .dataframe thead th {\n",
       "        text-align: right;\n",
       "    }\n",
       "</style>\n",
       "<table border=\"1\" class=\"dataframe\">\n",
       "  <thead>\n",
       "    <tr style=\"text-align: right;\">\n",
       "      <th></th>\n",
       "      <th>company_hash</th>\n",
       "      <th>orgyear</th>\n",
       "      <th>ctc</th>\n",
       "      <th>job_position</th>\n",
       "      <th>ctc_updated_year</th>\n",
       "      <th>experience</th>\n",
       "      <th>count</th>\n",
       "      <th>mean</th>\n",
       "      <th>std</th>\n",
       "      <th>min</th>\n",
       "      <th>25%</th>\n",
       "      <th>50%</th>\n",
       "      <th>75%</th>\n",
       "      <th>max</th>\n",
       "    </tr>\n",
       "  </thead>\n",
       "  <tbody>\n",
       "    <tr>\n",
       "      <th>0</th>\n",
       "      <td>atrgxnntxzaxv</td>\n",
       "      <td>2016.0</td>\n",
       "      <td>1100000</td>\n",
       "      <td>other</td>\n",
       "      <td>2020.0</td>\n",
       "      <td>6.0</td>\n",
       "      <td>1.0</td>\n",
       "      <td>1.100000e+06</td>\n",
       "      <td>NaN</td>\n",
       "      <td>1100000.0</td>\n",
       "      <td>1100000.0</td>\n",
       "      <td>1100000.0</td>\n",
       "      <td>1100000.0</td>\n",
       "      <td>1100000.0</td>\n",
       "    </tr>\n",
       "    <tr>\n",
       "      <th>1</th>\n",
       "      <td>qtrxvzwtxzegwgbbrxbxnta</td>\n",
       "      <td>2018.0</td>\n",
       "      <td>449999</td>\n",
       "      <td>fullstackengineer</td>\n",
       "      <td>2019.0</td>\n",
       "      <td>4.0</td>\n",
       "      <td>7.0</td>\n",
       "      <td>7.742856e+05</td>\n",
       "      <td>250922.324350</td>\n",
       "      <td>449999.0</td>\n",
       "      <td>610000.0</td>\n",
       "      <td>750000.0</td>\n",
       "      <td>900000.0</td>\n",
       "      <td>1200000.0</td>\n",
       "    </tr>\n",
       "    <tr>\n",
       "      <th>2</th>\n",
       "      <td>other</td>\n",
       "      <td>2015.0</td>\n",
       "      <td>2000000</td>\n",
       "      <td>backendengineer</td>\n",
       "      <td>2020.0</td>\n",
       "      <td>7.0</td>\n",
       "      <td>477.0</td>\n",
       "      <td>9.605994e+05</td>\n",
       "      <td>770782.419192</td>\n",
       "      <td>1000.0</td>\n",
       "      <td>312000.0</td>\n",
       "      <td>800000.0</td>\n",
       "      <td>1430000.0</td>\n",
       "      <td>3200000.0</td>\n",
       "    </tr>\n",
       "    <tr>\n",
       "      <th>3</th>\n",
       "      <td>ngpgutaxv</td>\n",
       "      <td>2017.0</td>\n",
       "      <td>700000</td>\n",
       "      <td>backendengineer</td>\n",
       "      <td>2019.0</td>\n",
       "      <td>5.0</td>\n",
       "      <td>7.0</td>\n",
       "      <td>1.158571e+06</td>\n",
       "      <td>404780.951933</td>\n",
       "      <td>700000.0</td>\n",
       "      <td>825000.0</td>\n",
       "      <td>1200000.0</td>\n",
       "      <td>1405000.0</td>\n",
       "      <td>1750000.0</td>\n",
       "    </tr>\n",
       "    <tr>\n",
       "      <th>4</th>\n",
       "      <td>other</td>\n",
       "      <td>2017.0</td>\n",
       "      <td>1400000</td>\n",
       "      <td>fullstackengineer</td>\n",
       "      <td>2019.0</td>\n",
       "      <td>5.0</td>\n",
       "      <td>397.0</td>\n",
       "      <td>7.093966e+05</td>\n",
       "      <td>658949.493441</td>\n",
       "      <td>1000.0</td>\n",
       "      <td>174000.0</td>\n",
       "      <td>550000.0</td>\n",
       "      <td>1000000.0</td>\n",
       "      <td>3300000.0</td>\n",
       "    </tr>\n",
       "    <tr>\n",
       "      <th>...</th>\n",
       "      <td>...</td>\n",
       "      <td>...</td>\n",
       "      <td>...</td>\n",
       "      <td>...</td>\n",
       "      <td>...</td>\n",
       "      <td>...</td>\n",
       "      <td>...</td>\n",
       "      <td>...</td>\n",
       "      <td>...</td>\n",
       "      <td>...</td>\n",
       "      <td>...</td>\n",
       "      <td>...</td>\n",
       "      <td>...</td>\n",
       "      <td>...</td>\n",
       "    </tr>\n",
       "    <tr>\n",
       "      <th>112016</th>\n",
       "      <td>gqvwrt</td>\n",
       "      <td>2019.0</td>\n",
       "      <td>950000</td>\n",
       "      <td>backendengineer</td>\n",
       "      <td>2021.0</td>\n",
       "      <td>3.0</td>\n",
       "      <td>29.0</td>\n",
       "      <td>1.407069e+06</td>\n",
       "      <td>788592.232627</td>\n",
       "      <td>25000.0</td>\n",
       "      <td>900000.0</td>\n",
       "      <td>1250000.0</td>\n",
       "      <td>2000000.0</td>\n",
       "      <td>3200000.0</td>\n",
       "    </tr>\n",
       "    <tr>\n",
       "      <th>112017</th>\n",
       "      <td>ugrxwjmvkvvqwgb</td>\n",
       "      <td>2021.0</td>\n",
       "      <td>1000000</td>\n",
       "      <td>backendengineer</td>\n",
       "      <td>2021.0</td>\n",
       "      <td>1.0</td>\n",
       "      <td>1.0</td>\n",
       "      <td>1.000000e+06</td>\n",
       "      <td>NaN</td>\n",
       "      <td>1000000.0</td>\n",
       "      <td>1000000.0</td>\n",
       "      <td>1000000.0</td>\n",
       "      <td>1000000.0</td>\n",
       "      <td>1000000.0</td>\n",
       "    </tr>\n",
       "    <tr>\n",
       "      <th>112018</th>\n",
       "      <td>wosxzntqzvnxgzvr</td>\n",
       "      <td>2016.0</td>\n",
       "      <td>1500000</td>\n",
       "      <td>fullstackengineer</td>\n",
       "      <td>2021.0</td>\n",
       "      <td>6.0</td>\n",
       "      <td>2.0</td>\n",
       "      <td>1.250000e+06</td>\n",
       "      <td>353553.390593</td>\n",
       "      <td>1000000.0</td>\n",
       "      <td>1125000.0</td>\n",
       "      <td>1250000.0</td>\n",
       "      <td>1375000.0</td>\n",
       "      <td>1500000.0</td>\n",
       "    </tr>\n",
       "    <tr>\n",
       "      <th>112019</th>\n",
       "      <td>ahzzyhbmj</td>\n",
       "      <td>2019.0</td>\n",
       "      <td>1100000</td>\n",
       "      <td>datascientist</td>\n",
       "      <td>2021.0</td>\n",
       "      <td>3.0</td>\n",
       "      <td>2.0</td>\n",
       "      <td>9.500000e+05</td>\n",
       "      <td>212132.034356</td>\n",
       "      <td>800000.0</td>\n",
       "      <td>875000.0</td>\n",
       "      <td>950000.0</td>\n",
       "      <td>1025000.0</td>\n",
       "      <td>1100000.0</td>\n",
       "    </tr>\n",
       "    <tr>\n",
       "      <th>112020</th>\n",
       "      <td>other</td>\n",
       "      <td>2017.0</td>\n",
       "      <td>1100000</td>\n",
       "      <td>frontendengineer</td>\n",
       "      <td>2021.0</td>\n",
       "      <td>5.0</td>\n",
       "      <td>200.0</td>\n",
       "      <td>7.266859e+05</td>\n",
       "      <td>594190.667889</td>\n",
       "      <td>1000.0</td>\n",
       "      <td>300000.0</td>\n",
       "      <td>607000.0</td>\n",
       "      <td>1000000.0</td>\n",
       "      <td>3090000.0</td>\n",
       "    </tr>\n",
       "  </tbody>\n",
       "</table>\n",
       "<p>112021 rows × 14 columns</p>\n",
       "</div>"
      ],
      "text/plain": [
       "                   company_hash  orgyear      ctc       job_position  \\\n",
       "0                 atrgxnntxzaxv   2016.0  1100000              other   \n",
       "1       qtrxvzwtxzegwgbbrxbxnta   2018.0   449999  fullstackengineer   \n",
       "2                         other   2015.0  2000000    backendengineer   \n",
       "3                     ngpgutaxv   2017.0   700000    backendengineer   \n",
       "4                         other   2017.0  1400000  fullstackengineer   \n",
       "...                         ...      ...      ...                ...   \n",
       "112016                   gqvwrt   2019.0   950000    backendengineer   \n",
       "112017          ugrxwjmvkvvqwgb   2021.0  1000000    backendengineer   \n",
       "112018         wosxzntqzvnxgzvr   2016.0  1500000  fullstackengineer   \n",
       "112019                ahzzyhbmj   2019.0  1100000      datascientist   \n",
       "112020                    other   2017.0  1100000   frontendengineer   \n",
       "\n",
       "        ctc_updated_year  experience  count          mean            std  \\\n",
       "0                 2020.0         6.0    1.0  1.100000e+06            NaN   \n",
       "1                 2019.0         4.0    7.0  7.742856e+05  250922.324350   \n",
       "2                 2020.0         7.0  477.0  9.605994e+05  770782.419192   \n",
       "3                 2019.0         5.0    7.0  1.158571e+06  404780.951933   \n",
       "4                 2019.0         5.0  397.0  7.093966e+05  658949.493441   \n",
       "...                  ...         ...    ...           ...            ...   \n",
       "112016            2021.0         3.0   29.0  1.407069e+06  788592.232627   \n",
       "112017            2021.0         1.0    1.0  1.000000e+06            NaN   \n",
       "112018            2021.0         6.0    2.0  1.250000e+06  353553.390593   \n",
       "112019            2021.0         3.0    2.0  9.500000e+05  212132.034356   \n",
       "112020            2021.0         5.0  200.0  7.266859e+05  594190.667889   \n",
       "\n",
       "              min        25%        50%        75%        max  \n",
       "0       1100000.0  1100000.0  1100000.0  1100000.0  1100000.0  \n",
       "1        449999.0   610000.0   750000.0   900000.0  1200000.0  \n",
       "2          1000.0   312000.0   800000.0  1430000.0  3200000.0  \n",
       "3        700000.0   825000.0  1200000.0  1405000.0  1750000.0  \n",
       "4          1000.0   174000.0   550000.0  1000000.0  3300000.0  \n",
       "...           ...        ...        ...        ...        ...  \n",
       "112016    25000.0   900000.0  1250000.0  2000000.0  3200000.0  \n",
       "112017  1000000.0  1000000.0  1000000.0  1000000.0  1000000.0  \n",
       "112018  1000000.0  1125000.0  1250000.0  1375000.0  1500000.0  \n",
       "112019   800000.0   875000.0   950000.0  1025000.0  1100000.0  \n",
       "112020     1000.0   300000.0   607000.0  1000000.0  3090000.0  \n",
       "\n",
       "[112021 rows x 14 columns]"
      ]
     },
     "execution_count": 92,
     "metadata": {},
     "output_type": "execute_result"
    }
   ],
   "source": [
    "fd"
   ]
  },
  {
   "cell_type": "code",
   "execution_count": 93,
   "id": "48bfee5d",
   "metadata": {},
   "outputs": [
    {
     "data": {
      "text/plain": [
       "company_hash            0\n",
       "orgyear                 0\n",
       "ctc                     0\n",
       "job_position            0\n",
       "ctc_updated_year        0\n",
       "experience              0\n",
       "count                   0\n",
       "mean                    0\n",
       "std                 29340\n",
       "min                     0\n",
       "25%                     0\n",
       "50%                     0\n",
       "75%                     0\n",
       "max                     0\n",
       "dtype: int64"
      ]
     },
     "execution_count": 93,
     "metadata": {},
     "output_type": "execute_result"
    }
   ],
   "source": [
    "fd.isnull().sum()"
   ]
  },
  {
   "cell_type": "code",
   "execution_count": 94,
   "id": "ec1d0080",
   "metadata": {},
   "outputs": [
    {
     "data": {
      "text/plain": [
       "(112021, 14)"
      ]
     },
     "execution_count": 94,
     "metadata": {},
     "output_type": "execute_result"
    }
   ],
   "source": [
    "fd.shape"
   ]
  },
  {
   "cell_type": "code",
   "execution_count": 95,
   "id": "e9bd0287",
   "metadata": {},
   "outputs": [],
   "source": [
    "def desig(a,g50,g75):\n",
    "    if a<g50:\n",
    "        return 3\n",
    "    elif a>=g50 and a<=g75:\n",
    "        return 2\n",
    "    elif a>g75:\n",
    "        return 1"
   ]
  },
  {
   "cell_type": "code",
   "execution_count": 96,
   "id": "32e6a532",
   "metadata": {},
   "outputs": [],
   "source": [
    "fd['desig']=fd.apply(lambda x: desig(x['ctc'],x['50%'],x['75%']),axis=1)"
   ]
  },
  {
   "cell_type": "code",
   "execution_count": 97,
   "id": "becbd205",
   "metadata": {},
   "outputs": [
    {
     "data": {
      "text/html": [
       "<div>\n",
       "<style scoped>\n",
       "    .dataframe tbody tr th:only-of-type {\n",
       "        vertical-align: middle;\n",
       "    }\n",
       "\n",
       "    .dataframe tbody tr th {\n",
       "        vertical-align: top;\n",
       "    }\n",
       "\n",
       "    .dataframe thead th {\n",
       "        text-align: right;\n",
       "    }\n",
       "</style>\n",
       "<table border=\"1\" class=\"dataframe\">\n",
       "  <thead>\n",
       "    <tr style=\"text-align: right;\">\n",
       "      <th></th>\n",
       "      <th>company_hash</th>\n",
       "      <th>orgyear</th>\n",
       "      <th>ctc</th>\n",
       "      <th>job_position</th>\n",
       "      <th>ctc_updated_year</th>\n",
       "      <th>experience</th>\n",
       "      <th>count</th>\n",
       "      <th>mean</th>\n",
       "      <th>std</th>\n",
       "      <th>min</th>\n",
       "      <th>25%</th>\n",
       "      <th>50%</th>\n",
       "      <th>75%</th>\n",
       "      <th>max</th>\n",
       "      <th>desig</th>\n",
       "    </tr>\n",
       "  </thead>\n",
       "  <tbody>\n",
       "    <tr>\n",
       "      <th>0</th>\n",
       "      <td>atrgxnntxzaxv</td>\n",
       "      <td>2016.0</td>\n",
       "      <td>1100000</td>\n",
       "      <td>other</td>\n",
       "      <td>2020.0</td>\n",
       "      <td>6.0</td>\n",
       "      <td>1.0</td>\n",
       "      <td>1.100000e+06</td>\n",
       "      <td>NaN</td>\n",
       "      <td>1100000.0</td>\n",
       "      <td>1100000.0</td>\n",
       "      <td>1100000.0</td>\n",
       "      <td>1100000.0</td>\n",
       "      <td>1100000.0</td>\n",
       "      <td>2</td>\n",
       "    </tr>\n",
       "    <tr>\n",
       "      <th>1</th>\n",
       "      <td>qtrxvzwtxzegwgbbrxbxnta</td>\n",
       "      <td>2018.0</td>\n",
       "      <td>449999</td>\n",
       "      <td>fullstackengineer</td>\n",
       "      <td>2019.0</td>\n",
       "      <td>4.0</td>\n",
       "      <td>7.0</td>\n",
       "      <td>7.742856e+05</td>\n",
       "      <td>250922.324350</td>\n",
       "      <td>449999.0</td>\n",
       "      <td>610000.0</td>\n",
       "      <td>750000.0</td>\n",
       "      <td>900000.0</td>\n",
       "      <td>1200000.0</td>\n",
       "      <td>3</td>\n",
       "    </tr>\n",
       "    <tr>\n",
       "      <th>2</th>\n",
       "      <td>other</td>\n",
       "      <td>2015.0</td>\n",
       "      <td>2000000</td>\n",
       "      <td>backendengineer</td>\n",
       "      <td>2020.0</td>\n",
       "      <td>7.0</td>\n",
       "      <td>477.0</td>\n",
       "      <td>9.605994e+05</td>\n",
       "      <td>770782.419192</td>\n",
       "      <td>1000.0</td>\n",
       "      <td>312000.0</td>\n",
       "      <td>800000.0</td>\n",
       "      <td>1430000.0</td>\n",
       "      <td>3200000.0</td>\n",
       "      <td>1</td>\n",
       "    </tr>\n",
       "    <tr>\n",
       "      <th>3</th>\n",
       "      <td>ngpgutaxv</td>\n",
       "      <td>2017.0</td>\n",
       "      <td>700000</td>\n",
       "      <td>backendengineer</td>\n",
       "      <td>2019.0</td>\n",
       "      <td>5.0</td>\n",
       "      <td>7.0</td>\n",
       "      <td>1.158571e+06</td>\n",
       "      <td>404780.951933</td>\n",
       "      <td>700000.0</td>\n",
       "      <td>825000.0</td>\n",
       "      <td>1200000.0</td>\n",
       "      <td>1405000.0</td>\n",
       "      <td>1750000.0</td>\n",
       "      <td>3</td>\n",
       "    </tr>\n",
       "    <tr>\n",
       "      <th>4</th>\n",
       "      <td>other</td>\n",
       "      <td>2017.0</td>\n",
       "      <td>1400000</td>\n",
       "      <td>fullstackengineer</td>\n",
       "      <td>2019.0</td>\n",
       "      <td>5.0</td>\n",
       "      <td>397.0</td>\n",
       "      <td>7.093966e+05</td>\n",
       "      <td>658949.493441</td>\n",
       "      <td>1000.0</td>\n",
       "      <td>174000.0</td>\n",
       "      <td>550000.0</td>\n",
       "      <td>1000000.0</td>\n",
       "      <td>3300000.0</td>\n",
       "      <td>1</td>\n",
       "    </tr>\n",
       "    <tr>\n",
       "      <th>...</th>\n",
       "      <td>...</td>\n",
       "      <td>...</td>\n",
       "      <td>...</td>\n",
       "      <td>...</td>\n",
       "      <td>...</td>\n",
       "      <td>...</td>\n",
       "      <td>...</td>\n",
       "      <td>...</td>\n",
       "      <td>...</td>\n",
       "      <td>...</td>\n",
       "      <td>...</td>\n",
       "      <td>...</td>\n",
       "      <td>...</td>\n",
       "      <td>...</td>\n",
       "      <td>...</td>\n",
       "    </tr>\n",
       "    <tr>\n",
       "      <th>112016</th>\n",
       "      <td>gqvwrt</td>\n",
       "      <td>2019.0</td>\n",
       "      <td>950000</td>\n",
       "      <td>backendengineer</td>\n",
       "      <td>2021.0</td>\n",
       "      <td>3.0</td>\n",
       "      <td>29.0</td>\n",
       "      <td>1.407069e+06</td>\n",
       "      <td>788592.232627</td>\n",
       "      <td>25000.0</td>\n",
       "      <td>900000.0</td>\n",
       "      <td>1250000.0</td>\n",
       "      <td>2000000.0</td>\n",
       "      <td>3200000.0</td>\n",
       "      <td>3</td>\n",
       "    </tr>\n",
       "    <tr>\n",
       "      <th>112017</th>\n",
       "      <td>ugrxwjmvkvvqwgb</td>\n",
       "      <td>2021.0</td>\n",
       "      <td>1000000</td>\n",
       "      <td>backendengineer</td>\n",
       "      <td>2021.0</td>\n",
       "      <td>1.0</td>\n",
       "      <td>1.0</td>\n",
       "      <td>1.000000e+06</td>\n",
       "      <td>NaN</td>\n",
       "      <td>1000000.0</td>\n",
       "      <td>1000000.0</td>\n",
       "      <td>1000000.0</td>\n",
       "      <td>1000000.0</td>\n",
       "      <td>1000000.0</td>\n",
       "      <td>2</td>\n",
       "    </tr>\n",
       "    <tr>\n",
       "      <th>112018</th>\n",
       "      <td>wosxzntqzvnxgzvr</td>\n",
       "      <td>2016.0</td>\n",
       "      <td>1500000</td>\n",
       "      <td>fullstackengineer</td>\n",
       "      <td>2021.0</td>\n",
       "      <td>6.0</td>\n",
       "      <td>2.0</td>\n",
       "      <td>1.250000e+06</td>\n",
       "      <td>353553.390593</td>\n",
       "      <td>1000000.0</td>\n",
       "      <td>1125000.0</td>\n",
       "      <td>1250000.0</td>\n",
       "      <td>1375000.0</td>\n",
       "      <td>1500000.0</td>\n",
       "      <td>1</td>\n",
       "    </tr>\n",
       "    <tr>\n",
       "      <th>112019</th>\n",
       "      <td>ahzzyhbmj</td>\n",
       "      <td>2019.0</td>\n",
       "      <td>1100000</td>\n",
       "      <td>datascientist</td>\n",
       "      <td>2021.0</td>\n",
       "      <td>3.0</td>\n",
       "      <td>2.0</td>\n",
       "      <td>9.500000e+05</td>\n",
       "      <td>212132.034356</td>\n",
       "      <td>800000.0</td>\n",
       "      <td>875000.0</td>\n",
       "      <td>950000.0</td>\n",
       "      <td>1025000.0</td>\n",
       "      <td>1100000.0</td>\n",
       "      <td>1</td>\n",
       "    </tr>\n",
       "    <tr>\n",
       "      <th>112020</th>\n",
       "      <td>other</td>\n",
       "      <td>2017.0</td>\n",
       "      <td>1100000</td>\n",
       "      <td>frontendengineer</td>\n",
       "      <td>2021.0</td>\n",
       "      <td>5.0</td>\n",
       "      <td>200.0</td>\n",
       "      <td>7.266859e+05</td>\n",
       "      <td>594190.667889</td>\n",
       "      <td>1000.0</td>\n",
       "      <td>300000.0</td>\n",
       "      <td>607000.0</td>\n",
       "      <td>1000000.0</td>\n",
       "      <td>3090000.0</td>\n",
       "      <td>1</td>\n",
       "    </tr>\n",
       "  </tbody>\n",
       "</table>\n",
       "<p>112021 rows × 15 columns</p>\n",
       "</div>"
      ],
      "text/plain": [
       "                   company_hash  orgyear      ctc       job_position  \\\n",
       "0                 atrgxnntxzaxv   2016.0  1100000              other   \n",
       "1       qtrxvzwtxzegwgbbrxbxnta   2018.0   449999  fullstackengineer   \n",
       "2                         other   2015.0  2000000    backendengineer   \n",
       "3                     ngpgutaxv   2017.0   700000    backendengineer   \n",
       "4                         other   2017.0  1400000  fullstackengineer   \n",
       "...                         ...      ...      ...                ...   \n",
       "112016                   gqvwrt   2019.0   950000    backendengineer   \n",
       "112017          ugrxwjmvkvvqwgb   2021.0  1000000    backendengineer   \n",
       "112018         wosxzntqzvnxgzvr   2016.0  1500000  fullstackengineer   \n",
       "112019                ahzzyhbmj   2019.0  1100000      datascientist   \n",
       "112020                    other   2017.0  1100000   frontendengineer   \n",
       "\n",
       "        ctc_updated_year  experience  count          mean            std  \\\n",
       "0                 2020.0         6.0    1.0  1.100000e+06            NaN   \n",
       "1                 2019.0         4.0    7.0  7.742856e+05  250922.324350   \n",
       "2                 2020.0         7.0  477.0  9.605994e+05  770782.419192   \n",
       "3                 2019.0         5.0    7.0  1.158571e+06  404780.951933   \n",
       "4                 2019.0         5.0  397.0  7.093966e+05  658949.493441   \n",
       "...                  ...         ...    ...           ...            ...   \n",
       "112016            2021.0         3.0   29.0  1.407069e+06  788592.232627   \n",
       "112017            2021.0         1.0    1.0  1.000000e+06            NaN   \n",
       "112018            2021.0         6.0    2.0  1.250000e+06  353553.390593   \n",
       "112019            2021.0         3.0    2.0  9.500000e+05  212132.034356   \n",
       "112020            2021.0         5.0  200.0  7.266859e+05  594190.667889   \n",
       "\n",
       "              min        25%        50%        75%        max  desig  \n",
       "0       1100000.0  1100000.0  1100000.0  1100000.0  1100000.0      2  \n",
       "1        449999.0   610000.0   750000.0   900000.0  1200000.0      3  \n",
       "2          1000.0   312000.0   800000.0  1430000.0  3200000.0      1  \n",
       "3        700000.0   825000.0  1200000.0  1405000.0  1750000.0      3  \n",
       "4          1000.0   174000.0   550000.0  1000000.0  3300000.0      1  \n",
       "...           ...        ...        ...        ...        ...    ...  \n",
       "112016    25000.0   900000.0  1250000.0  2000000.0  3200000.0      3  \n",
       "112017  1000000.0  1000000.0  1000000.0  1000000.0  1000000.0      2  \n",
       "112018  1000000.0  1125000.0  1250000.0  1375000.0  1500000.0      1  \n",
       "112019   800000.0   875000.0   950000.0  1025000.0  1100000.0      1  \n",
       "112020     1000.0   300000.0   607000.0  1000000.0  3090000.0      1  \n",
       "\n",
       "[112021 rows x 15 columns]"
      ]
     },
     "execution_count": 97,
     "metadata": {},
     "output_type": "execute_result"
    }
   ],
   "source": [
    "fd"
   ]
  },
  {
   "cell_type": "code",
   "execution_count": null,
   "id": "4d9e26d6",
   "metadata": {},
   "outputs": [],
   "source": []
  },
  {
   "cell_type": "code",
   "execution_count": 98,
   "id": "03b0a437",
   "metadata": {},
   "outputs": [
    {
     "data": {
      "text/plain": [
       "2    0.443470\n",
       "3    0.340579\n",
       "1    0.215951\n",
       "Name: desig, dtype: float64"
      ]
     },
     "execution_count": 98,
     "metadata": {},
     "output_type": "execute_result"
    }
   ],
   "source": [
    "fd['desig'].value_counts()/df.shape[0]"
   ]
  },
  {
   "cell_type": "code",
   "execution_count": 100,
   "id": "69083439",
   "metadata": {},
   "outputs": [
    {
     "data": {
      "text/html": [
       "<div>\n",
       "<style scoped>\n",
       "    .dataframe tbody tr th:only-of-type {\n",
       "        vertical-align: middle;\n",
       "    }\n",
       "\n",
       "    .dataframe tbody tr th {\n",
       "        vertical-align: top;\n",
       "    }\n",
       "\n",
       "    .dataframe thead th {\n",
       "        text-align: right;\n",
       "    }\n",
       "</style>\n",
       "<table border=\"1\" class=\"dataframe\">\n",
       "  <thead>\n",
       "    <tr style=\"text-align: right;\">\n",
       "      <th></th>\n",
       "      <th>company_hash</th>\n",
       "      <th>orgyear</th>\n",
       "      <th>ctc</th>\n",
       "      <th>job_position</th>\n",
       "      <th>ctc_updated_year</th>\n",
       "      <th>experience</th>\n",
       "      <th>count</th>\n",
       "      <th>mean</th>\n",
       "      <th>std</th>\n",
       "      <th>min</th>\n",
       "      <th>25%</th>\n",
       "      <th>50%</th>\n",
       "      <th>75%</th>\n",
       "      <th>max</th>\n",
       "      <th>desig</th>\n",
       "    </tr>\n",
       "  </thead>\n",
       "  <tbody>\n",
       "    <tr>\n",
       "      <th>0</th>\n",
       "      <td>atrgxnntxzaxv</td>\n",
       "      <td>2016.0</td>\n",
       "      <td>1100000</td>\n",
       "      <td>other</td>\n",
       "      <td>2020.0</td>\n",
       "      <td>6.0</td>\n",
       "      <td>1.0</td>\n",
       "      <td>1.100000e+06</td>\n",
       "      <td>NaN</td>\n",
       "      <td>1100000.0</td>\n",
       "      <td>1100000.0</td>\n",
       "      <td>1100000.0</td>\n",
       "      <td>1100000.0</td>\n",
       "      <td>1100000.0</td>\n",
       "      <td>2</td>\n",
       "    </tr>\n",
       "    <tr>\n",
       "      <th>1</th>\n",
       "      <td>qtrxvzwtxzegwgbbrxbxnta</td>\n",
       "      <td>2018.0</td>\n",
       "      <td>449999</td>\n",
       "      <td>fullstackengineer</td>\n",
       "      <td>2019.0</td>\n",
       "      <td>4.0</td>\n",
       "      <td>7.0</td>\n",
       "      <td>7.742856e+05</td>\n",
       "      <td>250922.324350</td>\n",
       "      <td>449999.0</td>\n",
       "      <td>610000.0</td>\n",
       "      <td>750000.0</td>\n",
       "      <td>900000.0</td>\n",
       "      <td>1200000.0</td>\n",
       "      <td>3</td>\n",
       "    </tr>\n",
       "    <tr>\n",
       "      <th>2</th>\n",
       "      <td>other</td>\n",
       "      <td>2015.0</td>\n",
       "      <td>2000000</td>\n",
       "      <td>backendengineer</td>\n",
       "      <td>2020.0</td>\n",
       "      <td>7.0</td>\n",
       "      <td>477.0</td>\n",
       "      <td>9.605994e+05</td>\n",
       "      <td>770782.419192</td>\n",
       "      <td>1000.0</td>\n",
       "      <td>312000.0</td>\n",
       "      <td>800000.0</td>\n",
       "      <td>1430000.0</td>\n",
       "      <td>3200000.0</td>\n",
       "      <td>1</td>\n",
       "    </tr>\n",
       "    <tr>\n",
       "      <th>3</th>\n",
       "      <td>ngpgutaxv</td>\n",
       "      <td>2017.0</td>\n",
       "      <td>700000</td>\n",
       "      <td>backendengineer</td>\n",
       "      <td>2019.0</td>\n",
       "      <td>5.0</td>\n",
       "      <td>7.0</td>\n",
       "      <td>1.158571e+06</td>\n",
       "      <td>404780.951933</td>\n",
       "      <td>700000.0</td>\n",
       "      <td>825000.0</td>\n",
       "      <td>1200000.0</td>\n",
       "      <td>1405000.0</td>\n",
       "      <td>1750000.0</td>\n",
       "      <td>3</td>\n",
       "    </tr>\n",
       "    <tr>\n",
       "      <th>4</th>\n",
       "      <td>other</td>\n",
       "      <td>2017.0</td>\n",
       "      <td>1400000</td>\n",
       "      <td>fullstackengineer</td>\n",
       "      <td>2019.0</td>\n",
       "      <td>5.0</td>\n",
       "      <td>397.0</td>\n",
       "      <td>7.093966e+05</td>\n",
       "      <td>658949.493441</td>\n",
       "      <td>1000.0</td>\n",
       "      <td>174000.0</td>\n",
       "      <td>550000.0</td>\n",
       "      <td>1000000.0</td>\n",
       "      <td>3300000.0</td>\n",
       "      <td>1</td>\n",
       "    </tr>\n",
       "    <tr>\n",
       "      <th>...</th>\n",
       "      <td>...</td>\n",
       "      <td>...</td>\n",
       "      <td>...</td>\n",
       "      <td>...</td>\n",
       "      <td>...</td>\n",
       "      <td>...</td>\n",
       "      <td>...</td>\n",
       "      <td>...</td>\n",
       "      <td>...</td>\n",
       "      <td>...</td>\n",
       "      <td>...</td>\n",
       "      <td>...</td>\n",
       "      <td>...</td>\n",
       "      <td>...</td>\n",
       "      <td>...</td>\n",
       "    </tr>\n",
       "    <tr>\n",
       "      <th>112016</th>\n",
       "      <td>gqvwrt</td>\n",
       "      <td>2019.0</td>\n",
       "      <td>950000</td>\n",
       "      <td>backendengineer</td>\n",
       "      <td>2021.0</td>\n",
       "      <td>3.0</td>\n",
       "      <td>29.0</td>\n",
       "      <td>1.407069e+06</td>\n",
       "      <td>788592.232627</td>\n",
       "      <td>25000.0</td>\n",
       "      <td>900000.0</td>\n",
       "      <td>1250000.0</td>\n",
       "      <td>2000000.0</td>\n",
       "      <td>3200000.0</td>\n",
       "      <td>3</td>\n",
       "    </tr>\n",
       "    <tr>\n",
       "      <th>112017</th>\n",
       "      <td>ugrxwjmvkvvqwgb</td>\n",
       "      <td>2021.0</td>\n",
       "      <td>1000000</td>\n",
       "      <td>backendengineer</td>\n",
       "      <td>2021.0</td>\n",
       "      <td>1.0</td>\n",
       "      <td>1.0</td>\n",
       "      <td>1.000000e+06</td>\n",
       "      <td>NaN</td>\n",
       "      <td>1000000.0</td>\n",
       "      <td>1000000.0</td>\n",
       "      <td>1000000.0</td>\n",
       "      <td>1000000.0</td>\n",
       "      <td>1000000.0</td>\n",
       "      <td>2</td>\n",
       "    </tr>\n",
       "    <tr>\n",
       "      <th>112018</th>\n",
       "      <td>wosxzntqzvnxgzvr</td>\n",
       "      <td>2016.0</td>\n",
       "      <td>1500000</td>\n",
       "      <td>fullstackengineer</td>\n",
       "      <td>2021.0</td>\n",
       "      <td>6.0</td>\n",
       "      <td>2.0</td>\n",
       "      <td>1.250000e+06</td>\n",
       "      <td>353553.390593</td>\n",
       "      <td>1000000.0</td>\n",
       "      <td>1125000.0</td>\n",
       "      <td>1250000.0</td>\n",
       "      <td>1375000.0</td>\n",
       "      <td>1500000.0</td>\n",
       "      <td>1</td>\n",
       "    </tr>\n",
       "    <tr>\n",
       "      <th>112019</th>\n",
       "      <td>ahzzyhbmj</td>\n",
       "      <td>2019.0</td>\n",
       "      <td>1100000</td>\n",
       "      <td>datascientist</td>\n",
       "      <td>2021.0</td>\n",
       "      <td>3.0</td>\n",
       "      <td>2.0</td>\n",
       "      <td>9.500000e+05</td>\n",
       "      <td>212132.034356</td>\n",
       "      <td>800000.0</td>\n",
       "      <td>875000.0</td>\n",
       "      <td>950000.0</td>\n",
       "      <td>1025000.0</td>\n",
       "      <td>1100000.0</td>\n",
       "      <td>1</td>\n",
       "    </tr>\n",
       "    <tr>\n",
       "      <th>112020</th>\n",
       "      <td>other</td>\n",
       "      <td>2017.0</td>\n",
       "      <td>1100000</td>\n",
       "      <td>frontendengineer</td>\n",
       "      <td>2021.0</td>\n",
       "      <td>5.0</td>\n",
       "      <td>200.0</td>\n",
       "      <td>7.266859e+05</td>\n",
       "      <td>594190.667889</td>\n",
       "      <td>1000.0</td>\n",
       "      <td>300000.0</td>\n",
       "      <td>607000.0</td>\n",
       "      <td>1000000.0</td>\n",
       "      <td>3090000.0</td>\n",
       "      <td>1</td>\n",
       "    </tr>\n",
       "  </tbody>\n",
       "</table>\n",
       "<p>112021 rows × 15 columns</p>\n",
       "</div>"
      ],
      "text/plain": [
       "                   company_hash  orgyear      ctc       job_position  \\\n",
       "0                 atrgxnntxzaxv   2016.0  1100000              other   \n",
       "1       qtrxvzwtxzegwgbbrxbxnta   2018.0   449999  fullstackengineer   \n",
       "2                         other   2015.0  2000000    backendengineer   \n",
       "3                     ngpgutaxv   2017.0   700000    backendengineer   \n",
       "4                         other   2017.0  1400000  fullstackengineer   \n",
       "...                         ...      ...      ...                ...   \n",
       "112016                   gqvwrt   2019.0   950000    backendengineer   \n",
       "112017          ugrxwjmvkvvqwgb   2021.0  1000000    backendengineer   \n",
       "112018         wosxzntqzvnxgzvr   2016.0  1500000  fullstackengineer   \n",
       "112019                ahzzyhbmj   2019.0  1100000      datascientist   \n",
       "112020                    other   2017.0  1100000   frontendengineer   \n",
       "\n",
       "        ctc_updated_year  experience  count          mean            std  \\\n",
       "0                 2020.0         6.0    1.0  1.100000e+06            NaN   \n",
       "1                 2019.0         4.0    7.0  7.742856e+05  250922.324350   \n",
       "2                 2020.0         7.0  477.0  9.605994e+05  770782.419192   \n",
       "3                 2019.0         5.0    7.0  1.158571e+06  404780.951933   \n",
       "4                 2019.0         5.0  397.0  7.093966e+05  658949.493441   \n",
       "...                  ...         ...    ...           ...            ...   \n",
       "112016            2021.0         3.0   29.0  1.407069e+06  788592.232627   \n",
       "112017            2021.0         1.0    1.0  1.000000e+06            NaN   \n",
       "112018            2021.0         6.0    2.0  1.250000e+06  353553.390593   \n",
       "112019            2021.0         3.0    2.0  9.500000e+05  212132.034356   \n",
       "112020            2021.0         5.0  200.0  7.266859e+05  594190.667889   \n",
       "\n",
       "              min        25%        50%        75%        max  desig  \n",
       "0       1100000.0  1100000.0  1100000.0  1100000.0  1100000.0      2  \n",
       "1        449999.0   610000.0   750000.0   900000.0  1200000.0      3  \n",
       "2          1000.0   312000.0   800000.0  1430000.0  3200000.0      1  \n",
       "3        700000.0   825000.0  1200000.0  1405000.0  1750000.0      3  \n",
       "4          1000.0   174000.0   550000.0  1000000.0  3300000.0      1  \n",
       "...           ...        ...        ...        ...        ...    ...  \n",
       "112016    25000.0   900000.0  1250000.0  2000000.0  3200000.0      3  \n",
       "112017  1000000.0  1000000.0  1000000.0  1000000.0  1000000.0      2  \n",
       "112018  1000000.0  1125000.0  1250000.0  1375000.0  1500000.0      1  \n",
       "112019   800000.0   875000.0   950000.0  1025000.0  1100000.0      1  \n",
       "112020     1000.0   300000.0   607000.0  1000000.0  3090000.0      1  \n",
       "\n",
       "[112021 rows x 15 columns]"
      ]
     },
     "execution_count": 100,
     "metadata": {},
     "output_type": "execute_result"
    }
   ],
   "source": [
    "fd"
   ]
  },
  {
   "cell_type": "code",
   "execution_count": 101,
   "id": "79d7b18d",
   "metadata": {},
   "outputs": [],
   "source": [
    "fd.drop(columns=['count','mean','std','min','25%','50%','75%','max'],inplace=True)"
   ]
  },
  {
   "cell_type": "code",
   "execution_count": 102,
   "id": "757c7f4f",
   "metadata": {},
   "outputs": [],
   "source": [
    "# clustering based on company and job position "
   ]
  },
  {
   "cell_type": "code",
   "execution_count": 103,
   "id": "f880a319",
   "metadata": {},
   "outputs": [],
   "source": [
    "fd1=df.groupby(['company_hash','job_position'])['ctc'].describe()"
   ]
  },
  {
   "cell_type": "code",
   "execution_count": 104,
   "id": "84c602b4",
   "metadata": {},
   "outputs": [
    {
     "data": {
      "text/html": [
       "<div>\n",
       "<style scoped>\n",
       "    .dataframe tbody tr th:only-of-type {\n",
       "        vertical-align: middle;\n",
       "    }\n",
       "\n",
       "    .dataframe tbody tr th {\n",
       "        vertical-align: top;\n",
       "    }\n",
       "\n",
       "    .dataframe thead th {\n",
       "        text-align: right;\n",
       "    }\n",
       "</style>\n",
       "<table border=\"1\" class=\"dataframe\">\n",
       "  <thead>\n",
       "    <tr style=\"text-align: right;\">\n",
       "      <th></th>\n",
       "      <th></th>\n",
       "      <th>count</th>\n",
       "      <th>mean</th>\n",
       "      <th>std</th>\n",
       "      <th>min</th>\n",
       "      <th>25%</th>\n",
       "      <th>50%</th>\n",
       "      <th>75%</th>\n",
       "      <th>max</th>\n",
       "    </tr>\n",
       "    <tr>\n",
       "      <th>company_hash</th>\n",
       "      <th>job_position</th>\n",
       "      <th></th>\n",
       "      <th></th>\n",
       "      <th></th>\n",
       "      <th></th>\n",
       "      <th></th>\n",
       "      <th></th>\n",
       "      <th></th>\n",
       "      <th></th>\n",
       "    </tr>\n",
       "  </thead>\n",
       "  <tbody>\n",
       "    <tr>\n",
       "      <th rowspan=\"5\" valign=\"top\"></th>\n",
       "      <th>androidengineer</th>\n",
       "      <td>1.0</td>\n",
       "      <td>4.800000e+05</td>\n",
       "      <td>NaN</td>\n",
       "      <td>480000.0</td>\n",
       "      <td>480000.0</td>\n",
       "      <td>480000.0</td>\n",
       "      <td>480000.0</td>\n",
       "      <td>480000.0</td>\n",
       "    </tr>\n",
       "    <tr>\n",
       "      <th>backendengineer</th>\n",
       "      <td>12.0</td>\n",
       "      <td>9.142500e+05</td>\n",
       "      <td>486423.333210</td>\n",
       "      <td>11000.0</td>\n",
       "      <td>535000.0</td>\n",
       "      <td>1000000.0</td>\n",
       "      <td>1340000.0</td>\n",
       "      <td>1500000.0</td>\n",
       "    </tr>\n",
       "    <tr>\n",
       "      <th>dataanalyst</th>\n",
       "      <td>1.0</td>\n",
       "      <td>2.100000e+06</td>\n",
       "      <td>NaN</td>\n",
       "      <td>2100000.0</td>\n",
       "      <td>2100000.0</td>\n",
       "      <td>2100000.0</td>\n",
       "      <td>2100000.0</td>\n",
       "      <td>2100000.0</td>\n",
       "    </tr>\n",
       "    <tr>\n",
       "      <th>datascientist</th>\n",
       "      <td>1.0</td>\n",
       "      <td>2.100000e+06</td>\n",
       "      <td>NaN</td>\n",
       "      <td>2100000.0</td>\n",
       "      <td>2100000.0</td>\n",
       "      <td>2100000.0</td>\n",
       "      <td>2100000.0</td>\n",
       "      <td>2100000.0</td>\n",
       "    </tr>\n",
       "    <tr>\n",
       "      <th>engineeringintern</th>\n",
       "      <td>2.0</td>\n",
       "      <td>7.750000e+05</td>\n",
       "      <td>106066.017178</td>\n",
       "      <td>700000.0</td>\n",
       "      <td>737500.0</td>\n",
       "      <td>775000.0</td>\n",
       "      <td>812500.0</td>\n",
       "      <td>850000.0</td>\n",
       "    </tr>\n",
       "    <tr>\n",
       "      <th>...</th>\n",
       "      <th>...</th>\n",
       "      <td>...</td>\n",
       "      <td>...</td>\n",
       "      <td>...</td>\n",
       "      <td>...</td>\n",
       "      <td>...</td>\n",
       "      <td>...</td>\n",
       "      <td>...</td>\n",
       "      <td>...</td>\n",
       "    </tr>\n",
       "    <tr>\n",
       "      <th rowspan=\"5\" valign=\"top\">zxztrtvuo</th>\n",
       "      <th>fullstackengineer</th>\n",
       "      <td>7.0</td>\n",
       "      <td>8.725714e+05</td>\n",
       "      <td>362166.562575</td>\n",
       "      <td>500000.0</td>\n",
       "      <td>637500.0</td>\n",
       "      <td>710000.0</td>\n",
       "      <td>1061500.0</td>\n",
       "      <td>1500000.0</td>\n",
       "    </tr>\n",
       "    <tr>\n",
       "      <th>iosengineer</th>\n",
       "      <td>1.0</td>\n",
       "      <td>1.200000e+06</td>\n",
       "      <td>NaN</td>\n",
       "      <td>1200000.0</td>\n",
       "      <td>1200000.0</td>\n",
       "      <td>1200000.0</td>\n",
       "      <td>1200000.0</td>\n",
       "      <td>1200000.0</td>\n",
       "    </tr>\n",
       "    <tr>\n",
       "      <th>memberoftechnicalstaffatnineleaps</th>\n",
       "      <td>1.0</td>\n",
       "      <td>1.200000e+06</td>\n",
       "      <td>NaN</td>\n",
       "      <td>1200000.0</td>\n",
       "      <td>1200000.0</td>\n",
       "      <td>1200000.0</td>\n",
       "      <td>1200000.0</td>\n",
       "      <td>1200000.0</td>\n",
       "    </tr>\n",
       "    <tr>\n",
       "      <th>other</th>\n",
       "      <td>2.0</td>\n",
       "      <td>4.500000e+05</td>\n",
       "      <td>0.000000</td>\n",
       "      <td>450000.0</td>\n",
       "      <td>450000.0</td>\n",
       "      <td>450000.0</td>\n",
       "      <td>450000.0</td>\n",
       "      <td>450000.0</td>\n",
       "    </tr>\n",
       "    <tr>\n",
       "      <th>softwaredeveloperintern</th>\n",
       "      <td>1.0</td>\n",
       "      <td>1.200000e+06</td>\n",
       "      <td>NaN</td>\n",
       "      <td>1200000.0</td>\n",
       "      <td>1200000.0</td>\n",
       "      <td>1200000.0</td>\n",
       "      <td>1200000.0</td>\n",
       "      <td>1200000.0</td>\n",
       "    </tr>\n",
       "  </tbody>\n",
       "</table>\n",
       "<p>16806 rows × 8 columns</p>\n",
       "</div>"
      ],
      "text/plain": [
       "                                                count          mean  \\\n",
       "company_hash job_position                                             \n",
       "             androidengineer                      1.0  4.800000e+05   \n",
       "             backendengineer                     12.0  9.142500e+05   \n",
       "             dataanalyst                          1.0  2.100000e+06   \n",
       "             datascientist                        1.0  2.100000e+06   \n",
       "             engineeringintern                    2.0  7.750000e+05   \n",
       "...                                               ...           ...   \n",
       "zxztrtvuo    fullstackengineer                    7.0  8.725714e+05   \n",
       "             iosengineer                          1.0  1.200000e+06   \n",
       "             memberoftechnicalstaffatnineleaps    1.0  1.200000e+06   \n",
       "             other                                2.0  4.500000e+05   \n",
       "             softwaredeveloperintern              1.0  1.200000e+06   \n",
       "\n",
       "                                                          std        min  \\\n",
       "company_hash job_position                                                  \n",
       "             androidengineer                              NaN   480000.0   \n",
       "             backendengineer                    486423.333210    11000.0   \n",
       "             dataanalyst                                  NaN  2100000.0   \n",
       "             datascientist                                NaN  2100000.0   \n",
       "             engineeringintern                  106066.017178   700000.0   \n",
       "...                                                       ...        ...   \n",
       "zxztrtvuo    fullstackengineer                  362166.562575   500000.0   \n",
       "             iosengineer                                  NaN  1200000.0   \n",
       "             memberoftechnicalstaffatnineleaps            NaN  1200000.0   \n",
       "             other                                   0.000000   450000.0   \n",
       "             softwaredeveloperintern                      NaN  1200000.0   \n",
       "\n",
       "                                                      25%        50%  \\\n",
       "company_hash job_position                                              \n",
       "             androidengineer                     480000.0   480000.0   \n",
       "             backendengineer                     535000.0  1000000.0   \n",
       "             dataanalyst                        2100000.0  2100000.0   \n",
       "             datascientist                      2100000.0  2100000.0   \n",
       "             engineeringintern                   737500.0   775000.0   \n",
       "...                                                   ...        ...   \n",
       "zxztrtvuo    fullstackengineer                   637500.0   710000.0   \n",
       "             iosengineer                        1200000.0  1200000.0   \n",
       "             memberoftechnicalstaffatnineleaps  1200000.0  1200000.0   \n",
       "             other                               450000.0   450000.0   \n",
       "             softwaredeveloperintern            1200000.0  1200000.0   \n",
       "\n",
       "                                                      75%        max  \n",
       "company_hash job_position                                             \n",
       "             androidengineer                     480000.0   480000.0  \n",
       "             backendengineer                    1340000.0  1500000.0  \n",
       "             dataanalyst                        2100000.0  2100000.0  \n",
       "             datascientist                      2100000.0  2100000.0  \n",
       "             engineeringintern                   812500.0   850000.0  \n",
       "...                                                   ...        ...  \n",
       "zxztrtvuo    fullstackengineer                  1061500.0  1500000.0  \n",
       "             iosengineer                        1200000.0  1200000.0  \n",
       "             memberoftechnicalstaffatnineleaps  1200000.0  1200000.0  \n",
       "             other                               450000.0   450000.0  \n",
       "             softwaredeveloperintern            1200000.0  1200000.0  \n",
       "\n",
       "[16806 rows x 8 columns]"
      ]
     },
     "execution_count": 104,
     "metadata": {},
     "output_type": "execute_result"
    }
   ],
   "source": [
    "fd1"
   ]
  },
  {
   "cell_type": "code",
   "execution_count": 105,
   "id": "814ec427",
   "metadata": {},
   "outputs": [],
   "source": [
    "fd=fd.merge(fd1,on=['company_hash','job_position'],how='left')"
   ]
  },
  {
   "cell_type": "code",
   "execution_count": 106,
   "id": "a4c36201",
   "metadata": {},
   "outputs": [
    {
     "data": {
      "text/html": [
       "<div>\n",
       "<style scoped>\n",
       "    .dataframe tbody tr th:only-of-type {\n",
       "        vertical-align: middle;\n",
       "    }\n",
       "\n",
       "    .dataframe tbody tr th {\n",
       "        vertical-align: top;\n",
       "    }\n",
       "\n",
       "    .dataframe thead th {\n",
       "        text-align: right;\n",
       "    }\n",
       "</style>\n",
       "<table border=\"1\" class=\"dataframe\">\n",
       "  <thead>\n",
       "    <tr style=\"text-align: right;\">\n",
       "      <th></th>\n",
       "      <th>company_hash</th>\n",
       "      <th>orgyear</th>\n",
       "      <th>ctc</th>\n",
       "      <th>job_position</th>\n",
       "      <th>ctc_updated_year</th>\n",
       "      <th>experience</th>\n",
       "      <th>desig</th>\n",
       "      <th>count</th>\n",
       "      <th>mean</th>\n",
       "      <th>std</th>\n",
       "      <th>min</th>\n",
       "      <th>25%</th>\n",
       "      <th>50%</th>\n",
       "      <th>75%</th>\n",
       "      <th>max</th>\n",
       "    </tr>\n",
       "  </thead>\n",
       "  <tbody>\n",
       "    <tr>\n",
       "      <th>0</th>\n",
       "      <td>atrgxnntxzaxv</td>\n",
       "      <td>2016.0</td>\n",
       "      <td>1100000</td>\n",
       "      <td>other</td>\n",
       "      <td>2020.0</td>\n",
       "      <td>6.0</td>\n",
       "      <td>2</td>\n",
       "      <td>2.0</td>\n",
       "      <td>1.085000e+06</td>\n",
       "      <td>21213.203436</td>\n",
       "      <td>1070000.0</td>\n",
       "      <td>1077500.00</td>\n",
       "      <td>1085000.0</td>\n",
       "      <td>1092500.0</td>\n",
       "      <td>1100000.0</td>\n",
       "    </tr>\n",
       "    <tr>\n",
       "      <th>1</th>\n",
       "      <td>qtrxvzwtxzegwgbbrxbxnta</td>\n",
       "      <td>2018.0</td>\n",
       "      <td>449999</td>\n",
       "      <td>fullstackengineer</td>\n",
       "      <td>2019.0</td>\n",
       "      <td>4.0</td>\n",
       "      <td>3</td>\n",
       "      <td>25.0</td>\n",
       "      <td>9.882000e+05</td>\n",
       "      <td>487499.789590</td>\n",
       "      <td>300000.0</td>\n",
       "      <td>600000.00</td>\n",
       "      <td>850000.0</td>\n",
       "      <td>1380000.0</td>\n",
       "      <td>2000000.0</td>\n",
       "    </tr>\n",
       "    <tr>\n",
       "      <th>2</th>\n",
       "      <td>other</td>\n",
       "      <td>2015.0</td>\n",
       "      <td>2000000</td>\n",
       "      <td>backendengineer</td>\n",
       "      <td>2020.0</td>\n",
       "      <td>7.0</td>\n",
       "      <td>1</td>\n",
       "      <td>4177.0</td>\n",
       "      <td>1.006984e+06</td>\n",
       "      <td>811008.116245</td>\n",
       "      <td>1000.0</td>\n",
       "      <td>312000.00</td>\n",
       "      <td>840000.0</td>\n",
       "      <td>1520000.0</td>\n",
       "      <td>3300000.0</td>\n",
       "    </tr>\n",
       "    <tr>\n",
       "      <th>3</th>\n",
       "      <td>ngpgutaxv</td>\n",
       "      <td>2017.0</td>\n",
       "      <td>700000</td>\n",
       "      <td>backendengineer</td>\n",
       "      <td>2019.0</td>\n",
       "      <td>5.0</td>\n",
       "      <td>3</td>\n",
       "      <td>24.0</td>\n",
       "      <td>1.416667e+06</td>\n",
       "      <td>545341.270627</td>\n",
       "      <td>520000.0</td>\n",
       "      <td>1047500.00</td>\n",
       "      <td>1375000.0</td>\n",
       "      <td>1792500.0</td>\n",
       "      <td>2600000.0</td>\n",
       "    </tr>\n",
       "    <tr>\n",
       "      <th>4</th>\n",
       "      <td>other</td>\n",
       "      <td>2017.0</td>\n",
       "      <td>1400000</td>\n",
       "      <td>fullstackengineer</td>\n",
       "      <td>2019.0</td>\n",
       "      <td>5.0</td>\n",
       "      <td>1</td>\n",
       "      <td>3385.0</td>\n",
       "      <td>8.818139e+05</td>\n",
       "      <td>744630.781061</td>\n",
       "      <td>1000.0</td>\n",
       "      <td>280000.00</td>\n",
       "      <td>720000.0</td>\n",
       "      <td>1300000.0</td>\n",
       "      <td>3300000.0</td>\n",
       "    </tr>\n",
       "    <tr>\n",
       "      <th>...</th>\n",
       "      <td>...</td>\n",
       "      <td>...</td>\n",
       "      <td>...</td>\n",
       "      <td>...</td>\n",
       "      <td>...</td>\n",
       "      <td>...</td>\n",
       "      <td>...</td>\n",
       "      <td>...</td>\n",
       "      <td>...</td>\n",
       "      <td>...</td>\n",
       "      <td>...</td>\n",
       "      <td>...</td>\n",
       "      <td>...</td>\n",
       "      <td>...</td>\n",
       "      <td>...</td>\n",
       "    </tr>\n",
       "    <tr>\n",
       "      <th>112016</th>\n",
       "      <td>gqvwrt</td>\n",
       "      <td>2019.0</td>\n",
       "      <td>950000</td>\n",
       "      <td>backendengineer</td>\n",
       "      <td>2021.0</td>\n",
       "      <td>3.0</td>\n",
       "      <td>3</td>\n",
       "      <td>635.0</td>\n",
       "      <td>1.445985e+06</td>\n",
       "      <td>702404.824584</td>\n",
       "      <td>7500.0</td>\n",
       "      <td>950000.00</td>\n",
       "      <td>1300000.0</td>\n",
       "      <td>1900000.0</td>\n",
       "      <td>3300000.0</td>\n",
       "    </tr>\n",
       "    <tr>\n",
       "      <th>112017</th>\n",
       "      <td>ugrxwjmvkvvqwgb</td>\n",
       "      <td>2021.0</td>\n",
       "      <td>1000000</td>\n",
       "      <td>backendengineer</td>\n",
       "      <td>2021.0</td>\n",
       "      <td>1.0</td>\n",
       "      <td>2</td>\n",
       "      <td>16.0</td>\n",
       "      <td>1.089375e+06</td>\n",
       "      <td>519249.085299</td>\n",
       "      <td>330000.0</td>\n",
       "      <td>819999.25</td>\n",
       "      <td>965000.0</td>\n",
       "      <td>1325000.0</td>\n",
       "      <td>2500000.0</td>\n",
       "    </tr>\n",
       "    <tr>\n",
       "      <th>112018</th>\n",
       "      <td>wosxzntqzvnxgzvr</td>\n",
       "      <td>2016.0</td>\n",
       "      <td>1500000</td>\n",
       "      <td>fullstackengineer</td>\n",
       "      <td>2021.0</td>\n",
       "      <td>6.0</td>\n",
       "      <td>1</td>\n",
       "      <td>7.0</td>\n",
       "      <td>1.481429e+06</td>\n",
       "      <td>659353.940648</td>\n",
       "      <td>550000.0</td>\n",
       "      <td>1050000.00</td>\n",
       "      <td>1500000.0</td>\n",
       "      <td>1860000.0</td>\n",
       "      <td>2500000.0</td>\n",
       "    </tr>\n",
       "    <tr>\n",
       "      <th>112019</th>\n",
       "      <td>ahzzyhbmj</td>\n",
       "      <td>2019.0</td>\n",
       "      <td>1100000</td>\n",
       "      <td>datascientist</td>\n",
       "      <td>2021.0</td>\n",
       "      <td>3.0</td>\n",
       "      <td>1</td>\n",
       "      <td>26.0</td>\n",
       "      <td>1.214154e+06</td>\n",
       "      <td>448166.994975</td>\n",
       "      <td>31000.0</td>\n",
       "      <td>1025000.00</td>\n",
       "      <td>1195000.0</td>\n",
       "      <td>1400000.0</td>\n",
       "      <td>2000000.0</td>\n",
       "    </tr>\n",
       "    <tr>\n",
       "      <th>112020</th>\n",
       "      <td>other</td>\n",
       "      <td>2017.0</td>\n",
       "      <td>1100000</td>\n",
       "      <td>frontendengineer</td>\n",
       "      <td>2021.0</td>\n",
       "      <td>5.0</td>\n",
       "      <td>1</td>\n",
       "      <td>1912.0</td>\n",
       "      <td>9.097934e+05</td>\n",
       "      <td>656553.957319</td>\n",
       "      <td>1000.0</td>\n",
       "      <td>400000.00</td>\n",
       "      <td>819999.0</td>\n",
       "      <td>1250000.0</td>\n",
       "      <td>3300000.0</td>\n",
       "    </tr>\n",
       "  </tbody>\n",
       "</table>\n",
       "<p>112021 rows × 15 columns</p>\n",
       "</div>"
      ],
      "text/plain": [
       "                   company_hash  orgyear      ctc       job_position  \\\n",
       "0                 atrgxnntxzaxv   2016.0  1100000              other   \n",
       "1       qtrxvzwtxzegwgbbrxbxnta   2018.0   449999  fullstackengineer   \n",
       "2                         other   2015.0  2000000    backendengineer   \n",
       "3                     ngpgutaxv   2017.0   700000    backendengineer   \n",
       "4                         other   2017.0  1400000  fullstackengineer   \n",
       "...                         ...      ...      ...                ...   \n",
       "112016                   gqvwrt   2019.0   950000    backendengineer   \n",
       "112017          ugrxwjmvkvvqwgb   2021.0  1000000    backendengineer   \n",
       "112018         wosxzntqzvnxgzvr   2016.0  1500000  fullstackengineer   \n",
       "112019                ahzzyhbmj   2019.0  1100000      datascientist   \n",
       "112020                    other   2017.0  1100000   frontendengineer   \n",
       "\n",
       "        ctc_updated_year  experience  desig   count          mean  \\\n",
       "0                 2020.0         6.0      2     2.0  1.085000e+06   \n",
       "1                 2019.0         4.0      3    25.0  9.882000e+05   \n",
       "2                 2020.0         7.0      1  4177.0  1.006984e+06   \n",
       "3                 2019.0         5.0      3    24.0  1.416667e+06   \n",
       "4                 2019.0         5.0      1  3385.0  8.818139e+05   \n",
       "...                  ...         ...    ...     ...           ...   \n",
       "112016            2021.0         3.0      3   635.0  1.445985e+06   \n",
       "112017            2021.0         1.0      2    16.0  1.089375e+06   \n",
       "112018            2021.0         6.0      1     7.0  1.481429e+06   \n",
       "112019            2021.0         3.0      1    26.0  1.214154e+06   \n",
       "112020            2021.0         5.0      1  1912.0  9.097934e+05   \n",
       "\n",
       "                  std        min         25%        50%        75%        max  \n",
       "0        21213.203436  1070000.0  1077500.00  1085000.0  1092500.0  1100000.0  \n",
       "1       487499.789590   300000.0   600000.00   850000.0  1380000.0  2000000.0  \n",
       "2       811008.116245     1000.0   312000.00   840000.0  1520000.0  3300000.0  \n",
       "3       545341.270627   520000.0  1047500.00  1375000.0  1792500.0  2600000.0  \n",
       "4       744630.781061     1000.0   280000.00   720000.0  1300000.0  3300000.0  \n",
       "...               ...        ...         ...        ...        ...        ...  \n",
       "112016  702404.824584     7500.0   950000.00  1300000.0  1900000.0  3300000.0  \n",
       "112017  519249.085299   330000.0   819999.25   965000.0  1325000.0  2500000.0  \n",
       "112018  659353.940648   550000.0  1050000.00  1500000.0  1860000.0  2500000.0  \n",
       "112019  448166.994975    31000.0  1025000.00  1195000.0  1400000.0  2000000.0  \n",
       "112020  656553.957319     1000.0   400000.00   819999.0  1250000.0  3300000.0  \n",
       "\n",
       "[112021 rows x 15 columns]"
      ]
     },
     "execution_count": 106,
     "metadata": {},
     "output_type": "execute_result"
    }
   ],
   "source": [
    "fd"
   ]
  },
  {
   "cell_type": "code",
   "execution_count": 107,
   "id": "d412e096",
   "metadata": {},
   "outputs": [
    {
     "data": {
      "text/plain": [
       "company_hash           0\n",
       "orgyear                0\n",
       "ctc                    0\n",
       "job_position           0\n",
       "ctc_updated_year       0\n",
       "experience             0\n",
       "desig                  0\n",
       "count                  0\n",
       "mean                   0\n",
       "std                 7668\n",
       "min                    0\n",
       "25%                    0\n",
       "50%                    0\n",
       "75%                    0\n",
       "max                    0\n",
       "dtype: int64"
      ]
     },
     "execution_count": 107,
     "metadata": {},
     "output_type": "execute_result"
    }
   ],
   "source": [
    "fd.isnull().sum()"
   ]
  },
  {
   "cell_type": "code",
   "execution_count": 108,
   "id": "8d04bc9d",
   "metadata": {},
   "outputs": [],
   "source": [
    "fd['desg1']=fd.apply(lambda x : desig(x['ctc'],x['50%'],x['75%']),axis=1 )"
   ]
  },
  {
   "cell_type": "code",
   "execution_count": 109,
   "id": "ba8038c8",
   "metadata": {},
   "outputs": [],
   "source": [
    "fd.drop(columns=['count','mean','std','min','25%','50%','75%','max'],inplace=True)"
   ]
  },
  {
   "cell_type": "code",
   "execution_count": 111,
   "id": "1c820cac",
   "metadata": {},
   "outputs": [
    {
     "data": {
      "text/html": [
       "<div>\n",
       "<style scoped>\n",
       "    .dataframe tbody tr th:only-of-type {\n",
       "        vertical-align: middle;\n",
       "    }\n",
       "\n",
       "    .dataframe tbody tr th {\n",
       "        vertical-align: top;\n",
       "    }\n",
       "\n",
       "    .dataframe thead th {\n",
       "        text-align: right;\n",
       "    }\n",
       "</style>\n",
       "<table border=\"1\" class=\"dataframe\">\n",
       "  <thead>\n",
       "    <tr style=\"text-align: right;\">\n",
       "      <th></th>\n",
       "      <th>company_hash</th>\n",
       "      <th>orgyear</th>\n",
       "      <th>ctc</th>\n",
       "      <th>job_position</th>\n",
       "      <th>ctc_updated_year</th>\n",
       "      <th>experience</th>\n",
       "      <th>desig</th>\n",
       "      <th>desg1</th>\n",
       "    </tr>\n",
       "  </thead>\n",
       "  <tbody>\n",
       "    <tr>\n",
       "      <th>0</th>\n",
       "      <td>atrgxnntxzaxv</td>\n",
       "      <td>2016.0</td>\n",
       "      <td>1100000</td>\n",
       "      <td>other</td>\n",
       "      <td>2020.0</td>\n",
       "      <td>6.0</td>\n",
       "      <td>2</td>\n",
       "      <td>1</td>\n",
       "    </tr>\n",
       "    <tr>\n",
       "      <th>1</th>\n",
       "      <td>qtrxvzwtxzegwgbbrxbxnta</td>\n",
       "      <td>2018.0</td>\n",
       "      <td>449999</td>\n",
       "      <td>fullstackengineer</td>\n",
       "      <td>2019.0</td>\n",
       "      <td>4.0</td>\n",
       "      <td>3</td>\n",
       "      <td>3</td>\n",
       "    </tr>\n",
       "    <tr>\n",
       "      <th>2</th>\n",
       "      <td>other</td>\n",
       "      <td>2015.0</td>\n",
       "      <td>2000000</td>\n",
       "      <td>backendengineer</td>\n",
       "      <td>2020.0</td>\n",
       "      <td>7.0</td>\n",
       "      <td>1</td>\n",
       "      <td>1</td>\n",
       "    </tr>\n",
       "    <tr>\n",
       "      <th>3</th>\n",
       "      <td>ngpgutaxv</td>\n",
       "      <td>2017.0</td>\n",
       "      <td>700000</td>\n",
       "      <td>backendengineer</td>\n",
       "      <td>2019.0</td>\n",
       "      <td>5.0</td>\n",
       "      <td>3</td>\n",
       "      <td>3</td>\n",
       "    </tr>\n",
       "    <tr>\n",
       "      <th>4</th>\n",
       "      <td>other</td>\n",
       "      <td>2017.0</td>\n",
       "      <td>1400000</td>\n",
       "      <td>fullstackengineer</td>\n",
       "      <td>2019.0</td>\n",
       "      <td>5.0</td>\n",
       "      <td>1</td>\n",
       "      <td>1</td>\n",
       "    </tr>\n",
       "    <tr>\n",
       "      <th>...</th>\n",
       "      <td>...</td>\n",
       "      <td>...</td>\n",
       "      <td>...</td>\n",
       "      <td>...</td>\n",
       "      <td>...</td>\n",
       "      <td>...</td>\n",
       "      <td>...</td>\n",
       "      <td>...</td>\n",
       "    </tr>\n",
       "    <tr>\n",
       "      <th>112016</th>\n",
       "      <td>gqvwrt</td>\n",
       "      <td>2019.0</td>\n",
       "      <td>950000</td>\n",
       "      <td>backendengineer</td>\n",
       "      <td>2021.0</td>\n",
       "      <td>3.0</td>\n",
       "      <td>3</td>\n",
       "      <td>3</td>\n",
       "    </tr>\n",
       "    <tr>\n",
       "      <th>112017</th>\n",
       "      <td>ugrxwjmvkvvqwgb</td>\n",
       "      <td>2021.0</td>\n",
       "      <td>1000000</td>\n",
       "      <td>backendengineer</td>\n",
       "      <td>2021.0</td>\n",
       "      <td>1.0</td>\n",
       "      <td>2</td>\n",
       "      <td>2</td>\n",
       "    </tr>\n",
       "    <tr>\n",
       "      <th>112018</th>\n",
       "      <td>wosxzntqzvnxgzvr</td>\n",
       "      <td>2016.0</td>\n",
       "      <td>1500000</td>\n",
       "      <td>fullstackengineer</td>\n",
       "      <td>2021.0</td>\n",
       "      <td>6.0</td>\n",
       "      <td>1</td>\n",
       "      <td>2</td>\n",
       "    </tr>\n",
       "    <tr>\n",
       "      <th>112019</th>\n",
       "      <td>ahzzyhbmj</td>\n",
       "      <td>2019.0</td>\n",
       "      <td>1100000</td>\n",
       "      <td>datascientist</td>\n",
       "      <td>2021.0</td>\n",
       "      <td>3.0</td>\n",
       "      <td>1</td>\n",
       "      <td>3</td>\n",
       "    </tr>\n",
       "    <tr>\n",
       "      <th>112020</th>\n",
       "      <td>other</td>\n",
       "      <td>2017.0</td>\n",
       "      <td>1100000</td>\n",
       "      <td>frontendengineer</td>\n",
       "      <td>2021.0</td>\n",
       "      <td>5.0</td>\n",
       "      <td>1</td>\n",
       "      <td>2</td>\n",
       "    </tr>\n",
       "  </tbody>\n",
       "</table>\n",
       "<p>112021 rows × 8 columns</p>\n",
       "</div>"
      ],
      "text/plain": [
       "                   company_hash  orgyear      ctc       job_position  \\\n",
       "0                 atrgxnntxzaxv   2016.0  1100000              other   \n",
       "1       qtrxvzwtxzegwgbbrxbxnta   2018.0   449999  fullstackengineer   \n",
       "2                         other   2015.0  2000000    backendengineer   \n",
       "3                     ngpgutaxv   2017.0   700000    backendengineer   \n",
       "4                         other   2017.0  1400000  fullstackengineer   \n",
       "...                         ...      ...      ...                ...   \n",
       "112016                   gqvwrt   2019.0   950000    backendengineer   \n",
       "112017          ugrxwjmvkvvqwgb   2021.0  1000000    backendengineer   \n",
       "112018         wosxzntqzvnxgzvr   2016.0  1500000  fullstackengineer   \n",
       "112019                ahzzyhbmj   2019.0  1100000      datascientist   \n",
       "112020                    other   2017.0  1100000   frontendengineer   \n",
       "\n",
       "        ctc_updated_year  experience  desig  desg1  \n",
       "0                 2020.0         6.0      2      1  \n",
       "1                 2019.0         4.0      3      3  \n",
       "2                 2020.0         7.0      1      1  \n",
       "3                 2019.0         5.0      3      3  \n",
       "4                 2019.0         5.0      1      1  \n",
       "...                  ...         ...    ...    ...  \n",
       "112016            2021.0         3.0      3      3  \n",
       "112017            2021.0         1.0      2      2  \n",
       "112018            2021.0         6.0      1      2  \n",
       "112019            2021.0         3.0      1      3  \n",
       "112020            2021.0         5.0      1      2  \n",
       "\n",
       "[112021 rows x 8 columns]"
      ]
     },
     "execution_count": 111,
     "metadata": {},
     "output_type": "execute_result"
    }
   ],
   "source": [
    "fd"
   ]
  },
  {
   "cell_type": "code",
   "execution_count": 112,
   "id": "12667389",
   "metadata": {},
   "outputs": [],
   "source": [
    "# clustering on the basis of company"
   ]
  },
  {
   "cell_type": "code",
   "execution_count": 113,
   "id": "78a0d534",
   "metadata": {},
   "outputs": [],
   "source": [
    "final=df.groupby(['company_hash'])['ctc'].describe()"
   ]
  },
  {
   "cell_type": "code",
   "execution_count": 114,
   "id": "13c9bea5",
   "metadata": {},
   "outputs": [
    {
     "data": {
      "text/html": [
       "<div>\n",
       "<style scoped>\n",
       "    .dataframe tbody tr th:only-of-type {\n",
       "        vertical-align: middle;\n",
       "    }\n",
       "\n",
       "    .dataframe tbody tr th {\n",
       "        vertical-align: top;\n",
       "    }\n",
       "\n",
       "    .dataframe thead th {\n",
       "        text-align: right;\n",
       "    }\n",
       "</style>\n",
       "<table border=\"1\" class=\"dataframe\">\n",
       "  <thead>\n",
       "    <tr style=\"text-align: right;\">\n",
       "      <th></th>\n",
       "      <th>company_hash</th>\n",
       "      <th>orgyear</th>\n",
       "      <th>ctc</th>\n",
       "      <th>job_position</th>\n",
       "      <th>ctc_updated_year</th>\n",
       "      <th>experience</th>\n",
       "      <th>desig</th>\n",
       "      <th>desg1</th>\n",
       "    </tr>\n",
       "  </thead>\n",
       "  <tbody>\n",
       "    <tr>\n",
       "      <th>0</th>\n",
       "      <td>atrgxnntxzaxv</td>\n",
       "      <td>2016.0</td>\n",
       "      <td>1100000</td>\n",
       "      <td>other</td>\n",
       "      <td>2020.0</td>\n",
       "      <td>6.0</td>\n",
       "      <td>2</td>\n",
       "      <td>1</td>\n",
       "    </tr>\n",
       "    <tr>\n",
       "      <th>1</th>\n",
       "      <td>qtrxvzwtxzegwgbbrxbxnta</td>\n",
       "      <td>2018.0</td>\n",
       "      <td>449999</td>\n",
       "      <td>fullstackengineer</td>\n",
       "      <td>2019.0</td>\n",
       "      <td>4.0</td>\n",
       "      <td>3</td>\n",
       "      <td>3</td>\n",
       "    </tr>\n",
       "    <tr>\n",
       "      <th>2</th>\n",
       "      <td>other</td>\n",
       "      <td>2015.0</td>\n",
       "      <td>2000000</td>\n",
       "      <td>backendengineer</td>\n",
       "      <td>2020.0</td>\n",
       "      <td>7.0</td>\n",
       "      <td>1</td>\n",
       "      <td>1</td>\n",
       "    </tr>\n",
       "    <tr>\n",
       "      <th>3</th>\n",
       "      <td>ngpgutaxv</td>\n",
       "      <td>2017.0</td>\n",
       "      <td>700000</td>\n",
       "      <td>backendengineer</td>\n",
       "      <td>2019.0</td>\n",
       "      <td>5.0</td>\n",
       "      <td>3</td>\n",
       "      <td>3</td>\n",
       "    </tr>\n",
       "    <tr>\n",
       "      <th>4</th>\n",
       "      <td>other</td>\n",
       "      <td>2017.0</td>\n",
       "      <td>1400000</td>\n",
       "      <td>fullstackengineer</td>\n",
       "      <td>2019.0</td>\n",
       "      <td>5.0</td>\n",
       "      <td>1</td>\n",
       "      <td>1</td>\n",
       "    </tr>\n",
       "    <tr>\n",
       "      <th>...</th>\n",
       "      <td>...</td>\n",
       "      <td>...</td>\n",
       "      <td>...</td>\n",
       "      <td>...</td>\n",
       "      <td>...</td>\n",
       "      <td>...</td>\n",
       "      <td>...</td>\n",
       "      <td>...</td>\n",
       "    </tr>\n",
       "    <tr>\n",
       "      <th>112016</th>\n",
       "      <td>gqvwrt</td>\n",
       "      <td>2019.0</td>\n",
       "      <td>950000</td>\n",
       "      <td>backendengineer</td>\n",
       "      <td>2021.0</td>\n",
       "      <td>3.0</td>\n",
       "      <td>3</td>\n",
       "      <td>3</td>\n",
       "    </tr>\n",
       "    <tr>\n",
       "      <th>112017</th>\n",
       "      <td>ugrxwjmvkvvqwgb</td>\n",
       "      <td>2021.0</td>\n",
       "      <td>1000000</td>\n",
       "      <td>backendengineer</td>\n",
       "      <td>2021.0</td>\n",
       "      <td>1.0</td>\n",
       "      <td>2</td>\n",
       "      <td>2</td>\n",
       "    </tr>\n",
       "    <tr>\n",
       "      <th>112018</th>\n",
       "      <td>wosxzntqzvnxgzvr</td>\n",
       "      <td>2016.0</td>\n",
       "      <td>1500000</td>\n",
       "      <td>fullstackengineer</td>\n",
       "      <td>2021.0</td>\n",
       "      <td>6.0</td>\n",
       "      <td>1</td>\n",
       "      <td>2</td>\n",
       "    </tr>\n",
       "    <tr>\n",
       "      <th>112019</th>\n",
       "      <td>ahzzyhbmj</td>\n",
       "      <td>2019.0</td>\n",
       "      <td>1100000</td>\n",
       "      <td>datascientist</td>\n",
       "      <td>2021.0</td>\n",
       "      <td>3.0</td>\n",
       "      <td>1</td>\n",
       "      <td>3</td>\n",
       "    </tr>\n",
       "    <tr>\n",
       "      <th>112020</th>\n",
       "      <td>other</td>\n",
       "      <td>2017.0</td>\n",
       "      <td>1100000</td>\n",
       "      <td>frontendengineer</td>\n",
       "      <td>2021.0</td>\n",
       "      <td>5.0</td>\n",
       "      <td>1</td>\n",
       "      <td>2</td>\n",
       "    </tr>\n",
       "  </tbody>\n",
       "</table>\n",
       "<p>112021 rows × 8 columns</p>\n",
       "</div>"
      ],
      "text/plain": [
       "                   company_hash  orgyear      ctc       job_position  \\\n",
       "0                 atrgxnntxzaxv   2016.0  1100000              other   \n",
       "1       qtrxvzwtxzegwgbbrxbxnta   2018.0   449999  fullstackengineer   \n",
       "2                         other   2015.0  2000000    backendengineer   \n",
       "3                     ngpgutaxv   2017.0   700000    backendengineer   \n",
       "4                         other   2017.0  1400000  fullstackengineer   \n",
       "...                         ...      ...      ...                ...   \n",
       "112016                   gqvwrt   2019.0   950000    backendengineer   \n",
       "112017          ugrxwjmvkvvqwgb   2021.0  1000000    backendengineer   \n",
       "112018         wosxzntqzvnxgzvr   2016.0  1500000  fullstackengineer   \n",
       "112019                ahzzyhbmj   2019.0  1100000      datascientist   \n",
       "112020                    other   2017.0  1100000   frontendengineer   \n",
       "\n",
       "        ctc_updated_year  experience  desig  desg1  \n",
       "0                 2020.0         6.0      2      1  \n",
       "1                 2019.0         4.0      3      3  \n",
       "2                 2020.0         7.0      1      1  \n",
       "3                 2019.0         5.0      3      3  \n",
       "4                 2019.0         5.0      1      1  \n",
       "...                  ...         ...    ...    ...  \n",
       "112016            2021.0         3.0      3      3  \n",
       "112017            2021.0         1.0      2      2  \n",
       "112018            2021.0         6.0      1      2  \n",
       "112019            2021.0         3.0      1      3  \n",
       "112020            2021.0         5.0      1      2  \n",
       "\n",
       "[112021 rows x 8 columns]"
      ]
     },
     "execution_count": 114,
     "metadata": {},
     "output_type": "execute_result"
    }
   ],
   "source": [
    "fd"
   ]
  },
  {
   "cell_type": "code",
   "execution_count": 115,
   "id": "f21bd9a9",
   "metadata": {},
   "outputs": [
    {
     "data": {
      "text/html": [
       "<div>\n",
       "<style scoped>\n",
       "    .dataframe tbody tr th:only-of-type {\n",
       "        vertical-align: middle;\n",
       "    }\n",
       "\n",
       "    .dataframe tbody tr th {\n",
       "        vertical-align: top;\n",
       "    }\n",
       "\n",
       "    .dataframe thead th {\n",
       "        text-align: right;\n",
       "    }\n",
       "</style>\n",
       "<table border=\"1\" class=\"dataframe\">\n",
       "  <thead>\n",
       "    <tr style=\"text-align: right;\">\n",
       "      <th></th>\n",
       "      <th>count</th>\n",
       "      <th>mean</th>\n",
       "      <th>std</th>\n",
       "      <th>min</th>\n",
       "      <th>25%</th>\n",
       "      <th>50%</th>\n",
       "      <th>75%</th>\n",
       "      <th>max</th>\n",
       "    </tr>\n",
       "    <tr>\n",
       "      <th>company_hash</th>\n",
       "      <th></th>\n",
       "      <th></th>\n",
       "      <th></th>\n",
       "      <th></th>\n",
       "      <th></th>\n",
       "      <th></th>\n",
       "      <th></th>\n",
       "      <th></th>\n",
       "    </tr>\n",
       "  </thead>\n",
       "  <tbody>\n",
       "    <tr>\n",
       "      <th></th>\n",
       "      <td>47.0</td>\n",
       "      <td>8.292766e+05</td>\n",
       "      <td>604791.760861</td>\n",
       "      <td>11000.0</td>\n",
       "      <td>360000.00</td>\n",
       "      <td>700000.0</td>\n",
       "      <td>1140000.0</td>\n",
       "      <td>2300000.0</td>\n",
       "    </tr>\n",
       "    <tr>\n",
       "      <th>adwntwyzgrgsj</th>\n",
       "      <td>191.0</td>\n",
       "      <td>7.679005e+05</td>\n",
       "      <td>520218.823096</td>\n",
       "      <td>32000.0</td>\n",
       "      <td>400000.00</td>\n",
       "      <td>600000.0</td>\n",
       "      <td>940000.0</td>\n",
       "      <td>3200000.0</td>\n",
       "    </tr>\n",
       "    <tr>\n",
       "      <th>adwntwyzgrgsxto</th>\n",
       "      <td>92.0</td>\n",
       "      <td>7.293695e+05</td>\n",
       "      <td>390145.474573</td>\n",
       "      <td>100000.0</td>\n",
       "      <td>417499.75</td>\n",
       "      <td>685000.0</td>\n",
       "      <td>900000.0</td>\n",
       "      <td>2350000.0</td>\n",
       "    </tr>\n",
       "    <tr>\n",
       "      <th>aggartmrhtxzzgcvnxgzo</th>\n",
       "      <td>7.0</td>\n",
       "      <td>5.928571e+05</td>\n",
       "      <td>224849.155785</td>\n",
       "      <td>360000.0</td>\n",
       "      <td>475000.00</td>\n",
       "      <td>500000.0</td>\n",
       "      <td>670000.0</td>\n",
       "      <td>1000000.0</td>\n",
       "    </tr>\n",
       "    <tr>\n",
       "      <th>aghmnzhn</th>\n",
       "      <td>15.0</td>\n",
       "      <td>1.139333e+06</td>\n",
       "      <td>610517.540016</td>\n",
       "      <td>500000.0</td>\n",
       "      <td>702500.00</td>\n",
       "      <td>800000.0</td>\n",
       "      <td>1600000.0</td>\n",
       "      <td>2400000.0</td>\n",
       "    </tr>\n",
       "    <tr>\n",
       "      <th>...</th>\n",
       "      <td>...</td>\n",
       "      <td>...</td>\n",
       "      <td>...</td>\n",
       "      <td>...</td>\n",
       "      <td>...</td>\n",
       "      <td>...</td>\n",
       "      <td>...</td>\n",
       "      <td>...</td>\n",
       "    </tr>\n",
       "    <tr>\n",
       "      <th>zxxnntwyzgrgsxtorxbxnta</th>\n",
       "      <td>86.0</td>\n",
       "      <td>8.809884e+05</td>\n",
       "      <td>558757.800107</td>\n",
       "      <td>100000.0</td>\n",
       "      <td>500000.00</td>\n",
       "      <td>790000.0</td>\n",
       "      <td>1092500.0</td>\n",
       "      <td>3100000.0</td>\n",
       "    </tr>\n",
       "    <tr>\n",
       "      <th>zxyxrtzn</th>\n",
       "      <td>6.0</td>\n",
       "      <td>7.116667e+05</td>\n",
       "      <td>360300.800258</td>\n",
       "      <td>330000.0</td>\n",
       "      <td>427500.00</td>\n",
       "      <td>715000.0</td>\n",
       "      <td>837500.0</td>\n",
       "      <td>1300000.0</td>\n",
       "    </tr>\n",
       "    <tr>\n",
       "      <th>zxyxrtznntwyzgrgsxto</th>\n",
       "      <td>11.0</td>\n",
       "      <td>8.067273e+05</td>\n",
       "      <td>411943.950292</td>\n",
       "      <td>50000.0</td>\n",
       "      <td>580000.00</td>\n",
       "      <td>800000.0</td>\n",
       "      <td>1040000.0</td>\n",
       "      <td>1500000.0</td>\n",
       "    </tr>\n",
       "    <tr>\n",
       "      <th>zxzlvwvqn</th>\n",
       "      <td>26.0</td>\n",
       "      <td>1.327692e+06</td>\n",
       "      <td>740471.783081</td>\n",
       "      <td>180000.0</td>\n",
       "      <td>800000.00</td>\n",
       "      <td>1200000.0</td>\n",
       "      <td>1800000.0</td>\n",
       "      <td>3000000.0</td>\n",
       "    </tr>\n",
       "    <tr>\n",
       "      <th>zxztrtvuo</th>\n",
       "      <td>52.0</td>\n",
       "      <td>9.987115e+05</td>\n",
       "      <td>565844.727377</td>\n",
       "      <td>400000.0</td>\n",
       "      <td>565000.00</td>\n",
       "      <td>890000.0</td>\n",
       "      <td>1200000.0</td>\n",
       "      <td>2700000.0</td>\n",
       "    </tr>\n",
       "  </tbody>\n",
       "</table>\n",
       "<p>2248 rows × 8 columns</p>\n",
       "</div>"
      ],
      "text/plain": [
       "                         count          mean            std       min  \\\n",
       "company_hash                                                            \n",
       "                          47.0  8.292766e+05  604791.760861   11000.0   \n",
       "adwntwyzgrgsj            191.0  7.679005e+05  520218.823096   32000.0   \n",
       "adwntwyzgrgsxto           92.0  7.293695e+05  390145.474573  100000.0   \n",
       "aggartmrhtxzzgcvnxgzo      7.0  5.928571e+05  224849.155785  360000.0   \n",
       "aghmnzhn                  15.0  1.139333e+06  610517.540016  500000.0   \n",
       "...                        ...           ...            ...       ...   \n",
       "zxxnntwyzgrgsxtorxbxnta   86.0  8.809884e+05  558757.800107  100000.0   \n",
       "zxyxrtzn                   6.0  7.116667e+05  360300.800258  330000.0   \n",
       "zxyxrtznntwyzgrgsxto      11.0  8.067273e+05  411943.950292   50000.0   \n",
       "zxzlvwvqn                 26.0  1.327692e+06  740471.783081  180000.0   \n",
       "zxztrtvuo                 52.0  9.987115e+05  565844.727377  400000.0   \n",
       "\n",
       "                               25%        50%        75%        max  \n",
       "company_hash                                                         \n",
       "                         360000.00   700000.0  1140000.0  2300000.0  \n",
       "adwntwyzgrgsj            400000.00   600000.0   940000.0  3200000.0  \n",
       "adwntwyzgrgsxto          417499.75   685000.0   900000.0  2350000.0  \n",
       "aggartmrhtxzzgcvnxgzo    475000.00   500000.0   670000.0  1000000.0  \n",
       "aghmnzhn                 702500.00   800000.0  1600000.0  2400000.0  \n",
       "...                            ...        ...        ...        ...  \n",
       "zxxnntwyzgrgsxtorxbxnta  500000.00   790000.0  1092500.0  3100000.0  \n",
       "zxyxrtzn                 427500.00   715000.0   837500.0  1300000.0  \n",
       "zxyxrtznntwyzgrgsxto     580000.00   800000.0  1040000.0  1500000.0  \n",
       "zxzlvwvqn                800000.00  1200000.0  1800000.0  3000000.0  \n",
       "zxztrtvuo                565000.00   890000.0  1200000.0  2700000.0  \n",
       "\n",
       "[2248 rows x 8 columns]"
      ]
     },
     "execution_count": 115,
     "metadata": {},
     "output_type": "execute_result"
    }
   ],
   "source": [
    "final"
   ]
  },
  {
   "cell_type": "code",
   "execution_count": 117,
   "id": "dc52ad25",
   "metadata": {},
   "outputs": [],
   "source": [
    "fd=fd.merge(final,on=['company_hash'],how='left')"
   ]
  },
  {
   "cell_type": "code",
   "execution_count": 118,
   "id": "8a9aead0",
   "metadata": {},
   "outputs": [
    {
     "data": {
      "text/html": [
       "<div>\n",
       "<style scoped>\n",
       "    .dataframe tbody tr th:only-of-type {\n",
       "        vertical-align: middle;\n",
       "    }\n",
       "\n",
       "    .dataframe tbody tr th {\n",
       "        vertical-align: top;\n",
       "    }\n",
       "\n",
       "    .dataframe thead th {\n",
       "        text-align: right;\n",
       "    }\n",
       "</style>\n",
       "<table border=\"1\" class=\"dataframe\">\n",
       "  <thead>\n",
       "    <tr style=\"text-align: right;\">\n",
       "      <th></th>\n",
       "      <th>company_hash</th>\n",
       "      <th>orgyear</th>\n",
       "      <th>ctc</th>\n",
       "      <th>job_position</th>\n",
       "      <th>ctc_updated_year</th>\n",
       "      <th>experience</th>\n",
       "      <th>desig</th>\n",
       "      <th>desg1</th>\n",
       "      <th>count</th>\n",
       "      <th>mean</th>\n",
       "      <th>std</th>\n",
       "      <th>min</th>\n",
       "      <th>25%</th>\n",
       "      <th>50%</th>\n",
       "      <th>75%</th>\n",
       "      <th>max</th>\n",
       "    </tr>\n",
       "  </thead>\n",
       "  <tbody>\n",
       "    <tr>\n",
       "      <th>0</th>\n",
       "      <td>atrgxnntxzaxv</td>\n",
       "      <td>2016.0</td>\n",
       "      <td>1100000</td>\n",
       "      <td>other</td>\n",
       "      <td>2020.0</td>\n",
       "      <td>6.0</td>\n",
       "      <td>2</td>\n",
       "      <td>1</td>\n",
       "      <td>9.0</td>\n",
       "      <td>1.115667e+06</td>\n",
       "      <td>458111.885897</td>\n",
       "      <td>500000.0</td>\n",
       "      <td>800000.0</td>\n",
       "      <td>1070000.0</td>\n",
       "      <td>1500000.0</td>\n",
       "      <td>1771000.0</td>\n",
       "    </tr>\n",
       "    <tr>\n",
       "      <th>1</th>\n",
       "      <td>qtrxvzwtxzegwgbbrxbxnta</td>\n",
       "      <td>2018.0</td>\n",
       "      <td>449999</td>\n",
       "      <td>fullstackengineer</td>\n",
       "      <td>2019.0</td>\n",
       "      <td>4.0</td>\n",
       "      <td>3</td>\n",
       "      <td>3</td>\n",
       "      <td>293.0</td>\n",
       "      <td>1.067873e+06</td>\n",
       "      <td>644402.951971</td>\n",
       "      <td>10000.0</td>\n",
       "      <td>600000.0</td>\n",
       "      <td>880000.0</td>\n",
       "      <td>1500000.0</td>\n",
       "      <td>3200000.0</td>\n",
       "    </tr>\n",
       "    <tr>\n",
       "      <th>2</th>\n",
       "      <td>other</td>\n",
       "      <td>2015.0</td>\n",
       "      <td>2000000</td>\n",
       "      <td>backendengineer</td>\n",
       "      <td>2020.0</td>\n",
       "      <td>7.0</td>\n",
       "      <td>1</td>\n",
       "      <td>1</td>\n",
       "      <td>22869.0</td>\n",
       "      <td>9.677156e+05</td>\n",
       "      <td>750220.307027</td>\n",
       "      <td>24.0</td>\n",
       "      <td>400000.0</td>\n",
       "      <td>800000.0</td>\n",
       "      <td>1400000.0</td>\n",
       "      <td>3329999.0</td>\n",
       "    </tr>\n",
       "    <tr>\n",
       "      <th>3</th>\n",
       "      <td>ngpgutaxv</td>\n",
       "      <td>2017.0</td>\n",
       "      <td>700000</td>\n",
       "      <td>backendengineer</td>\n",
       "      <td>2019.0</td>\n",
       "      <td>5.0</td>\n",
       "      <td>3</td>\n",
       "      <td>3</td>\n",
       "      <td>47.0</td>\n",
       "      <td>1.356702e+06</td>\n",
       "      <td>570209.988585</td>\n",
       "      <td>200000.0</td>\n",
       "      <td>995000.0</td>\n",
       "      <td>1235000.0</td>\n",
       "      <td>1770000.0</td>\n",
       "      <td>2600000.0</td>\n",
       "    </tr>\n",
       "    <tr>\n",
       "      <th>4</th>\n",
       "      <td>other</td>\n",
       "      <td>2017.0</td>\n",
       "      <td>1400000</td>\n",
       "      <td>fullstackengineer</td>\n",
       "      <td>2019.0</td>\n",
       "      <td>5.0</td>\n",
       "      <td>1</td>\n",
       "      <td>1</td>\n",
       "      <td>22869.0</td>\n",
       "      <td>9.677156e+05</td>\n",
       "      <td>750220.307027</td>\n",
       "      <td>24.0</td>\n",
       "      <td>400000.0</td>\n",
       "      <td>800000.0</td>\n",
       "      <td>1400000.0</td>\n",
       "      <td>3329999.0</td>\n",
       "    </tr>\n",
       "    <tr>\n",
       "      <th>...</th>\n",
       "      <td>...</td>\n",
       "      <td>...</td>\n",
       "      <td>...</td>\n",
       "      <td>...</td>\n",
       "      <td>...</td>\n",
       "      <td>...</td>\n",
       "      <td>...</td>\n",
       "      <td>...</td>\n",
       "      <td>...</td>\n",
       "      <td>...</td>\n",
       "      <td>...</td>\n",
       "      <td>...</td>\n",
       "      <td>...</td>\n",
       "      <td>...</td>\n",
       "      <td>...</td>\n",
       "      <td>...</td>\n",
       "    </tr>\n",
       "    <tr>\n",
       "      <th>112016</th>\n",
       "      <td>gqvwrt</td>\n",
       "      <td>2019.0</td>\n",
       "      <td>950000</td>\n",
       "      <td>backendengineer</td>\n",
       "      <td>2021.0</td>\n",
       "      <td>3.0</td>\n",
       "      <td>3</td>\n",
       "      <td>3</td>\n",
       "      <td>1465.0</td>\n",
       "      <td>1.393873e+06</td>\n",
       "      <td>695252.624481</td>\n",
       "      <td>7500.0</td>\n",
       "      <td>900000.0</td>\n",
       "      <td>1250000.0</td>\n",
       "      <td>1900000.0</td>\n",
       "      <td>3300000.0</td>\n",
       "    </tr>\n",
       "    <tr>\n",
       "      <th>112017</th>\n",
       "      <td>ugrxwjmvkvvqwgb</td>\n",
       "      <td>2021.0</td>\n",
       "      <td>1000000</td>\n",
       "      <td>backendengineer</td>\n",
       "      <td>2021.0</td>\n",
       "      <td>1.0</td>\n",
       "      <td>2</td>\n",
       "      <td>2</td>\n",
       "      <td>56.0</td>\n",
       "      <td>1.003071e+06</td>\n",
       "      <td>618813.741587</td>\n",
       "      <td>220000.0</td>\n",
       "      <td>590000.0</td>\n",
       "      <td>890000.0</td>\n",
       "      <td>1300000.0</td>\n",
       "      <td>3300000.0</td>\n",
       "    </tr>\n",
       "    <tr>\n",
       "      <th>112018</th>\n",
       "      <td>wosxzntqzvnxgzvr</td>\n",
       "      <td>2016.0</td>\n",
       "      <td>1500000</td>\n",
       "      <td>fullstackengineer</td>\n",
       "      <td>2021.0</td>\n",
       "      <td>6.0</td>\n",
       "      <td>1</td>\n",
       "      <td>2</td>\n",
       "      <td>32.0</td>\n",
       "      <td>1.145312e+06</td>\n",
       "      <td>597073.441358</td>\n",
       "      <td>100000.0</td>\n",
       "      <td>795000.0</td>\n",
       "      <td>1000000.0</td>\n",
       "      <td>1225000.0</td>\n",
       "      <td>2800000.0</td>\n",
       "    </tr>\n",
       "    <tr>\n",
       "      <th>112019</th>\n",
       "      <td>ahzzyhbmj</td>\n",
       "      <td>2019.0</td>\n",
       "      <td>1100000</td>\n",
       "      <td>datascientist</td>\n",
       "      <td>2021.0</td>\n",
       "      <td>3.0</td>\n",
       "      <td>1</td>\n",
       "      <td>3</td>\n",
       "      <td>40.0</td>\n",
       "      <td>1.244325e+06</td>\n",
       "      <td>404382.618226</td>\n",
       "      <td>31000.0</td>\n",
       "      <td>1100000.0</td>\n",
       "      <td>1195000.0</td>\n",
       "      <td>1425000.0</td>\n",
       "      <td>2100000.0</td>\n",
       "    </tr>\n",
       "    <tr>\n",
       "      <th>112020</th>\n",
       "      <td>other</td>\n",
       "      <td>2017.0</td>\n",
       "      <td>1100000</td>\n",
       "      <td>frontendengineer</td>\n",
       "      <td>2021.0</td>\n",
       "      <td>5.0</td>\n",
       "      <td>1</td>\n",
       "      <td>2</td>\n",
       "      <td>22869.0</td>\n",
       "      <td>9.677156e+05</td>\n",
       "      <td>750220.307027</td>\n",
       "      <td>24.0</td>\n",
       "      <td>400000.0</td>\n",
       "      <td>800000.0</td>\n",
       "      <td>1400000.0</td>\n",
       "      <td>3329999.0</td>\n",
       "    </tr>\n",
       "  </tbody>\n",
       "</table>\n",
       "<p>112021 rows × 16 columns</p>\n",
       "</div>"
      ],
      "text/plain": [
       "                   company_hash  orgyear      ctc       job_position  \\\n",
       "0                 atrgxnntxzaxv   2016.0  1100000              other   \n",
       "1       qtrxvzwtxzegwgbbrxbxnta   2018.0   449999  fullstackengineer   \n",
       "2                         other   2015.0  2000000    backendengineer   \n",
       "3                     ngpgutaxv   2017.0   700000    backendengineer   \n",
       "4                         other   2017.0  1400000  fullstackengineer   \n",
       "...                         ...      ...      ...                ...   \n",
       "112016                   gqvwrt   2019.0   950000    backendengineer   \n",
       "112017          ugrxwjmvkvvqwgb   2021.0  1000000    backendengineer   \n",
       "112018         wosxzntqzvnxgzvr   2016.0  1500000  fullstackengineer   \n",
       "112019                ahzzyhbmj   2019.0  1100000      datascientist   \n",
       "112020                    other   2017.0  1100000   frontendengineer   \n",
       "\n",
       "        ctc_updated_year  experience  desig  desg1    count          mean  \\\n",
       "0                 2020.0         6.0      2      1      9.0  1.115667e+06   \n",
       "1                 2019.0         4.0      3      3    293.0  1.067873e+06   \n",
       "2                 2020.0         7.0      1      1  22869.0  9.677156e+05   \n",
       "3                 2019.0         5.0      3      3     47.0  1.356702e+06   \n",
       "4                 2019.0         5.0      1      1  22869.0  9.677156e+05   \n",
       "...                  ...         ...    ...    ...      ...           ...   \n",
       "112016            2021.0         3.0      3      3   1465.0  1.393873e+06   \n",
       "112017            2021.0         1.0      2      2     56.0  1.003071e+06   \n",
       "112018            2021.0         6.0      1      2     32.0  1.145312e+06   \n",
       "112019            2021.0         3.0      1      3     40.0  1.244325e+06   \n",
       "112020            2021.0         5.0      1      2  22869.0  9.677156e+05   \n",
       "\n",
       "                  std       min        25%        50%        75%        max  \n",
       "0       458111.885897  500000.0   800000.0  1070000.0  1500000.0  1771000.0  \n",
       "1       644402.951971   10000.0   600000.0   880000.0  1500000.0  3200000.0  \n",
       "2       750220.307027      24.0   400000.0   800000.0  1400000.0  3329999.0  \n",
       "3       570209.988585  200000.0   995000.0  1235000.0  1770000.0  2600000.0  \n",
       "4       750220.307027      24.0   400000.0   800000.0  1400000.0  3329999.0  \n",
       "...               ...       ...        ...        ...        ...        ...  \n",
       "112016  695252.624481    7500.0   900000.0  1250000.0  1900000.0  3300000.0  \n",
       "112017  618813.741587  220000.0   590000.0   890000.0  1300000.0  3300000.0  \n",
       "112018  597073.441358  100000.0   795000.0  1000000.0  1225000.0  2800000.0  \n",
       "112019  404382.618226   31000.0  1100000.0  1195000.0  1425000.0  2100000.0  \n",
       "112020  750220.307027      24.0   400000.0   800000.0  1400000.0  3329999.0  \n",
       "\n",
       "[112021 rows x 16 columns]"
      ]
     },
     "execution_count": 118,
     "metadata": {},
     "output_type": "execute_result"
    }
   ],
   "source": [
    "fd"
   ]
  },
  {
   "cell_type": "code",
   "execution_count": 120,
   "id": "79d33476",
   "metadata": {},
   "outputs": [],
   "source": [
    "fd['desig2']=fd.apply(lambda x: desig(x['ctc'],x['50%'],x['75%']),axis=1)"
   ]
  },
  {
   "cell_type": "code",
   "execution_count": 121,
   "id": "2d5009bf",
   "metadata": {},
   "outputs": [
    {
     "data": {
      "text/html": [
       "<div>\n",
       "<style scoped>\n",
       "    .dataframe tbody tr th:only-of-type {\n",
       "        vertical-align: middle;\n",
       "    }\n",
       "\n",
       "    .dataframe tbody tr th {\n",
       "        vertical-align: top;\n",
       "    }\n",
       "\n",
       "    .dataframe thead th {\n",
       "        text-align: right;\n",
       "    }\n",
       "</style>\n",
       "<table border=\"1\" class=\"dataframe\">\n",
       "  <thead>\n",
       "    <tr style=\"text-align: right;\">\n",
       "      <th></th>\n",
       "      <th>company_hash</th>\n",
       "      <th>orgyear</th>\n",
       "      <th>ctc</th>\n",
       "      <th>job_position</th>\n",
       "      <th>ctc_updated_year</th>\n",
       "      <th>experience</th>\n",
       "      <th>desig</th>\n",
       "      <th>desg1</th>\n",
       "      <th>count</th>\n",
       "      <th>mean</th>\n",
       "      <th>std</th>\n",
       "      <th>min</th>\n",
       "      <th>25%</th>\n",
       "      <th>50%</th>\n",
       "      <th>75%</th>\n",
       "      <th>max</th>\n",
       "      <th>desig2</th>\n",
       "    </tr>\n",
       "  </thead>\n",
       "  <tbody>\n",
       "    <tr>\n",
       "      <th>0</th>\n",
       "      <td>atrgxnntxzaxv</td>\n",
       "      <td>2016.0</td>\n",
       "      <td>1100000</td>\n",
       "      <td>other</td>\n",
       "      <td>2020.0</td>\n",
       "      <td>6.0</td>\n",
       "      <td>2</td>\n",
       "      <td>1</td>\n",
       "      <td>9.0</td>\n",
       "      <td>1.115667e+06</td>\n",
       "      <td>458111.885897</td>\n",
       "      <td>500000.0</td>\n",
       "      <td>800000.0</td>\n",
       "      <td>1070000.0</td>\n",
       "      <td>1500000.0</td>\n",
       "      <td>1771000.0</td>\n",
       "      <td>2</td>\n",
       "    </tr>\n",
       "    <tr>\n",
       "      <th>1</th>\n",
       "      <td>qtrxvzwtxzegwgbbrxbxnta</td>\n",
       "      <td>2018.0</td>\n",
       "      <td>449999</td>\n",
       "      <td>fullstackengineer</td>\n",
       "      <td>2019.0</td>\n",
       "      <td>4.0</td>\n",
       "      <td>3</td>\n",
       "      <td>3</td>\n",
       "      <td>293.0</td>\n",
       "      <td>1.067873e+06</td>\n",
       "      <td>644402.951971</td>\n",
       "      <td>10000.0</td>\n",
       "      <td>600000.0</td>\n",
       "      <td>880000.0</td>\n",
       "      <td>1500000.0</td>\n",
       "      <td>3200000.0</td>\n",
       "      <td>3</td>\n",
       "    </tr>\n",
       "    <tr>\n",
       "      <th>2</th>\n",
       "      <td>other</td>\n",
       "      <td>2015.0</td>\n",
       "      <td>2000000</td>\n",
       "      <td>backendengineer</td>\n",
       "      <td>2020.0</td>\n",
       "      <td>7.0</td>\n",
       "      <td>1</td>\n",
       "      <td>1</td>\n",
       "      <td>22869.0</td>\n",
       "      <td>9.677156e+05</td>\n",
       "      <td>750220.307027</td>\n",
       "      <td>24.0</td>\n",
       "      <td>400000.0</td>\n",
       "      <td>800000.0</td>\n",
       "      <td>1400000.0</td>\n",
       "      <td>3329999.0</td>\n",
       "      <td>1</td>\n",
       "    </tr>\n",
       "    <tr>\n",
       "      <th>3</th>\n",
       "      <td>ngpgutaxv</td>\n",
       "      <td>2017.0</td>\n",
       "      <td>700000</td>\n",
       "      <td>backendengineer</td>\n",
       "      <td>2019.0</td>\n",
       "      <td>5.0</td>\n",
       "      <td>3</td>\n",
       "      <td>3</td>\n",
       "      <td>47.0</td>\n",
       "      <td>1.356702e+06</td>\n",
       "      <td>570209.988585</td>\n",
       "      <td>200000.0</td>\n",
       "      <td>995000.0</td>\n",
       "      <td>1235000.0</td>\n",
       "      <td>1770000.0</td>\n",
       "      <td>2600000.0</td>\n",
       "      <td>3</td>\n",
       "    </tr>\n",
       "    <tr>\n",
       "      <th>4</th>\n",
       "      <td>other</td>\n",
       "      <td>2017.0</td>\n",
       "      <td>1400000</td>\n",
       "      <td>fullstackengineer</td>\n",
       "      <td>2019.0</td>\n",
       "      <td>5.0</td>\n",
       "      <td>1</td>\n",
       "      <td>1</td>\n",
       "      <td>22869.0</td>\n",
       "      <td>9.677156e+05</td>\n",
       "      <td>750220.307027</td>\n",
       "      <td>24.0</td>\n",
       "      <td>400000.0</td>\n",
       "      <td>800000.0</td>\n",
       "      <td>1400000.0</td>\n",
       "      <td>3329999.0</td>\n",
       "      <td>2</td>\n",
       "    </tr>\n",
       "    <tr>\n",
       "      <th>...</th>\n",
       "      <td>...</td>\n",
       "      <td>...</td>\n",
       "      <td>...</td>\n",
       "      <td>...</td>\n",
       "      <td>...</td>\n",
       "      <td>...</td>\n",
       "      <td>...</td>\n",
       "      <td>...</td>\n",
       "      <td>...</td>\n",
       "      <td>...</td>\n",
       "      <td>...</td>\n",
       "      <td>...</td>\n",
       "      <td>...</td>\n",
       "      <td>...</td>\n",
       "      <td>...</td>\n",
       "      <td>...</td>\n",
       "      <td>...</td>\n",
       "    </tr>\n",
       "    <tr>\n",
       "      <th>112016</th>\n",
       "      <td>gqvwrt</td>\n",
       "      <td>2019.0</td>\n",
       "      <td>950000</td>\n",
       "      <td>backendengineer</td>\n",
       "      <td>2021.0</td>\n",
       "      <td>3.0</td>\n",
       "      <td>3</td>\n",
       "      <td>3</td>\n",
       "      <td>1465.0</td>\n",
       "      <td>1.393873e+06</td>\n",
       "      <td>695252.624481</td>\n",
       "      <td>7500.0</td>\n",
       "      <td>900000.0</td>\n",
       "      <td>1250000.0</td>\n",
       "      <td>1900000.0</td>\n",
       "      <td>3300000.0</td>\n",
       "      <td>3</td>\n",
       "    </tr>\n",
       "    <tr>\n",
       "      <th>112017</th>\n",
       "      <td>ugrxwjmvkvvqwgb</td>\n",
       "      <td>2021.0</td>\n",
       "      <td>1000000</td>\n",
       "      <td>backendengineer</td>\n",
       "      <td>2021.0</td>\n",
       "      <td>1.0</td>\n",
       "      <td>2</td>\n",
       "      <td>2</td>\n",
       "      <td>56.0</td>\n",
       "      <td>1.003071e+06</td>\n",
       "      <td>618813.741587</td>\n",
       "      <td>220000.0</td>\n",
       "      <td>590000.0</td>\n",
       "      <td>890000.0</td>\n",
       "      <td>1300000.0</td>\n",
       "      <td>3300000.0</td>\n",
       "      <td>2</td>\n",
       "    </tr>\n",
       "    <tr>\n",
       "      <th>112018</th>\n",
       "      <td>wosxzntqzvnxgzvr</td>\n",
       "      <td>2016.0</td>\n",
       "      <td>1500000</td>\n",
       "      <td>fullstackengineer</td>\n",
       "      <td>2021.0</td>\n",
       "      <td>6.0</td>\n",
       "      <td>1</td>\n",
       "      <td>2</td>\n",
       "      <td>32.0</td>\n",
       "      <td>1.145312e+06</td>\n",
       "      <td>597073.441358</td>\n",
       "      <td>100000.0</td>\n",
       "      <td>795000.0</td>\n",
       "      <td>1000000.0</td>\n",
       "      <td>1225000.0</td>\n",
       "      <td>2800000.0</td>\n",
       "      <td>1</td>\n",
       "    </tr>\n",
       "    <tr>\n",
       "      <th>112019</th>\n",
       "      <td>ahzzyhbmj</td>\n",
       "      <td>2019.0</td>\n",
       "      <td>1100000</td>\n",
       "      <td>datascientist</td>\n",
       "      <td>2021.0</td>\n",
       "      <td>3.0</td>\n",
       "      <td>1</td>\n",
       "      <td>3</td>\n",
       "      <td>40.0</td>\n",
       "      <td>1.244325e+06</td>\n",
       "      <td>404382.618226</td>\n",
       "      <td>31000.0</td>\n",
       "      <td>1100000.0</td>\n",
       "      <td>1195000.0</td>\n",
       "      <td>1425000.0</td>\n",
       "      <td>2100000.0</td>\n",
       "      <td>3</td>\n",
       "    </tr>\n",
       "    <tr>\n",
       "      <th>112020</th>\n",
       "      <td>other</td>\n",
       "      <td>2017.0</td>\n",
       "      <td>1100000</td>\n",
       "      <td>frontendengineer</td>\n",
       "      <td>2021.0</td>\n",
       "      <td>5.0</td>\n",
       "      <td>1</td>\n",
       "      <td>2</td>\n",
       "      <td>22869.0</td>\n",
       "      <td>9.677156e+05</td>\n",
       "      <td>750220.307027</td>\n",
       "      <td>24.0</td>\n",
       "      <td>400000.0</td>\n",
       "      <td>800000.0</td>\n",
       "      <td>1400000.0</td>\n",
       "      <td>3329999.0</td>\n",
       "      <td>2</td>\n",
       "    </tr>\n",
       "  </tbody>\n",
       "</table>\n",
       "<p>112021 rows × 17 columns</p>\n",
       "</div>"
      ],
      "text/plain": [
       "                   company_hash  orgyear      ctc       job_position  \\\n",
       "0                 atrgxnntxzaxv   2016.0  1100000              other   \n",
       "1       qtrxvzwtxzegwgbbrxbxnta   2018.0   449999  fullstackengineer   \n",
       "2                         other   2015.0  2000000    backendengineer   \n",
       "3                     ngpgutaxv   2017.0   700000    backendengineer   \n",
       "4                         other   2017.0  1400000  fullstackengineer   \n",
       "...                         ...      ...      ...                ...   \n",
       "112016                   gqvwrt   2019.0   950000    backendengineer   \n",
       "112017          ugrxwjmvkvvqwgb   2021.0  1000000    backendengineer   \n",
       "112018         wosxzntqzvnxgzvr   2016.0  1500000  fullstackengineer   \n",
       "112019                ahzzyhbmj   2019.0  1100000      datascientist   \n",
       "112020                    other   2017.0  1100000   frontendengineer   \n",
       "\n",
       "        ctc_updated_year  experience  desig  desg1    count          mean  \\\n",
       "0                 2020.0         6.0      2      1      9.0  1.115667e+06   \n",
       "1                 2019.0         4.0      3      3    293.0  1.067873e+06   \n",
       "2                 2020.0         7.0      1      1  22869.0  9.677156e+05   \n",
       "3                 2019.0         5.0      3      3     47.0  1.356702e+06   \n",
       "4                 2019.0         5.0      1      1  22869.0  9.677156e+05   \n",
       "...                  ...         ...    ...    ...      ...           ...   \n",
       "112016            2021.0         3.0      3      3   1465.0  1.393873e+06   \n",
       "112017            2021.0         1.0      2      2     56.0  1.003071e+06   \n",
       "112018            2021.0         6.0      1      2     32.0  1.145312e+06   \n",
       "112019            2021.0         3.0      1      3     40.0  1.244325e+06   \n",
       "112020            2021.0         5.0      1      2  22869.0  9.677156e+05   \n",
       "\n",
       "                  std       min        25%        50%        75%        max  \\\n",
       "0       458111.885897  500000.0   800000.0  1070000.0  1500000.0  1771000.0   \n",
       "1       644402.951971   10000.0   600000.0   880000.0  1500000.0  3200000.0   \n",
       "2       750220.307027      24.0   400000.0   800000.0  1400000.0  3329999.0   \n",
       "3       570209.988585  200000.0   995000.0  1235000.0  1770000.0  2600000.0   \n",
       "4       750220.307027      24.0   400000.0   800000.0  1400000.0  3329999.0   \n",
       "...               ...       ...        ...        ...        ...        ...   \n",
       "112016  695252.624481    7500.0   900000.0  1250000.0  1900000.0  3300000.0   \n",
       "112017  618813.741587  220000.0   590000.0   890000.0  1300000.0  3300000.0   \n",
       "112018  597073.441358  100000.0   795000.0  1000000.0  1225000.0  2800000.0   \n",
       "112019  404382.618226   31000.0  1100000.0  1195000.0  1425000.0  2100000.0   \n",
       "112020  750220.307027      24.0   400000.0   800000.0  1400000.0  3329999.0   \n",
       "\n",
       "        desig2  \n",
       "0            2  \n",
       "1            3  \n",
       "2            1  \n",
       "3            3  \n",
       "4            2  \n",
       "...        ...  \n",
       "112016       3  \n",
       "112017       2  \n",
       "112018       1  \n",
       "112019       3  \n",
       "112020       2  \n",
       "\n",
       "[112021 rows x 17 columns]"
      ]
     },
     "execution_count": 121,
     "metadata": {},
     "output_type": "execute_result"
    }
   ],
   "source": [
    "fd"
   ]
  },
  {
   "cell_type": "code",
   "execution_count": 122,
   "id": "875c37ea",
   "metadata": {},
   "outputs": [],
   "source": [
    "fd.drop(columns=['count','mean','std','min','25%','50%','75%','max'],inplace=True)"
   ]
  },
  {
   "cell_type": "code",
   "execution_count": 124,
   "id": "f27d56f4",
   "metadata": {},
   "outputs": [
    {
     "data": {
      "text/plain": [
       "company_hash        0\n",
       "orgyear             0\n",
       "ctc                 0\n",
       "job_position        0\n",
       "ctc_updated_year    0\n",
       "experience          0\n",
       "desig               0\n",
       "desg1               0\n",
       "desig2              0\n",
       "dtype: int64"
      ]
     },
     "execution_count": 124,
     "metadata": {},
     "output_type": "execute_result"
    }
   ],
   "source": [
    "fd.isnull().sum()"
   ]
  },
  {
   "cell_type": "code",
   "execution_count": 125,
   "id": "fbacdfd2",
   "metadata": {},
   "outputs": [
    {
     "data": {
      "text/plain": [
       "(112021, 9)"
      ]
     },
     "execution_count": 125,
     "metadata": {},
     "output_type": "execute_result"
    }
   ],
   "source": [
    "fd.shape"
   ]
  },
  {
   "cell_type": "code",
   "execution_count": 129,
   "id": "c651cd48",
   "metadata": {},
   "outputs": [
    {
     "data": {
      "text/plain": [
       "0"
      ]
     },
     "execution_count": 129,
     "metadata": {},
     "output_type": "execute_result"
    }
   ],
   "source": [
    "fd.duplicated().sum()"
   ]
  },
  {
   "cell_type": "code",
   "execution_count": 131,
   "id": "67a5e8ac",
   "metadata": {},
   "outputs": [],
   "source": [
    "# doing the encoding so that to make  ready for ml"
   ]
  },
  {
   "cell_type": "code",
   "execution_count": null,
   "id": "ff096322",
   "metadata": {},
   "outputs": [],
   "source": []
  },
  {
   "cell_type": "code",
   "execution_count": null,
   "id": "b92f807d",
   "metadata": {},
   "outputs": [],
   "source": []
  },
  {
   "cell_type": "code",
   "execution_count": null,
   "id": "6cca1fe5",
   "metadata": {},
   "outputs": [],
   "source": []
  },
  {
   "cell_type": "code",
   "execution_count": 132,
   "id": "52348395",
   "metadata": {},
   "outputs": [
    {
     "name": "stdout",
     "output_type": "stream",
     "text": [
      "<class 'pandas.core.frame.DataFrame'>\n",
      "Int64Index: 112021 entries, 0 to 112020\n",
      "Data columns (total 9 columns):\n",
      " #   Column            Non-Null Count   Dtype  \n",
      "---  ------            --------------   -----  \n",
      " 0   company_hash      112021 non-null  object \n",
      " 1   orgyear           112021 non-null  float64\n",
      " 2   ctc               112021 non-null  int64  \n",
      " 3   job_position      112021 non-null  object \n",
      " 4   ctc_updated_year  112021 non-null  float64\n",
      " 5   experience        112021 non-null  float64\n",
      " 6   desig             112021 non-null  int64  \n",
      " 7   desg1             112021 non-null  int64  \n",
      " 8   desig2            112021 non-null  int64  \n",
      "dtypes: float64(3), int64(4), object(2)\n",
      "memory usage: 8.5+ MB\n"
     ]
    }
   ],
   "source": [
    "fd.info()"
   ]
  },
  {
   "cell_type": "markdown",
   "id": "1588ca2a",
   "metadata": {},
   "source": [
    "## Label encoding"
   ]
  },
  {
   "cell_type": "code",
   "execution_count": 141,
   "id": "ddf53839",
   "metadata": {},
   "outputs": [
    {
     "data": {
      "text/plain": [
       "2248"
      ]
     },
     "execution_count": 141,
     "metadata": {},
     "output_type": "execute_result"
    }
   ],
   "source": [
    "fd['company_hash'].nunique()"
   ]
  },
  {
   "cell_type": "code",
   "execution_count": 143,
   "id": "5fa8d798",
   "metadata": {},
   "outputs": [],
   "source": [
    "from sklearn import preprocessing\n",
    "lable_encoding=preprocessing.LabelEncoder()\n",
    "fd['company_hash']=lable_encoding.fit_transform(fd['company_hash'])"
   ]
  },
  {
   "cell_type": "code",
   "execution_count": 144,
   "id": "83c6bda7",
   "metadata": {},
   "outputs": [
    {
     "data": {
      "text/plain": [
       "2248"
      ]
     },
     "execution_count": 144,
     "metadata": {},
     "output_type": "execute_result"
    }
   ],
   "source": [
    "fd['company_hash'].nunique()"
   ]
  },
  {
   "cell_type": "code",
   "execution_count": 145,
   "id": "c39ceca1",
   "metadata": {},
   "outputs": [],
   "source": [
    "lable_encoding=preprocessing.LabelEncoder()\n",
    "fd['job_position']=lable_encoding.fit_transform(fd['job_position'])"
   ]
  },
  {
   "cell_type": "code",
   "execution_count": 146,
   "id": "d4d05d67",
   "metadata": {},
   "outputs": [
    {
     "data": {
      "text/plain": [
       "741"
      ]
     },
     "execution_count": 146,
     "metadata": {},
     "output_type": "execute_result"
    }
   ],
   "source": [
    "fd['job_position'].nunique()"
   ]
  },
  {
   "cell_type": "code",
   "execution_count": 147,
   "id": "a1b2b092",
   "metadata": {},
   "outputs": [
    {
     "data": {
      "text/html": [
       "<div>\n",
       "<style scoped>\n",
       "    .dataframe tbody tr th:only-of-type {\n",
       "        vertical-align: middle;\n",
       "    }\n",
       "\n",
       "    .dataframe tbody tr th {\n",
       "        vertical-align: top;\n",
       "    }\n",
       "\n",
       "    .dataframe thead th {\n",
       "        text-align: right;\n",
       "    }\n",
       "</style>\n",
       "<table border=\"1\" class=\"dataframe\">\n",
       "  <thead>\n",
       "    <tr style=\"text-align: right;\">\n",
       "      <th></th>\n",
       "      <th>company_hash</th>\n",
       "      <th>orgyear</th>\n",
       "      <th>ctc</th>\n",
       "      <th>job_position</th>\n",
       "      <th>ctc_updated_year</th>\n",
       "      <th>experience</th>\n",
       "      <th>desig</th>\n",
       "      <th>desg1</th>\n",
       "      <th>desig2</th>\n",
       "    </tr>\n",
       "  </thead>\n",
       "  <tbody>\n",
       "    <tr>\n",
       "      <th>0</th>\n",
       "      <td>34</td>\n",
       "      <td>2016.0</td>\n",
       "      <td>1100000</td>\n",
       "      <td>370</td>\n",
       "      <td>2020.0</td>\n",
       "      <td>6.0</td>\n",
       "      <td>2</td>\n",
       "      <td>1</td>\n",
       "      <td>2</td>\n",
       "    </tr>\n",
       "    <tr>\n",
       "      <th>1</th>\n",
       "      <td>1132</td>\n",
       "      <td>2018.0</td>\n",
       "      <td>449999</td>\n",
       "      <td>228</td>\n",
       "      <td>2019.0</td>\n",
       "      <td>4.0</td>\n",
       "      <td>3</td>\n",
       "      <td>3</td>\n",
       "      <td>3</td>\n",
       "    </tr>\n",
       "    <tr>\n",
       "      <th>2</th>\n",
       "      <td>947</td>\n",
       "      <td>2015.0</td>\n",
       "      <td>2000000</td>\n",
       "      <td>101</td>\n",
       "      <td>2020.0</td>\n",
       "      <td>7.0</td>\n",
       "      <td>1</td>\n",
       "      <td>1</td>\n",
       "      <td>1</td>\n",
       "    </tr>\n",
       "    <tr>\n",
       "      <th>3</th>\n",
       "      <td>716</td>\n",
       "      <td>2017.0</td>\n",
       "      <td>700000</td>\n",
       "      <td>101</td>\n",
       "      <td>2019.0</td>\n",
       "      <td>5.0</td>\n",
       "      <td>3</td>\n",
       "      <td>3</td>\n",
       "      <td>3</td>\n",
       "    </tr>\n",
       "    <tr>\n",
       "      <th>4</th>\n",
       "      <td>947</td>\n",
       "      <td>2017.0</td>\n",
       "      <td>1400000</td>\n",
       "      <td>228</td>\n",
       "      <td>2019.0</td>\n",
       "      <td>5.0</td>\n",
       "      <td>1</td>\n",
       "      <td>1</td>\n",
       "      <td>2</td>\n",
       "    </tr>\n",
       "    <tr>\n",
       "      <th>...</th>\n",
       "      <td>...</td>\n",
       "      <td>...</td>\n",
       "      <td>...</td>\n",
       "      <td>...</td>\n",
       "      <td>...</td>\n",
       "      <td>...</td>\n",
       "      <td>...</td>\n",
       "      <td>...</td>\n",
       "      <td>...</td>\n",
       "    </tr>\n",
       "    <tr>\n",
       "      <th>112016</th>\n",
       "      <td>434</td>\n",
       "      <td>2019.0</td>\n",
       "      <td>950000</td>\n",
       "      <td>101</td>\n",
       "      <td>2021.0</td>\n",
       "      <td>3.0</td>\n",
       "      <td>3</td>\n",
       "      <td>3</td>\n",
       "      <td>3</td>\n",
       "    </tr>\n",
       "    <tr>\n",
       "      <th>112017</th>\n",
       "      <td>1403</td>\n",
       "      <td>2021.0</td>\n",
       "      <td>1000000</td>\n",
       "      <td>101</td>\n",
       "      <td>2021.0</td>\n",
       "      <td>1.0</td>\n",
       "      <td>2</td>\n",
       "      <td>2</td>\n",
       "      <td>2</td>\n",
       "    </tr>\n",
       "    <tr>\n",
       "      <th>112018</th>\n",
       "      <td>1783</td>\n",
       "      <td>2016.0</td>\n",
       "      <td>1500000</td>\n",
       "      <td>228</td>\n",
       "      <td>2021.0</td>\n",
       "      <td>6.0</td>\n",
       "      <td>1</td>\n",
       "      <td>2</td>\n",
       "      <td>1</td>\n",
       "    </tr>\n",
       "    <tr>\n",
       "      <th>112019</th>\n",
       "      <td>13</td>\n",
       "      <td>2019.0</td>\n",
       "      <td>1100000</td>\n",
       "      <td>161</td>\n",
       "      <td>2021.0</td>\n",
       "      <td>3.0</td>\n",
       "      <td>1</td>\n",
       "      <td>3</td>\n",
       "      <td>3</td>\n",
       "    </tr>\n",
       "    <tr>\n",
       "      <th>112020</th>\n",
       "      <td>947</td>\n",
       "      <td>2017.0</td>\n",
       "      <td>1100000</td>\n",
       "      <td>224</td>\n",
       "      <td>2021.0</td>\n",
       "      <td>5.0</td>\n",
       "      <td>1</td>\n",
       "      <td>2</td>\n",
       "      <td>2</td>\n",
       "    </tr>\n",
       "  </tbody>\n",
       "</table>\n",
       "<p>112021 rows × 9 columns</p>\n",
       "</div>"
      ],
      "text/plain": [
       "        company_hash  orgyear      ctc  job_position  ctc_updated_year  \\\n",
       "0                 34   2016.0  1100000           370            2020.0   \n",
       "1               1132   2018.0   449999           228            2019.0   \n",
       "2                947   2015.0  2000000           101            2020.0   \n",
       "3                716   2017.0   700000           101            2019.0   \n",
       "4                947   2017.0  1400000           228            2019.0   \n",
       "...              ...      ...      ...           ...               ...   \n",
       "112016           434   2019.0   950000           101            2021.0   \n",
       "112017          1403   2021.0  1000000           101            2021.0   \n",
       "112018          1783   2016.0  1500000           228            2021.0   \n",
       "112019            13   2019.0  1100000           161            2021.0   \n",
       "112020           947   2017.0  1100000           224            2021.0   \n",
       "\n",
       "        experience  desig  desg1  desig2  \n",
       "0              6.0      2      1       2  \n",
       "1              4.0      3      3       3  \n",
       "2              7.0      1      1       1  \n",
       "3              5.0      3      3       3  \n",
       "4              5.0      1      1       2  \n",
       "...            ...    ...    ...     ...  \n",
       "112016         3.0      3      3       3  \n",
       "112017         1.0      2      2       2  \n",
       "112018         6.0      1      2       1  \n",
       "112019         3.0      1      3       3  \n",
       "112020         5.0      1      2       2  \n",
       "\n",
       "[112021 rows x 9 columns]"
      ]
     },
     "execution_count": 147,
     "metadata": {},
     "output_type": "execute_result"
    }
   ],
   "source": [
    "fd"
   ]
  },
  {
   "cell_type": "code",
   "execution_count": 148,
   "id": "ff6339fe",
   "metadata": {},
   "outputs": [],
   "source": [
    "fd.drop(columns=['ctc_updated_year','orgyear'],inplace=True)"
   ]
  },
  {
   "cell_type": "code",
   "execution_count": 149,
   "id": "0394e41d",
   "metadata": {},
   "outputs": [
    {
     "data": {
      "text/html": [
       "<div>\n",
       "<style scoped>\n",
       "    .dataframe tbody tr th:only-of-type {\n",
       "        vertical-align: middle;\n",
       "    }\n",
       "\n",
       "    .dataframe tbody tr th {\n",
       "        vertical-align: top;\n",
       "    }\n",
       "\n",
       "    .dataframe thead th {\n",
       "        text-align: right;\n",
       "    }\n",
       "</style>\n",
       "<table border=\"1\" class=\"dataframe\">\n",
       "  <thead>\n",
       "    <tr style=\"text-align: right;\">\n",
       "      <th></th>\n",
       "      <th>company_hash</th>\n",
       "      <th>ctc</th>\n",
       "      <th>job_position</th>\n",
       "      <th>experience</th>\n",
       "      <th>desig</th>\n",
       "      <th>desg1</th>\n",
       "      <th>desig2</th>\n",
       "    </tr>\n",
       "  </thead>\n",
       "  <tbody>\n",
       "    <tr>\n",
       "      <th>0</th>\n",
       "      <td>34</td>\n",
       "      <td>1100000</td>\n",
       "      <td>370</td>\n",
       "      <td>6.0</td>\n",
       "      <td>2</td>\n",
       "      <td>1</td>\n",
       "      <td>2</td>\n",
       "    </tr>\n",
       "    <tr>\n",
       "      <th>1</th>\n",
       "      <td>1132</td>\n",
       "      <td>449999</td>\n",
       "      <td>228</td>\n",
       "      <td>4.0</td>\n",
       "      <td>3</td>\n",
       "      <td>3</td>\n",
       "      <td>3</td>\n",
       "    </tr>\n",
       "    <tr>\n",
       "      <th>2</th>\n",
       "      <td>947</td>\n",
       "      <td>2000000</td>\n",
       "      <td>101</td>\n",
       "      <td>7.0</td>\n",
       "      <td>1</td>\n",
       "      <td>1</td>\n",
       "      <td>1</td>\n",
       "    </tr>\n",
       "    <tr>\n",
       "      <th>3</th>\n",
       "      <td>716</td>\n",
       "      <td>700000</td>\n",
       "      <td>101</td>\n",
       "      <td>5.0</td>\n",
       "      <td>3</td>\n",
       "      <td>3</td>\n",
       "      <td>3</td>\n",
       "    </tr>\n",
       "    <tr>\n",
       "      <th>4</th>\n",
       "      <td>947</td>\n",
       "      <td>1400000</td>\n",
       "      <td>228</td>\n",
       "      <td>5.0</td>\n",
       "      <td>1</td>\n",
       "      <td>1</td>\n",
       "      <td>2</td>\n",
       "    </tr>\n",
       "    <tr>\n",
       "      <th>...</th>\n",
       "      <td>...</td>\n",
       "      <td>...</td>\n",
       "      <td>...</td>\n",
       "      <td>...</td>\n",
       "      <td>...</td>\n",
       "      <td>...</td>\n",
       "      <td>...</td>\n",
       "    </tr>\n",
       "    <tr>\n",
       "      <th>112016</th>\n",
       "      <td>434</td>\n",
       "      <td>950000</td>\n",
       "      <td>101</td>\n",
       "      <td>3.0</td>\n",
       "      <td>3</td>\n",
       "      <td>3</td>\n",
       "      <td>3</td>\n",
       "    </tr>\n",
       "    <tr>\n",
       "      <th>112017</th>\n",
       "      <td>1403</td>\n",
       "      <td>1000000</td>\n",
       "      <td>101</td>\n",
       "      <td>1.0</td>\n",
       "      <td>2</td>\n",
       "      <td>2</td>\n",
       "      <td>2</td>\n",
       "    </tr>\n",
       "    <tr>\n",
       "      <th>112018</th>\n",
       "      <td>1783</td>\n",
       "      <td>1500000</td>\n",
       "      <td>228</td>\n",
       "      <td>6.0</td>\n",
       "      <td>1</td>\n",
       "      <td>2</td>\n",
       "      <td>1</td>\n",
       "    </tr>\n",
       "    <tr>\n",
       "      <th>112019</th>\n",
       "      <td>13</td>\n",
       "      <td>1100000</td>\n",
       "      <td>161</td>\n",
       "      <td>3.0</td>\n",
       "      <td>1</td>\n",
       "      <td>3</td>\n",
       "      <td>3</td>\n",
       "    </tr>\n",
       "    <tr>\n",
       "      <th>112020</th>\n",
       "      <td>947</td>\n",
       "      <td>1100000</td>\n",
       "      <td>224</td>\n",
       "      <td>5.0</td>\n",
       "      <td>1</td>\n",
       "      <td>2</td>\n",
       "      <td>2</td>\n",
       "    </tr>\n",
       "  </tbody>\n",
       "</table>\n",
       "<p>112021 rows × 7 columns</p>\n",
       "</div>"
      ],
      "text/plain": [
       "        company_hash      ctc  job_position  experience  desig  desg1  desig2\n",
       "0                 34  1100000           370         6.0      2      1       2\n",
       "1               1132   449999           228         4.0      3      3       3\n",
       "2                947  2000000           101         7.0      1      1       1\n",
       "3                716   700000           101         5.0      3      3       3\n",
       "4                947  1400000           228         5.0      1      1       2\n",
       "...              ...      ...           ...         ...    ...    ...     ...\n",
       "112016           434   950000           101         3.0      3      3       3\n",
       "112017          1403  1000000           101         1.0      2      2       2\n",
       "112018          1783  1500000           228         6.0      1      2       1\n",
       "112019            13  1100000           161         3.0      1      3       3\n",
       "112020           947  1100000           224         5.0      1      2       2\n",
       "\n",
       "[112021 rows x 7 columns]"
      ]
     },
     "execution_count": 149,
     "metadata": {},
     "output_type": "execute_result"
    }
   ],
   "source": [
    "fd"
   ]
  },
  {
   "cell_type": "markdown",
   "id": "45440a5a",
   "metadata": {},
   "source": [
    "## standardize the data of ctc "
   ]
  },
  {
   "cell_type": "code",
   "execution_count": 151,
   "id": "6fde66ed",
   "metadata": {},
   "outputs": [],
   "source": [
    "from sklearn.preprocessing import MinMaxScaler\n",
    "ms=MinMaxScaler()\n",
    "fd[['ctc']]=ms.fit_transform(fd[['ctc']])"
   ]
  },
  {
   "cell_type": "code",
   "execution_count": 154,
   "id": "8320e483",
   "metadata": {},
   "outputs": [],
   "source": [
    "# data is ready for ml now we will use the unsupervied algo to start to\n",
    "# make the machine learn kmean and hirarichal"
   ]
  },
  {
   "cell_type": "code",
   "execution_count": 161,
   "id": "f0323b96",
   "metadata": {},
   "outputs": [],
   "source": [
    "# K_Mean clustering"
   ]
  },
  {
   "cell_type": "code",
   "execution_count": 162,
   "id": "2acfea1d",
   "metadata": {},
   "outputs": [],
   "source": [
    "# elbow method to know the number of groups "
   ]
  },
  {
   "cell_type": "code",
   "execution_count": 166,
   "id": "7fb42ed1",
   "metadata": {},
   "outputs": [],
   "source": [
    "from sklearn.cluster import KMeans"
   ]
  },
  {
   "cell_type": "code",
   "execution_count": 167,
   "id": "e2a53dbd",
   "metadata": {},
   "outputs": [
    {
     "data": {
      "image/png": "[encoded data removed]",
      "text/plain": [
       "<Figure size 432x288 with 1 Axes>"
      ]
     },
     "metadata": {
      "needs_background": "light"
     },
     "output_type": "display_data"
    }
   ],
   "source": [
    "Sum_of_squared_distances = []\n",
    "K = range(1,10)\n",
    "for num_clusters in K :\n",
    " kmeans = KMeans(n_clusters=num_clusters)\n",
    " kmeans.fit(fd)\n",
    " Sum_of_squared_distances.append(kmeans.inertia_)\n",
    "plt.plot(K,Sum_of_squared_distances,'bx-')\n",
    "plt.xlabel('Values of K') \n",
    "plt.ylabel('Sum of squared distances/Inertia') \n",
    "plt.title('Elbow Method For Optimal k')\n",
    "plt.show()"
   ]
  },
  {
   "cell_type": "code",
   "execution_count": 168,
   "id": "d971a3f3",
   "metadata": {},
   "outputs": [],
   "source": [
    "# here 3 is the the number of group which we are going to form"
   ]
  },
  {
   "cell_type": "code",
   "execution_count": 169,
   "id": "1bc0ffbc",
   "metadata": {},
   "outputs": [
    {
     "data": {
      "text/plain": [
       "KMeans(n_clusters=3)"
      ]
     },
     "execution_count": 169,
     "metadata": {},
     "output_type": "execute_result"
    }
   ],
   "source": [
    "kmean=KMeans(n_clusters=3)\n",
    "kmean.fit(fd)"
   ]
  },
  {
   "cell_type": "code",
   "execution_count": 174,
   "id": "108308d2",
   "metadata": {},
   "outputs": [
    {
     "data": {
      "text/plain": [
       "(3, 7)"
      ]
     },
     "execution_count": 174,
     "metadata": {},
     "output_type": "execute_result"
    }
   ],
   "source": [
    "kmean.cluster_centers_.shape"
   ]
  },
  {
   "cell_type": "code",
   "execution_count": 173,
   "id": "3012bc51",
   "metadata": {},
   "outputs": [],
   "source": [
    "y=kmean.predict(fd)"
   ]
  },
  {
   "cell_type": "code",
   "execution_count": 175,
   "id": "d1ab2d61",
   "metadata": {},
   "outputs": [
    {
     "data": {
      "text/plain": [
       "array([2, 0, 0, ..., 1, 2, 0])"
      ]
     },
     "execution_count": 175,
     "metadata": {},
     "output_type": "execute_result"
    }
   ],
   "source": [
    "y"
   ]
  },
  {
   "cell_type": "code",
   "execution_count": 178,
   "id": "ad8971b3",
   "metadata": {},
   "outputs": [],
   "source": [
    "fd['km_label']=y"
   ]
  },
  {
   "cell_type": "code",
   "execution_count": 181,
   "id": "19fea0d8",
   "metadata": {},
   "outputs": [],
   "source": [
    "#import plotly.express as px\n",
    "\n",
    "#polar = fd.groupby(\"km_label\").mean().reset_index()\n",
    "#polar = pd.melt(polar, id_vars=['km_label'])\n",
    "#fig = px.line_polar(polar, r=\"value\", theta=\"variable\", color=\"km_label\",line_close=True,height=700,width=800)\n",
    "#fig.show()\n"
   ]
  },
  {
   "cell_type": "code",
   "execution_count": null,
   "id": "57dc5814",
   "metadata": {},
   "outputs": [],
   "source": []
  },
  {
   "cell_type": "code",
   "execution_count": null,
   "id": "41502a3c",
   "metadata": {},
   "outputs": [],
   "source": []
  },
  {
   "cell_type": "code",
   "execution_count": 182,
   "id": "436f3bba",
   "metadata": {},
   "outputs": [],
   "source": [
    "# hierarchical clustering"
   ]
  },
  {
   "cell_type": "code",
   "execution_count": 183,
   "id": "9fcc9460",
   "metadata": {},
   "outputs": [],
   "source": [
    "k=fd.drop(columns=['km_label'])"
   ]
  },
  {
   "cell_type": "code",
   "execution_count": 194,
   "id": "efa5a535",
   "metadata": {},
   "outputs": [],
   "source": [
    "z=k.sample(frac=0.025)"
   ]
  },
  {
   "cell_type": "code",
   "execution_count": 195,
   "id": "19babdd8",
   "metadata": {},
   "outputs": [
    {
     "name": "stdout",
     "output_type": "stream",
     "text": [
      "<class 'pandas.core.frame.DataFrame'>\n",
      "Int64Index: 2801 entries, 71856 to 70978\n",
      "Data columns (total 7 columns):\n",
      " #   Column        Non-Null Count  Dtype  \n",
      "---  ------        --------------  -----  \n",
      " 0   company_hash  2801 non-null   int32  \n",
      " 1   ctc           2801 non-null   float64\n",
      " 2   job_position  2801 non-null   int32  \n",
      " 3   experience    2801 non-null   float64\n",
      " 4   desig         2801 non-null   int64  \n",
      " 5   desg1         2801 non-null   int64  \n",
      " 6   desig2        2801 non-null   int64  \n",
      "dtypes: float64(2), int32(2), int64(3)\n",
      "memory usage: 153.2 KB\n"
     ]
    }
   ],
   "source": [
    "z.info()"
   ]
  },
  {
   "cell_type": "code",
   "execution_count": 196,
   "id": "0d013621",
   "metadata": {},
   "outputs": [],
   "source": [
    "import sys"
   ]
  },
  {
   "cell_type": "code",
   "execution_count": 197,
   "id": "5dd30200",
   "metadata": {},
   "outputs": [],
   "source": [
    "sys.setrecursionlimit(10000)"
   ]
  },
  {
   "cell_type": "code",
   "execution_count": 198,
   "id": "60042cdf",
   "metadata": {},
   "outputs": [
    {
     "data": {
      "image/png": "[encoded data removed]",
      "text/plain": [
       "<Figure size 432x288 with 1 Axes>"
      ]
     },
     "metadata": {
      "needs_background": "light"
     },
     "output_type": "display_data"
    }
   ],
   "source": [
    "import scipy.cluster.hierarchy as sch\n",
    "dendrogrm = sch.dendrogram(sch.linkage(z, method = 'ward'))\n",
    "plt.title('Dendrogram')\n",
    "plt.xlabel('placements')\n",
    "plt.ylabel('Euclidean distance')\n",
    "plt.show()"
   ]
  },
  {
   "cell_type": "code",
   "execution_count": 199,
   "id": "a1a62b25",
   "metadata": {},
   "outputs": [
    {
     "data": {
      "text/plain": [
       "AgglomerativeClustering(n_clusters=3)"
      ]
     },
     "execution_count": 199,
     "metadata": {},
     "output_type": "execute_result"
    }
   ],
   "source": [
    "from sklearn.cluster import AgglomerativeClustering\n",
    "model = AgglomerativeClustering(n_clusters=3, affinity='euclidean', linkage='ward')\n",
    "model.fit(z)"
   ]
  },
  {
   "cell_type": "code",
   "execution_count": 200,
   "id": "99f37ca7",
   "metadata": {},
   "outputs": [],
   "source": [
    "z['Aglo-label'] = model.fit_predict(z)"
   ]
  },
  {
   "cell_type": "code",
   "execution_count": 201,
   "id": "2858691c",
   "metadata": {},
   "outputs": [
    {
     "data": {
      "text/html": [
       "<div>\n",
       "<style scoped>\n",
       "    .dataframe tbody tr th:only-of-type {\n",
       "        vertical-align: middle;\n",
       "    }\n",
       "\n",
       "    .dataframe tbody tr th {\n",
       "        vertical-align: top;\n",
       "    }\n",
       "\n",
       "    .dataframe thead th {\n",
       "        text-align: right;\n",
       "    }\n",
       "</style>\n",
       "<table border=\"1\" class=\"dataframe\">\n",
       "  <thead>\n",
       "    <tr style=\"text-align: right;\">\n",
       "      <th></th>\n",
       "      <th>company_hash</th>\n",
       "      <th>ctc</th>\n",
       "      <th>job_position</th>\n",
       "      <th>experience</th>\n",
       "      <th>desig</th>\n",
       "      <th>desg1</th>\n",
       "      <th>desig2</th>\n",
       "      <th>Aglo-label</th>\n",
       "    </tr>\n",
       "  </thead>\n",
       "  <tbody>\n",
       "    <tr>\n",
       "      <th>71856</th>\n",
       "      <td>220</td>\n",
       "      <td>0.157657</td>\n",
       "      <td>101</td>\n",
       "      <td>5.0</td>\n",
       "      <td>3</td>\n",
       "      <td>3</td>\n",
       "      <td>3</td>\n",
       "      <td>2</td>\n",
       "    </tr>\n",
       "    <tr>\n",
       "      <th>3343</th>\n",
       "      <td>30</td>\n",
       "      <td>0.240240</td>\n",
       "      <td>101</td>\n",
       "      <td>1.0</td>\n",
       "      <td>1</td>\n",
       "      <td>3</td>\n",
       "      <td>3</td>\n",
       "      <td>2</td>\n",
       "    </tr>\n",
       "    <tr>\n",
       "      <th>111696</th>\n",
       "      <td>353</td>\n",
       "      <td>0.045044</td>\n",
       "      <td>228</td>\n",
       "      <td>4.0</td>\n",
       "      <td>2</td>\n",
       "      <td>2</td>\n",
       "      <td>3</td>\n",
       "      <td>2</td>\n",
       "    </tr>\n",
       "    <tr>\n",
       "      <th>28754</th>\n",
       "      <td>1739</td>\n",
       "      <td>0.360360</td>\n",
       "      <td>101</td>\n",
       "      <td>9.0</td>\n",
       "      <td>1</td>\n",
       "      <td>1</td>\n",
       "      <td>1</td>\n",
       "      <td>1</td>\n",
       "    </tr>\n",
       "    <tr>\n",
       "      <th>36587</th>\n",
       "      <td>947</td>\n",
       "      <td>0.480480</td>\n",
       "      <td>370</td>\n",
       "      <td>11.0</td>\n",
       "      <td>2</td>\n",
       "      <td>1</td>\n",
       "      <td>1</td>\n",
       "      <td>0</td>\n",
       "    </tr>\n",
       "    <tr>\n",
       "      <th>...</th>\n",
       "      <td>...</td>\n",
       "      <td>...</td>\n",
       "      <td>...</td>\n",
       "      <td>...</td>\n",
       "      <td>...</td>\n",
       "      <td>...</td>\n",
       "      <td>...</td>\n",
       "      <td>...</td>\n",
       "    </tr>\n",
       "    <tr>\n",
       "      <th>37982</th>\n",
       "      <td>801</td>\n",
       "      <td>0.228228</td>\n",
       "      <td>101</td>\n",
       "      <td>2.0</td>\n",
       "      <td>1</td>\n",
       "      <td>2</td>\n",
       "      <td>2</td>\n",
       "      <td>0</td>\n",
       "    </tr>\n",
       "    <tr>\n",
       "      <th>94274</th>\n",
       "      <td>947</td>\n",
       "      <td>0.360360</td>\n",
       "      <td>177</td>\n",
       "      <td>8.0</td>\n",
       "      <td>2</td>\n",
       "      <td>2</td>\n",
       "      <td>2</td>\n",
       "      <td>0</td>\n",
       "    </tr>\n",
       "    <tr>\n",
       "      <th>35347</th>\n",
       "      <td>145</td>\n",
       "      <td>0.040540</td>\n",
       "      <td>400</td>\n",
       "      <td>9.0</td>\n",
       "      <td>2</td>\n",
       "      <td>2</td>\n",
       "      <td>3</td>\n",
       "      <td>2</td>\n",
       "    </tr>\n",
       "    <tr>\n",
       "      <th>51803</th>\n",
       "      <td>947</td>\n",
       "      <td>0.660660</td>\n",
       "      <td>228</td>\n",
       "      <td>7.0</td>\n",
       "      <td>1</td>\n",
       "      <td>1</td>\n",
       "      <td>1</td>\n",
       "      <td>0</td>\n",
       "    </tr>\n",
       "    <tr>\n",
       "      <th>70978</th>\n",
       "      <td>811</td>\n",
       "      <td>0.312612</td>\n",
       "      <td>101</td>\n",
       "      <td>5.0</td>\n",
       "      <td>2</td>\n",
       "      <td>3</td>\n",
       "      <td>3</td>\n",
       "      <td>0</td>\n",
       "    </tr>\n",
       "  </tbody>\n",
       "</table>\n",
       "<p>2801 rows × 8 columns</p>\n",
       "</div>"
      ],
      "text/plain": [
       "        company_hash       ctc  job_position  experience  desig  desg1  \\\n",
       "71856            220  0.157657           101         5.0      3      3   \n",
       "3343              30  0.240240           101         1.0      1      3   \n",
       "111696           353  0.045044           228         4.0      2      2   \n",
       "28754           1739  0.360360           101         9.0      1      1   \n",
       "36587            947  0.480480           370        11.0      2      1   \n",
       "...              ...       ...           ...         ...    ...    ...   \n",
       "37982            801  0.228228           101         2.0      1      2   \n",
       "94274            947  0.360360           177         8.0      2      2   \n",
       "35347            145  0.040540           400         9.0      2      2   \n",
       "51803            947  0.660660           228         7.0      1      1   \n",
       "70978            811  0.312612           101         5.0      2      3   \n",
       "\n",
       "        desig2  Aglo-label  \n",
       "71856        3           2  \n",
       "3343         3           2  \n",
       "111696       3           2  \n",
       "28754        1           1  \n",
       "36587        1           0  \n",
       "...        ...         ...  \n",
       "37982        2           0  \n",
       "94274        2           0  \n",
       "35347        3           2  \n",
       "51803        1           0  \n",
       "70978        3           0  \n",
       "\n",
       "[2801 rows x 8 columns]"
      ]
     },
     "execution_count": 201,
     "metadata": {},
     "output_type": "execute_result"
    }
   ],
   "source": [
    "z"
   ]
  },
  {
   "cell_type": "code",
   "execution_count": null,
   "id": "5ae72c04",
   "metadata": {},
   "outputs": [],
   "source": []
  }
 ],
 "metadata": {
  "kernelspec": {
   "display_name": "Python 3",
   "language": "python",
   "name": "python3"
  },
  "language_info": {
   "codemirror_mode": {
    "name": "ipython",
    "version": 3
   },
   "file_extension": ".py",
   "mimetype": "text/x-python",
   "name": "python",
   "nbconvert_exporter": "python",
   "pygments_lexer": "ipython3",
   "version": "3.8.8"
  }
 },
 "nbformat": 4,
 "nbformat_minor": 5
}
